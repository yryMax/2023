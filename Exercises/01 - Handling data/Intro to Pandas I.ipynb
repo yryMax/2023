{
 "cells": [
  {
   "cell_type": "markdown",
   "metadata": {
    "toc": "true"
   },
   "source": [
    "<h1>Table of Contents<span class=\"tocSkip\"></span></h1>\n",
    "<div class=\"toc\"><ul class=\"toc-item\"><li><span><a href=\"#Introduction-to-Pandas\" data-toc-modified-id=\"Introduction-to-Pandas-1\">Introduction to Pandas</a></span><ul class=\"toc-item\"><li><span><a href=\"#Pandas-Data-Structures\" data-toc-modified-id=\"Pandas-Data-Structures-1.1\">Pandas Data Structures</a></span><ul class=\"toc-item\"><li><span><a href=\"#Series\" data-toc-modified-id=\"Series-1.1.1\">Series</a></span></li><li><span><a href=\"#DataFrame\" data-toc-modified-id=\"DataFrame-1.1.2\">DataFrame</a></span></li><li><span><a href=\"#Exercise-1\" data-toc-modified-id=\"Exercise-1-1.1.3\">Exercise 1</a></span></li><li><span><a href=\"#Exercise-2\" data-toc-modified-id=\"Exercise-2-1.1.4\">Exercise 2</a></span></li></ul></li><li><span><a href=\"#Importing-data\" data-toc-modified-id=\"Importing-data-1.2\">Importing data</a></span><ul class=\"toc-item\"><li><ul class=\"toc-item\"><li><span><a href=\"#Missing-Values\" data-toc-modified-id=\"Missing-Values-1.2.0.1\">Missing Values</a></span></li><li><span><a href=\"#Microsoft-Excel\" data-toc-modified-id=\"Microsoft-Excel-1.2.0.2\">Microsoft Excel</a></span></li></ul></li></ul></li><li><span><a href=\"#Indexing-and-Selection\" data-toc-modified-id=\"Indexing-and-Selection-1.3\">Indexing and Selection</a></span><ul class=\"toc-item\"><li><span><a href=\"#Exercise-3\" data-toc-modified-id=\"Exercise-3-1.3.1\">Exercise 3</a></span></li><li><span><a href=\"#Exercise-4\" data-toc-modified-id=\"Exercise-4-1.3.2\">Exercise 4</a></span></li></ul></li><li><span><a href=\"#Hierarchical-indexing\" data-toc-modified-id=\"Hierarchical-indexing-1.4\">Hierarchical indexing</a></span></li><li><span><a href=\"#Operations\" data-toc-modified-id=\"Operations-1.5\">Operations</a></span></li><li><span><a href=\"#Sorting\" data-toc-modified-id=\"Sorting-1.6\">Sorting</a></span><ul class=\"toc-item\"><li><span><a href=\"#Exercise-5\" data-toc-modified-id=\"Exercise-5-1.6.1\">Exercise 5</a></span></li></ul></li><li><span><a href=\"#Missing-data\" data-toc-modified-id=\"Missing-data-1.7\">Missing data</a></span></li><li><span><a href=\"#Data-summarization\" data-toc-modified-id=\"Data-summarization-1.8\">Data summarization</a></span></li><li><span><a href=\"#Plotting\" data-toc-modified-id=\"Plotting-1.9\">Plotting</a></span></li><li><span><a href=\"#Writing-Data-to-Files\" data-toc-modified-id=\"Writing-Data-to-Files-1.10\">Writing Data to Files</a></span></li><li><span><a href=\"#References\" data-toc-modified-id=\"References-1.11\">References</a></span></li></ul></li></ul></div>"
   ]
  },
  {
   "cell_type": "markdown",
   "metadata": {},
   "source": [
    "# Introduction to Pandas\n",
    "\n",
    "**pandas** is a Python package providing fast, flexible, and expressive data structures designed to work with *relational* or *labeled* data both. It is a fundamental high-level building block for doing practical, real world data analysis in Python. \n",
    "\n",
    "pandas is well suited for:\n",
    "\n",
    "- Tabular data with heterogeneously-typed columns, as in an SQL table or Excel spreadsheet\n",
    "- Ordered and unordered (not necessarily fixed-frequency) time series data.\n",
    "- Arbitrary matrix data (homogeneously typed or heterogeneous) with row and column labels\n",
    "- Any other form of observational / statistical data sets. The data actually need not be labeled at all to be placed into a pandas data structure\n",
    "\n",
    "\n",
    "Key features:\n",
    "    \n",
    "- Easy handling of **missing data**\n",
    "- **Size mutability**: columns can be inserted and deleted from DataFrame and higher dimensional objects\n",
    "- Automatic and explicit **data alignment**: objects can be explicitly aligned to a set of labels, or the data can be aligned automatically\n",
    "- Powerful, flexible **group by functionality** to perform split-apply-combine operations on data sets\n",
    "- Intelligent label-based **slicing, fancy indexing, and subsetting** of large data sets\n",
    "- Intuitive **merging and joining** data sets\n",
    "- Flexible **reshaping and pivoting** of data sets\n",
    "- **Hierarchical labeling** of axes\n",
    "- Robust **IO tools** for loading data from flat files, Excel files, databases, and HDF5\n",
    "- **Time series functionality**: date range generation and frequency conversion, moving window statistics, moving window linear regressions, date shifting and lagging, etc."
   ]
  },
  {
   "cell_type": "code",
   "execution_count": 1,
   "metadata": {
    "ExecuteTime": {
     "end_time": "2024-01-10T21:07:28.715845Z",
     "start_time": "2024-01-10T21:07:28.410523300Z"
    }
   },
   "outputs": [],
   "source": [
    "import pandas as pd\n",
    "import numpy as np\n",
    "pd.options.mode.chained_assignment = None  # default='warn', Mutes warnings when copying a slice from a DataFrame."
   ]
  },
  {
   "cell_type": "markdown",
   "metadata": {},
   "source": [
    "## Pandas Data Structures"
   ]
  },
  {
   "cell_type": "markdown",
   "metadata": {},
   "source": [
    "### Series\n",
    "\n",
    "A **Series** is a single vector of data (like a NumPy 1-d array) with an *index* that labels each element in the vector."
   ]
  },
  {
   "cell_type": "code",
   "execution_count": 2,
   "metadata": {
    "ExecuteTime": {
     "end_time": "2024-01-10T21:07:28.748602200Z",
     "start_time": "2024-01-10T21:07:28.700920700Z"
    }
   },
   "outputs": [
    {
     "data": {
      "text/plain": "0     632\n1    1638\n2     569\n3     115\ndtype: int64"
     },
     "execution_count": 2,
     "metadata": {},
     "output_type": "execute_result"
    }
   ],
   "source": [
    "counts = pd.Series([632, 1638, 569, 115])\n",
    "counts"
   ]
  },
  {
   "cell_type": "markdown",
   "metadata": {},
   "source": [
    "If an <b>index</b> is not specified, a default sequence of integers is assigned as the index. A NumPy array comprises the values of the `Series`, while the index is a pandas `Index` object."
   ]
  },
  {
   "cell_type": "code",
   "execution_count": 3,
   "metadata": {
    "ExecuteTime": {
     "end_time": "2024-01-10T21:07:28.758104800Z",
     "start_time": "2024-01-10T21:07:28.706920100Z"
    }
   },
   "outputs": [
    {
     "data": {
      "text/plain": "array([ 632, 1638,  569,  115])"
     },
     "execution_count": 3,
     "metadata": {},
     "output_type": "execute_result"
    }
   ],
   "source": [
    "counts.values"
   ]
  },
  {
   "cell_type": "code",
   "execution_count": 4,
   "metadata": {
    "ExecuteTime": {
     "end_time": "2024-01-10T21:07:28.914048900Z",
     "start_time": "2024-01-10T21:07:28.722845800Z"
    }
   },
   "outputs": [
    {
     "data": {
      "text/plain": "RangeIndex(start=0, stop=4, step=1)"
     },
     "execution_count": 4,
     "metadata": {},
     "output_type": "execute_result"
    }
   ],
   "source": [
    "counts.index"
   ]
  },
  {
   "cell_type": "markdown",
   "metadata": {},
   "source": [
    "We can assign meaningful labels to the index, if they are available:"
   ]
  },
  {
   "cell_type": "code",
   "execution_count": 5,
   "metadata": {
    "ExecuteTime": {
     "end_time": "2024-01-10T21:07:28.944124100Z",
     "start_time": "2024-01-10T21:07:28.725871Z"
    }
   },
   "outputs": [
    {
     "data": {
      "text/plain": "Firmicutes         632\nProteobacteria    1638\nActinobacteria     569\nBacteroidetes      115\ndtype: int64"
     },
     "execution_count": 5,
     "metadata": {},
     "output_type": "execute_result"
    }
   ],
   "source": [
    "bacteria = pd.Series([632, 1638, 569, 115], \n",
    "    index=['Firmicutes', 'Proteobacteria', 'Actinobacteria', 'Bacteroidetes'])\n",
    "\n",
    "bacteria"
   ]
  },
  {
   "cell_type": "markdown",
   "metadata": {},
   "source": [
    "These labels can be used to refer to the values in the `Series`."
   ]
  },
  {
   "cell_type": "code",
   "execution_count": 6,
   "metadata": {
    "ExecuteTime": {
     "end_time": "2024-01-10T21:07:28.963189Z",
     "start_time": "2024-01-10T21:07:28.739457300Z"
    }
   },
   "outputs": [
    {
     "data": {
      "text/plain": "569"
     },
     "execution_count": 6,
     "metadata": {},
     "output_type": "execute_result"
    }
   ],
   "source": [
    "bacteria['Actinobacteria'] #dictionary style"
   ]
  },
  {
   "cell_type": "code",
   "execution_count": 7,
   "metadata": {
    "ExecuteTime": {
     "end_time": "2024-01-10T21:07:29.115943100Z",
     "start_time": "2024-01-10T21:07:28.781109600Z"
    }
   },
   "outputs": [
    {
     "data": {
      "text/plain": "Proteobacteria    1638\nActinobacteria     569\ndtype: int64"
     },
     "execution_count": 7,
     "metadata": {},
     "output_type": "execute_result"
    }
   ],
   "source": [
    "bacteria[[name.endswith('bacteria') for name in bacteria.index]]"
   ]
  },
  {
   "cell_type": "code",
   "execution_count": 8,
   "metadata": {
    "ExecuteTime": {
     "end_time": "2024-01-10T21:07:29.272208400Z",
     "start_time": "2024-01-10T21:07:29.020156100Z"
    }
   },
   "outputs": [
    {
     "data": {
      "text/plain": "[False, True, True, False]"
     },
     "execution_count": 8,
     "metadata": {},
     "output_type": "execute_result"
    }
   ],
   "source": [
    "[name.endswith('bacteria') for name in bacteria.index] #mask"
   ]
  },
  {
   "cell_type": "markdown",
   "metadata": {},
   "source": [
    "Notice that the indexing operation preserved the association between the values and the corresponding indices.\n",
    "\n",
    "We can still use <b>positional indexing</b> if we wish."
   ]
  },
  {
   "cell_type": "code",
   "execution_count": 125,
   "metadata": {
    "ExecuteTime": {
     "end_time": "2024-01-10T21:07:57.627881300Z",
     "start_time": "2024-01-10T21:07:57.589882200Z"
    }
   },
   "outputs": [
    {
     "data": {
      "text/plain": "1638"
     },
     "execution_count": 125,
     "metadata": {},
     "output_type": "execute_result"
    }
   ],
   "source": [
    "bacteria.iloc[1]"
   ]
  },
  {
   "cell_type": "markdown",
   "metadata": {},
   "source": [
    "We can give both the array of values and the index <b>meaningful labels</b> themselves:"
   ]
  },
  {
   "cell_type": "code",
   "execution_count": 10,
   "metadata": {
    "ExecuteTime": {
     "end_time": "2024-01-10T21:07:29.570926600Z",
     "start_time": "2024-01-10T21:07:29.376722Z"
    }
   },
   "outputs": [
    {
     "data": {
      "text/plain": "phylum\nFirmicutes         632\nProteobacteria    1638\nActinobacteria     569\nBacteroidetes      115\nName: counts, dtype: int64"
     },
     "execution_count": 10,
     "metadata": {},
     "output_type": "execute_result"
    }
   ],
   "source": [
    "bacteria.name = 'counts'\n",
    "bacteria.index.name = 'phylum'\n",
    "bacteria"
   ]
  },
  {
   "cell_type": "markdown",
   "metadata": {},
   "source": [
    "NumPy's math functions and other operations can be applied to Series without losing the data structure."
   ]
  },
  {
   "cell_type": "code",
   "execution_count": 11,
   "metadata": {
    "ExecuteTime": {
     "end_time": "2024-01-10T21:07:29.661537100Z",
     "start_time": "2024-01-10T21:07:29.452313300Z"
    }
   },
   "outputs": [
    {
     "data": {
      "text/plain": "phylum\nFirmicutes        6.448889\nProteobacteria    7.401231\nActinobacteria    6.343880\nBacteroidetes     4.744932\nName: counts, dtype: float64"
     },
     "execution_count": 11,
     "metadata": {},
     "output_type": "execute_result"
    }
   ],
   "source": [
    "np.log(bacteria)"
   ]
  },
  {
   "cell_type": "code",
   "execution_count": 126,
   "metadata": {
    "ExecuteTime": {
     "end_time": "2024-01-10T21:08:35.921440800Z",
     "start_time": "2024-01-10T21:08:35.886438700Z"
    }
   },
   "outputs": [
    {
     "data": {
      "text/plain": "phylum\nFirmicutes        6.448889\nProteobacteria    7.401231\nActinobacteria    6.343880\nBacteroidetes     4.744932\nName: counts, dtype: float64"
     },
     "execution_count": 126,
     "metadata": {},
     "output_type": "execute_result"
    }
   ],
   "source": [
    "bacteria.apply(np.log)"
   ]
  },
  {
   "cell_type": "markdown",
   "metadata": {},
   "source": [
    "We can also filter according to the values in the `Series`:"
   ]
  },
  {
   "cell_type": "code",
   "execution_count": 127,
   "metadata": {
    "ExecuteTime": {
     "end_time": "2024-01-10T21:08:49.018362900Z",
     "start_time": "2024-01-10T21:08:48.975352600Z"
    }
   },
   "outputs": [
    {
     "data": {
      "text/plain": "phylum\nProteobacteria    1638\nName: counts, dtype: int64"
     },
     "execution_count": 127,
     "metadata": {},
     "output_type": "execute_result"
    }
   ],
   "source": [
    "bacteria[bacteria > 1000]"
   ]
  },
  {
   "cell_type": "markdown",
   "metadata": {},
   "source": [
    "A `Series` can be thought of as an ordered key-value store. In fact, we can create one from a `dict`:"
   ]
  },
  {
   "cell_type": "code",
   "execution_count": 131,
   "metadata": {
    "ExecuteTime": {
     "end_time": "2024-01-10T21:31:04.733691900Z",
     "start_time": "2024-01-10T21:31:04.610894900Z"
    }
   },
   "outputs": [
    {
     "data": {
      "text/plain": "idx\nidx1    1\nidx2    2\nidx3    3\nName: value, dtype: int64"
     },
     "execution_count": 131,
     "metadata": {},
     "output_type": "execute_result"
    }
   ],
   "source": [
    "dict = {\n",
    "    \"idx1\": 1,\n",
    "    \"idx2\": 2,\n",
    "    \"idx3\": 3\n",
    "}\n",
    "ds = pd.Series(dict)\n",
    "ds.name = 'value'\n",
    "ds.index.name = 'idx'\n",
    "ds"
   ]
  },
  {
   "cell_type": "markdown",
   "metadata": {},
   "source": [
    "Notice that the `Series` is created in key-sorted order.\n",
    "\n",
    "If we pass a custom index to `Series`, it will select the corresponding values from the dict, and treat indices without corrsponding values as missing. Pandas uses the `NaN` (not a number) type for missing values."
   ]
  },
  {
   "cell_type": "code",
   "execution_count": 132,
   "metadata": {
    "ExecuteTime": {
     "end_time": "2024-01-10T21:31:41.067867Z",
     "start_time": "2024-01-10T21:31:40.936894900Z"
    }
   },
   "outputs": [
    {
     "data": {
      "text/plain": "Cyanobacteria    NaN\nFirmicutes       NaN\nProteobacteria   NaN\nActinobacteria   NaN\ndtype: float64"
     },
     "execution_count": 132,
     "metadata": {},
     "output_type": "execute_result"
    }
   ],
   "source": [
    "bacteria2 = pd.Series(dict, \n",
    "                      index=['Cyanobacteria','Firmicutes',\n",
    "                             'Proteobacteria','Actinobacteria'])\n",
    "bacteria2"
   ]
  },
  {
   "cell_type": "code",
   "execution_count": 133,
   "metadata": {
    "ExecuteTime": {
     "end_time": "2024-01-10T21:31:46.648727400Z",
     "start_time": "2024-01-10T21:31:46.625716900Z"
    }
   },
   "outputs": [
    {
     "data": {
      "text/plain": "Cyanobacteria     True\nFirmicutes        True\nProteobacteria    True\nActinobacteria    True\ndtype: bool"
     },
     "execution_count": 133,
     "metadata": {},
     "output_type": "execute_result"
    }
   ],
   "source": [
    "bacteria2.isnull()"
   ]
  },
  {
   "cell_type": "markdown",
   "metadata": {},
   "source": [
    "Critically, the labels are used to **align data** when used in operations with other Series objects:"
   ]
  },
  {
   "cell_type": "code",
   "execution_count": 134,
   "metadata": {
    "ExecuteTime": {
     "end_time": "2024-01-10T21:31:49.570103500Z",
     "start_time": "2024-01-10T21:31:49.549587500Z"
    }
   },
   "outputs": [
    {
     "data": {
      "text/plain": "Actinobacteria   NaN\nBacteroidetes    NaN\nCyanobacteria    NaN\nFirmicutes       NaN\nProteobacteria   NaN\ndtype: float64"
     },
     "execution_count": 134,
     "metadata": {},
     "output_type": "execute_result"
    }
   ],
   "source": [
    "bacteria + bacteria2"
   ]
  },
  {
   "cell_type": "markdown",
   "metadata": {},
   "source": [
    "Contrast this with NumPy arrays, where arrays of the same length will combine values <b>element-wise</b>; adding Series combined values with the same label in the resulting series. Notice also that the missing values were propagated by addition."
   ]
  },
  {
   "cell_type": "markdown",
   "metadata": {},
   "source": [
    "### DataFrame\n",
    "\n",
    "Inevitably, we want to be able to store, view and manipulate data that is *multivariate*, where for every index there are multiple fields or columns of data, often of varying data type.\n",
    "\n",
    "A `DataFrame` is a tabular data structure, encapsulating multiple series like columns in a spreadsheet. Data are stored internally as a 2-dimensional object, but the `DataFrame` allows us to represent and manipulate higher-dimensional data."
   ]
  },
  {
   "cell_type": "code",
   "execution_count": 18,
   "metadata": {
    "ExecuteTime": {
     "end_time": "2024-01-10T21:07:30.453157500Z",
     "start_time": "2024-01-10T21:07:30.288319Z"
    }
   },
   "outputs": [
    {
     "data": {
      "text/plain": "   value  patient          phylum\n0    632        1      Firmicutes\n1   1638        1  Proteobacteria\n2    569        1  Actinobacteria\n3    115        1   Bacteroidetes\n4    433        2      Firmicutes\n5   1130        2  Proteobacteria\n6    754        2  Actinobacteria\n7    555        2   Bacteroidetes",
      "text/html": "<div>\n<style scoped>\n    .dataframe tbody tr th:only-of-type {\n        vertical-align: middle;\n    }\n\n    .dataframe tbody tr th {\n        vertical-align: top;\n    }\n\n    .dataframe thead th {\n        text-align: right;\n    }\n</style>\n<table border=\"1\" class=\"dataframe\">\n  <thead>\n    <tr style=\"text-align: right;\">\n      <th></th>\n      <th>value</th>\n      <th>patient</th>\n      <th>phylum</th>\n    </tr>\n  </thead>\n  <tbody>\n    <tr>\n      <th>0</th>\n      <td>632</td>\n      <td>1</td>\n      <td>Firmicutes</td>\n    </tr>\n    <tr>\n      <th>1</th>\n      <td>1638</td>\n      <td>1</td>\n      <td>Proteobacteria</td>\n    </tr>\n    <tr>\n      <th>2</th>\n      <td>569</td>\n      <td>1</td>\n      <td>Actinobacteria</td>\n    </tr>\n    <tr>\n      <th>3</th>\n      <td>115</td>\n      <td>1</td>\n      <td>Bacteroidetes</td>\n    </tr>\n    <tr>\n      <th>4</th>\n      <td>433</td>\n      <td>2</td>\n      <td>Firmicutes</td>\n    </tr>\n    <tr>\n      <th>5</th>\n      <td>1130</td>\n      <td>2</td>\n      <td>Proteobacteria</td>\n    </tr>\n    <tr>\n      <th>6</th>\n      <td>754</td>\n      <td>2</td>\n      <td>Actinobacteria</td>\n    </tr>\n    <tr>\n      <th>7</th>\n      <td>555</td>\n      <td>2</td>\n      <td>Bacteroidetes</td>\n    </tr>\n  </tbody>\n</table>\n</div>"
     },
     "execution_count": 18,
     "metadata": {},
     "output_type": "execute_result"
    }
   ],
   "source": [
    "data = pd.DataFrame({'value':[632, 1638, 569, 115, 433, 1130, 754, 555],\n",
    "                     'patient':[1, 1, 1, 1, 2, 2, 2, 2],\n",
    "                     'phylum':['Firmicutes', 'Proteobacteria', 'Actinobacteria', \n",
    "    'Bacteroidetes', 'Firmicutes', 'Proteobacteria', 'Actinobacteria', 'Bacteroidetes']})\n",
    "data"
   ]
  },
  {
   "cell_type": "markdown",
   "metadata": {},
   "source": [
    "Notice the `DataFrame` is sorted by column name. We can change the order by indexing them in the order we desire:"
   ]
  },
  {
   "cell_type": "code",
   "execution_count": 135,
   "metadata": {
    "ExecuteTime": {
     "end_time": "2024-01-10T21:32:23.985854700Z",
     "start_time": "2024-01-10T21:32:23.963457700Z"
    }
   },
   "outputs": [
    {
     "data": {
      "text/plain": "           phylum  value  patient\n0      Firmicutes    632        1\n1  Proteobacteria   1638        1\n2  Actinobacteria    569        1\n3   Bacteroidetes     14        1\n4      Firmicutes     21        2\n5  Proteobacteria      0        2\n6  Actinobacteria      5        2\n7   Bacteroidetes    555        2",
      "text/html": "<div>\n<style scoped>\n    .dataframe tbody tr th:only-of-type {\n        vertical-align: middle;\n    }\n\n    .dataframe tbody tr th {\n        vertical-align: top;\n    }\n\n    .dataframe thead th {\n        text-align: right;\n    }\n</style>\n<table border=\"1\" class=\"dataframe\">\n  <thead>\n    <tr style=\"text-align: right;\">\n      <th></th>\n      <th>phylum</th>\n      <th>value</th>\n      <th>patient</th>\n    </tr>\n  </thead>\n  <tbody>\n    <tr>\n      <th>0</th>\n      <td>Firmicutes</td>\n      <td>632</td>\n      <td>1</td>\n    </tr>\n    <tr>\n      <th>1</th>\n      <td>Proteobacteria</td>\n      <td>1638</td>\n      <td>1</td>\n    </tr>\n    <tr>\n      <th>2</th>\n      <td>Actinobacteria</td>\n      <td>569</td>\n      <td>1</td>\n    </tr>\n    <tr>\n      <th>3</th>\n      <td>Bacteroidetes</td>\n      <td>14</td>\n      <td>1</td>\n    </tr>\n    <tr>\n      <th>4</th>\n      <td>Firmicutes</td>\n      <td>21</td>\n      <td>2</td>\n    </tr>\n    <tr>\n      <th>5</th>\n      <td>Proteobacteria</td>\n      <td>0</td>\n      <td>2</td>\n    </tr>\n    <tr>\n      <th>6</th>\n      <td>Actinobacteria</td>\n      <td>5</td>\n      <td>2</td>\n    </tr>\n    <tr>\n      <th>7</th>\n      <td>Bacteroidetes</td>\n      <td>555</td>\n      <td>2</td>\n    </tr>\n  </tbody>\n</table>\n</div>"
     },
     "execution_count": 135,
     "metadata": {},
     "output_type": "execute_result"
    }
   ],
   "source": [
    "data[['phylum','value','patient']]"
   ]
  },
  {
   "cell_type": "markdown",
   "metadata": {},
   "source": [
    "A `DataFrame` has a second index, representing the columns:"
   ]
  },
  {
   "cell_type": "code",
   "execution_count": 136,
   "metadata": {
    "ExecuteTime": {
     "end_time": "2024-01-10T21:32:26.972171400Z",
     "start_time": "2024-01-10T21:32:26.950189600Z"
    }
   },
   "outputs": [
    {
     "data": {
      "text/plain": "RangeIndex(start=0, stop=8, step=1)"
     },
     "execution_count": 136,
     "metadata": {},
     "output_type": "execute_result"
    }
   ],
   "source": [
    "data.index"
   ]
  },
  {
   "cell_type": "markdown",
   "metadata": {},
   "source": [
    "The `dtypes` attribute reveals the data type for each column in our DataFrame. \n",
    "\n",
    "- `int64` is numeric integer values \n",
    "- `object` strings (letters and numbers)\n",
    "- `float64` floating-point values"
   ]
  },
  {
   "cell_type": "code",
   "execution_count": 137,
   "metadata": {
    "ExecuteTime": {
     "end_time": "2024-01-10T21:32:44.359577900Z",
     "start_time": "2024-01-10T21:32:44.295680900Z"
    }
   },
   "outputs": [
    {
     "data": {
      "text/plain": "patient        int64\nphylum        object\nvalue          int64\nyear           int64\ntreatment    float64\ndtype: object"
     },
     "execution_count": 137,
     "metadata": {},
     "output_type": "execute_result"
    }
   ],
   "source": [
    "data.dtypes"
   ]
  },
  {
   "cell_type": "markdown",
   "metadata": {},
   "source": [
    "If we wish to access columns, we can do so either by dict-like indexing or by attribute:"
   ]
  },
  {
   "cell_type": "code",
   "execution_count": 138,
   "metadata": {
    "ExecuteTime": {
     "end_time": "2024-01-10T21:33:38.562834100Z",
     "start_time": "2024-01-10T21:33:38.541834100Z"
    }
   },
   "outputs": [
    {
     "data": {
      "text/plain": "0    1\n1    1\n2    1\n3    1\n4    2\n5    2\n6    2\n7    2\nName: patient, dtype: int64"
     },
     "execution_count": 138,
     "metadata": {},
     "output_type": "execute_result"
    }
   ],
   "source": [
    "data['patient']"
   ]
  },
  {
   "cell_type": "code",
   "execution_count": 23,
   "metadata": {
    "ExecuteTime": {
     "end_time": "2024-01-10T21:07:31.097562500Z",
     "start_time": "2024-01-10T21:07:30.943829300Z"
    }
   },
   "outputs": [
    {
     "data": {
      "text/plain": "0     632\n1    1638\n2     569\n3     115\n4     433\n5    1130\n6     754\n7     555\nName: value, dtype: int64"
     },
     "execution_count": 23,
     "metadata": {},
     "output_type": "execute_result"
    }
   ],
   "source": [
    "data.value"
   ]
  },
  {
   "cell_type": "code",
   "execution_count": 140,
   "metadata": {
    "ExecuteTime": {
     "end_time": "2024-01-10T21:34:07.387180200Z",
     "start_time": "2024-01-10T21:34:07.263927400Z"
    }
   },
   "outputs": [
    {
     "data": {
      "text/plain": "   value\n0    632\n1   1638\n2    569\n3     14\n4     21\n5      0\n6      5\n7    555",
      "text/html": "<div>\n<style scoped>\n    .dataframe tbody tr th:only-of-type {\n        vertical-align: middle;\n    }\n\n    .dataframe tbody tr th {\n        vertical-align: top;\n    }\n\n    .dataframe thead th {\n        text-align: right;\n    }\n</style>\n<table border=\"1\" class=\"dataframe\">\n  <thead>\n    <tr style=\"text-align: right;\">\n      <th></th>\n      <th>value</th>\n    </tr>\n  </thead>\n  <tbody>\n    <tr>\n      <th>0</th>\n      <td>632</td>\n    </tr>\n    <tr>\n      <th>1</th>\n      <td>1638</td>\n    </tr>\n    <tr>\n      <th>2</th>\n      <td>569</td>\n    </tr>\n    <tr>\n      <th>3</th>\n      <td>14</td>\n    </tr>\n    <tr>\n      <th>4</th>\n      <td>21</td>\n    </tr>\n    <tr>\n      <th>5</th>\n      <td>0</td>\n    </tr>\n    <tr>\n      <th>6</th>\n      <td>5</td>\n    </tr>\n    <tr>\n      <th>7</th>\n      <td>555</td>\n    </tr>\n  </tbody>\n</table>\n</div>"
     },
     "execution_count": 140,
     "metadata": {},
     "output_type": "execute_result"
    }
   ],
   "source": [
    "data[['value']]"
   ]
  },
  {
   "cell_type": "code",
   "execution_count": 142,
   "metadata": {
    "ExecuteTime": {
     "end_time": "2024-01-10T21:34:20.323985600Z",
     "start_time": "2024-01-10T21:34:20.272151400Z"
    }
   },
   "outputs": [
    {
     "data": {
      "text/plain": "pandas.core.series.Series"
     },
     "execution_count": 142,
     "metadata": {},
     "output_type": "execute_result"
    }
   ],
   "source": [
    "type(data[['value']])"
   ]
  },
  {
   "cell_type": "code",
   "execution_count": 26,
   "metadata": {
    "ExecuteTime": {
     "end_time": "2024-01-10T21:07:31.364712400Z",
     "start_time": "2024-01-10T21:07:31.228089800Z"
    }
   },
   "outputs": [
    {
     "data": {
      "text/plain": "pandas.core.series.Series"
     },
     "execution_count": 26,
     "metadata": {},
     "output_type": "execute_result"
    }
   ],
   "source": [
    "type(data.value)"
   ]
  },
  {
   "cell_type": "markdown",
   "metadata": {},
   "source": [
    "Notice this is different than with `Series`, where dict-like indexing retrieved a particular element (row). \n",
    "\n",
    "If we want access to a row in a `DataFrame`, we index its `loc` attribute."
   ]
  },
  {
   "cell_type": "code",
   "execution_count": 27,
   "metadata": {
    "ExecuteTime": {
     "end_time": "2024-01-10T21:07:31.550082600Z",
     "start_time": "2024-01-10T21:07:31.364712400Z"
    }
   },
   "outputs": [
    {
     "data": {
      "text/plain": "value                115\npatient                1\nphylum     Bacteroidetes\nName: 3, dtype: object"
     },
     "execution_count": 27,
     "metadata": {},
     "output_type": "execute_result"
    }
   ],
   "source": [
    "data.loc[3]"
   ]
  },
  {
   "cell_type": "markdown",
   "metadata": {},
   "source": [
    "### Exercise 1\n",
    "\n",
    "Find the size of the first dimension of `data`."
   ]
  },
  {
   "cell_type": "code",
   "execution_count": 143,
   "metadata": {
    "ExecuteTime": {
     "end_time": "2024-01-10T21:34:41.355581200Z",
     "start_time": "2024-01-10T21:34:41.292095Z"
    }
   },
   "outputs": [
    {
     "data": {
      "text/plain": "(8, 5)"
     },
     "execution_count": 143,
     "metadata": {},
     "output_type": "execute_result"
    }
   ],
   "source": [
    "data.shape[0]\n",
    "data.shape"
   ]
  },
  {
   "cell_type": "markdown",
   "metadata": {},
   "source": [
    "An alternative way of initializing a `DataFrame` is with a list of dicts:"
   ]
  },
  {
   "cell_type": "code",
   "execution_count": 29,
   "metadata": {
    "ExecuteTime": {
     "end_time": "2024-01-10T21:07:31.763390800Z",
     "start_time": "2024-01-10T21:07:31.591608700Z"
    }
   },
   "outputs": [
    {
     "data": {
      "text/plain": "   patient          phylum  value\n0        1      Firmicutes    632\n1        1  Proteobacteria   1638\n2        1  Actinobacteria    569\n3        1   Bacteroidetes    115\n4        2      Firmicutes    433\n5        2  Proteobacteria   1130\n6        2  Actinobacteria    754\n7        2   Bacteroidetes    555",
      "text/html": "<div>\n<style scoped>\n    .dataframe tbody tr th:only-of-type {\n        vertical-align: middle;\n    }\n\n    .dataframe tbody tr th {\n        vertical-align: top;\n    }\n\n    .dataframe thead th {\n        text-align: right;\n    }\n</style>\n<table border=\"1\" class=\"dataframe\">\n  <thead>\n    <tr style=\"text-align: right;\">\n      <th></th>\n      <th>patient</th>\n      <th>phylum</th>\n      <th>value</th>\n    </tr>\n  </thead>\n  <tbody>\n    <tr>\n      <th>0</th>\n      <td>1</td>\n      <td>Firmicutes</td>\n      <td>632</td>\n    </tr>\n    <tr>\n      <th>1</th>\n      <td>1</td>\n      <td>Proteobacteria</td>\n      <td>1638</td>\n    </tr>\n    <tr>\n      <th>2</th>\n      <td>1</td>\n      <td>Actinobacteria</td>\n      <td>569</td>\n    </tr>\n    <tr>\n      <th>3</th>\n      <td>1</td>\n      <td>Bacteroidetes</td>\n      <td>115</td>\n    </tr>\n    <tr>\n      <th>4</th>\n      <td>2</td>\n      <td>Firmicutes</td>\n      <td>433</td>\n    </tr>\n    <tr>\n      <th>5</th>\n      <td>2</td>\n      <td>Proteobacteria</td>\n      <td>1130</td>\n    </tr>\n    <tr>\n      <th>6</th>\n      <td>2</td>\n      <td>Actinobacteria</td>\n      <td>754</td>\n    </tr>\n    <tr>\n      <th>7</th>\n      <td>2</td>\n      <td>Bacteroidetes</td>\n      <td>555</td>\n    </tr>\n  </tbody>\n</table>\n</div>"
     },
     "execution_count": 29,
     "metadata": {},
     "output_type": "execute_result"
    }
   ],
   "source": [
    "data = pd.DataFrame([{'patient': 1, 'phylum': 'Firmicutes', 'value': 632},\n",
    "                    {'patient': 1, 'phylum': 'Proteobacteria', 'value': 1638},\n",
    "                    {'patient': 1, 'phylum': 'Actinobacteria', 'value': 569},\n",
    "                    {'patient': 1, 'phylum': 'Bacteroidetes', 'value': 115},\n",
    "                    {'patient': 2, 'phylum': 'Firmicutes', 'value': 433},\n",
    "                    {'patient': 2, 'phylum': 'Proteobacteria', 'value': 1130},\n",
    "                    {'patient': 2, 'phylum': 'Actinobacteria', 'value': 754},\n",
    "                    {'patient': 2, 'phylum': 'Bacteroidetes', 'value': 555}])\n",
    "data"
   ]
  },
  {
   "cell_type": "markdown",
   "metadata": {},
   "source": [
    "It's important to note that the `Series` returned when a `DataFrame` is indexed is merely a **view** on the `DataFrame`, and not a copy of the data itself. So you must be cautious when manipulating this data:"
   ]
  },
  {
   "cell_type": "code",
   "execution_count": 30,
   "metadata": {
    "ExecuteTime": {
     "end_time": "2024-01-10T21:07:31.826875600Z",
     "start_time": "2024-01-10T21:07:31.740367Z"
    }
   },
   "outputs": [
    {
     "data": {
      "text/plain": "0     632\n1    1638\n2     569\n3     115\n4     433\n5    1130\n6     754\n7     555\nName: value, dtype: int64"
     },
     "execution_count": 30,
     "metadata": {},
     "output_type": "execute_result"
    }
   ],
   "source": [
    "vals = data.value\n",
    "vals"
   ]
  },
  {
   "cell_type": "code",
   "execution_count": 31,
   "metadata": {
    "ExecuteTime": {
     "end_time": "2024-01-10T21:07:31.959326200Z",
     "start_time": "2024-01-10T21:07:31.812344100Z"
    }
   },
   "outputs": [
    {
     "data": {
      "text/plain": "0     632\n1    1638\n2     569\n3     115\n4     433\n5       0\n6     754\n7     555\nName: value, dtype: int64"
     },
     "execution_count": 31,
     "metadata": {},
     "output_type": "execute_result"
    }
   ],
   "source": [
    "vals[5] = 0\n",
    "data.value"
   ]
  },
  {
   "cell_type": "markdown",
   "metadata": {},
   "source": [
    "If we plan on modifying an extracted Series, its a good idea to make a copy."
   ]
  },
  {
   "cell_type": "code",
   "execution_count": 32,
   "metadata": {
    "ExecuteTime": {
     "end_time": "2024-01-10T21:07:32.097044200Z",
     "start_time": "2024-01-10T21:07:31.959326200Z"
    }
   },
   "outputs": [
    {
     "data": {
      "text/plain": "0     632\n1    1638\n2     569\n3     115\n4     433\n5       0\n6     754\n7     555\nName: value, dtype: int64"
     },
     "execution_count": 32,
     "metadata": {},
     "output_type": "execute_result"
    }
   ],
   "source": [
    "vals = data.value.copy()\n",
    "vals[5] = 1000\n",
    "data.value"
   ]
  },
  {
   "cell_type": "markdown",
   "metadata": {},
   "source": [
    "We can create or modify columns by assignment:"
   ]
  },
  {
   "cell_type": "code",
   "execution_count": 33,
   "metadata": {
    "ExecuteTime": {
     "end_time": "2024-01-10T21:07:32.271326700Z",
     "start_time": "2024-01-10T21:07:32.075039700Z"
    }
   },
   "outputs": [
    {
     "data": {
      "text/plain": "   patient          phylum  value\n0        1      Firmicutes    632\n1        1  Proteobacteria   1638\n2        1  Actinobacteria    569\n3        1   Bacteroidetes     14\n4        2      Firmicutes     21\n5        2  Proteobacteria      0\n6        2  Actinobacteria      5\n7        2   Bacteroidetes    555",
      "text/html": "<div>\n<style scoped>\n    .dataframe tbody tr th:only-of-type {\n        vertical-align: middle;\n    }\n\n    .dataframe tbody tr th {\n        vertical-align: top;\n    }\n\n    .dataframe thead th {\n        text-align: right;\n    }\n</style>\n<table border=\"1\" class=\"dataframe\">\n  <thead>\n    <tr style=\"text-align: right;\">\n      <th></th>\n      <th>patient</th>\n      <th>phylum</th>\n      <th>value</th>\n    </tr>\n  </thead>\n  <tbody>\n    <tr>\n      <th>0</th>\n      <td>1</td>\n      <td>Firmicutes</td>\n      <td>632</td>\n    </tr>\n    <tr>\n      <th>1</th>\n      <td>1</td>\n      <td>Proteobacteria</td>\n      <td>1638</td>\n    </tr>\n    <tr>\n      <th>2</th>\n      <td>1</td>\n      <td>Actinobacteria</td>\n      <td>569</td>\n    </tr>\n    <tr>\n      <th>3</th>\n      <td>1</td>\n      <td>Bacteroidetes</td>\n      <td>14</td>\n    </tr>\n    <tr>\n      <th>4</th>\n      <td>2</td>\n      <td>Firmicutes</td>\n      <td>21</td>\n    </tr>\n    <tr>\n      <th>5</th>\n      <td>2</td>\n      <td>Proteobacteria</td>\n      <td>0</td>\n    </tr>\n    <tr>\n      <th>6</th>\n      <td>2</td>\n      <td>Actinobacteria</td>\n      <td>5</td>\n    </tr>\n    <tr>\n      <th>7</th>\n      <td>2</td>\n      <td>Bacteroidetes</td>\n      <td>555</td>\n    </tr>\n  </tbody>\n</table>\n</div>"
     },
     "execution_count": 33,
     "metadata": {},
     "output_type": "execute_result"
    }
   ],
   "source": [
    "data.value[[3,4,6]] = [14, 21, 5]\n",
    "data"
   ]
  },
  {
   "cell_type": "code",
   "execution_count": 34,
   "metadata": {
    "ExecuteTime": {
     "end_time": "2024-01-10T21:07:32.392961300Z",
     "start_time": "2024-01-10T21:07:32.263328200Z"
    }
   },
   "outputs": [
    {
     "data": {
      "text/plain": "   patient          phylum  value  year\n0        1      Firmicutes    632  2013\n1        1  Proteobacteria   1638  2013\n2        1  Actinobacteria    569  2013\n3        1   Bacteroidetes     14  2013\n4        2      Firmicutes     21  2013\n5        2  Proteobacteria      0  2013\n6        2  Actinobacteria      5  2013\n7        2   Bacteroidetes    555  2013",
      "text/html": "<div>\n<style scoped>\n    .dataframe tbody tr th:only-of-type {\n        vertical-align: middle;\n    }\n\n    .dataframe tbody tr th {\n        vertical-align: top;\n    }\n\n    .dataframe thead th {\n        text-align: right;\n    }\n</style>\n<table border=\"1\" class=\"dataframe\">\n  <thead>\n    <tr style=\"text-align: right;\">\n      <th></th>\n      <th>patient</th>\n      <th>phylum</th>\n      <th>value</th>\n      <th>year</th>\n    </tr>\n  </thead>\n  <tbody>\n    <tr>\n      <th>0</th>\n      <td>1</td>\n      <td>Firmicutes</td>\n      <td>632</td>\n      <td>2013</td>\n    </tr>\n    <tr>\n      <th>1</th>\n      <td>1</td>\n      <td>Proteobacteria</td>\n      <td>1638</td>\n      <td>2013</td>\n    </tr>\n    <tr>\n      <th>2</th>\n      <td>1</td>\n      <td>Actinobacteria</td>\n      <td>569</td>\n      <td>2013</td>\n    </tr>\n    <tr>\n      <th>3</th>\n      <td>1</td>\n      <td>Bacteroidetes</td>\n      <td>14</td>\n      <td>2013</td>\n    </tr>\n    <tr>\n      <th>4</th>\n      <td>2</td>\n      <td>Firmicutes</td>\n      <td>21</td>\n      <td>2013</td>\n    </tr>\n    <tr>\n      <th>5</th>\n      <td>2</td>\n      <td>Proteobacteria</td>\n      <td>0</td>\n      <td>2013</td>\n    </tr>\n    <tr>\n      <th>6</th>\n      <td>2</td>\n      <td>Actinobacteria</td>\n      <td>5</td>\n      <td>2013</td>\n    </tr>\n    <tr>\n      <th>7</th>\n      <td>2</td>\n      <td>Bacteroidetes</td>\n      <td>555</td>\n      <td>2013</td>\n    </tr>\n  </tbody>\n</table>\n</div>"
     },
     "execution_count": 34,
     "metadata": {},
     "output_type": "execute_result"
    }
   ],
   "source": [
    "data['year'] = 2013\n",
    "data"
   ]
  },
  {
   "cell_type": "markdown",
   "metadata": {},
   "source": [
    "But note we cannot use the attribute indexing method to add a new column:"
   ]
  },
  {
   "cell_type": "code",
   "execution_count": 145,
   "metadata": {
    "ExecuteTime": {
     "end_time": "2024-01-10T21:37:04.747048700Z",
     "start_time": "2024-01-10T21:37:04.718891200Z"
    }
   },
   "outputs": [
    {
     "data": {
      "text/plain": "   patient          phylum  value  year  treatment\n0        1      Firmicutes    632  2013          1\n1        1  Proteobacteria   1638  2013          1\n2        1  Actinobacteria    569  2013          1\n3        1   Bacteroidetes     14  2013          1\n4        2      Firmicutes     21  2013          1\n5        2  Proteobacteria      0  2013          1\n6        2  Actinobacteria      5  2013          1\n7        2   Bacteroidetes    555  2013          1",
      "text/html": "<div>\n<style scoped>\n    .dataframe tbody tr th:only-of-type {\n        vertical-align: middle;\n    }\n\n    .dataframe tbody tr th {\n        vertical-align: top;\n    }\n\n    .dataframe thead th {\n        text-align: right;\n    }\n</style>\n<table border=\"1\" class=\"dataframe\">\n  <thead>\n    <tr style=\"text-align: right;\">\n      <th></th>\n      <th>patient</th>\n      <th>phylum</th>\n      <th>value</th>\n      <th>year</th>\n      <th>treatment</th>\n    </tr>\n  </thead>\n  <tbody>\n    <tr>\n      <th>0</th>\n      <td>1</td>\n      <td>Firmicutes</td>\n      <td>632</td>\n      <td>2013</td>\n      <td>1</td>\n    </tr>\n    <tr>\n      <th>1</th>\n      <td>1</td>\n      <td>Proteobacteria</td>\n      <td>1638</td>\n      <td>2013</td>\n      <td>1</td>\n    </tr>\n    <tr>\n      <th>2</th>\n      <td>1</td>\n      <td>Actinobacteria</td>\n      <td>569</td>\n      <td>2013</td>\n      <td>1</td>\n    </tr>\n    <tr>\n      <th>3</th>\n      <td>1</td>\n      <td>Bacteroidetes</td>\n      <td>14</td>\n      <td>2013</td>\n      <td>1</td>\n    </tr>\n    <tr>\n      <th>4</th>\n      <td>2</td>\n      <td>Firmicutes</td>\n      <td>21</td>\n      <td>2013</td>\n      <td>1</td>\n    </tr>\n    <tr>\n      <th>5</th>\n      <td>2</td>\n      <td>Proteobacteria</td>\n      <td>0</td>\n      <td>2013</td>\n      <td>1</td>\n    </tr>\n    <tr>\n      <th>6</th>\n      <td>2</td>\n      <td>Actinobacteria</td>\n      <td>5</td>\n      <td>2013</td>\n      <td>1</td>\n    </tr>\n    <tr>\n      <th>7</th>\n      <td>2</td>\n      <td>Bacteroidetes</td>\n      <td>555</td>\n      <td>2013</td>\n      <td>1</td>\n    </tr>\n  </tbody>\n</table>\n</div>"
     },
     "execution_count": 145,
     "metadata": {},
     "output_type": "execute_result"
    }
   ],
   "source": [
    "data.treatment = 1\n",
    "data"
   ]
  },
  {
   "cell_type": "code",
   "execution_count": 36,
   "metadata": {
    "ExecuteTime": {
     "end_time": "2024-01-10T21:07:32.690731200Z",
     "start_time": "2024-01-10T21:07:32.425963200Z"
    }
   },
   "outputs": [
    {
     "data": {
      "text/plain": "1"
     },
     "execution_count": 36,
     "metadata": {},
     "output_type": "execute_result"
    }
   ],
   "source": [
    "data.treatment"
   ]
  },
  {
   "cell_type": "markdown",
   "metadata": {},
   "source": [
    "### Exercise 2\n",
    "\n",
    "From the `data` table above, return all rows for which the phylum name ends in \"bacteria\" and the value is greater than 1000."
   ]
  },
  {
   "cell_type": "code",
   "execution_count": 147,
   "metadata": {
    "ExecuteTime": {
     "end_time": "2024-01-10T21:45:11.811936400Z",
     "start_time": "2024-01-10T21:45:11.679848600Z"
    }
   },
   "outputs": [
    {
     "data": {
      "text/plain": "   patient          phylum  value  year  treatment\n1        1  Proteobacteria   1638  2013          1",
      "text/html": "<div>\n<style scoped>\n    .dataframe tbody tr th:only-of-type {\n        vertical-align: middle;\n    }\n\n    .dataframe tbody tr th {\n        vertical-align: top;\n    }\n\n    .dataframe thead th {\n        text-align: right;\n    }\n</style>\n<table border=\"1\" class=\"dataframe\">\n  <thead>\n    <tr style=\"text-align: right;\">\n      <th></th>\n      <th>patient</th>\n      <th>phylum</th>\n      <th>value</th>\n      <th>year</th>\n      <th>treatment</th>\n    </tr>\n  </thead>\n  <tbody>\n    <tr>\n      <th>1</th>\n      <td>1</td>\n      <td>Proteobacteria</td>\n      <td>1638</td>\n      <td>2013</td>\n      <td>1</td>\n    </tr>\n  </tbody>\n</table>\n</div>"
     },
     "execution_count": 147,
     "metadata": {},
     "output_type": "execute_result"
    }
   ],
   "source": [
    "data[data.apply(lambda x: x.value>1000 and x.phylum.endswith(\"bacteria\"),axis = 1)]"
   ]
  },
  {
   "cell_type": "markdown",
   "metadata": {},
   "source": [
    "Specifying a `Series` as a new column causes its values to be added according to the `DataFrame`'s index:"
   ]
  },
  {
   "cell_type": "code",
   "execution_count": 38,
   "metadata": {
    "ExecuteTime": {
     "end_time": "2024-01-10T21:07:33.010753400Z",
     "start_time": "2024-01-10T21:07:32.797243900Z"
    }
   },
   "outputs": [
    {
     "data": {
      "text/plain": "0    0\n1    0\n2    0\n3    0\n4    1\n5    1\ndtype: int64"
     },
     "execution_count": 38,
     "metadata": {},
     "output_type": "execute_result"
    }
   ],
   "source": [
    "treatment = pd.Series([0]*4 + [1]*2)\n",
    "treatment"
   ]
  },
  {
   "cell_type": "code",
   "execution_count": 39,
   "metadata": {
    "ExecuteTime": {
     "end_time": "2024-01-10T21:07:33.225336400Z",
     "start_time": "2024-01-10T21:07:33.009742600Z"
    }
   },
   "outputs": [
    {
     "data": {
      "text/plain": "   patient          phylum  value  year  treatment\n0        1      Firmicutes    632  2013        0.0\n1        1  Proteobacteria   1638  2013        0.0\n2        1  Actinobacteria    569  2013        0.0\n3        1   Bacteroidetes     14  2013        0.0\n4        2      Firmicutes     21  2013        1.0\n5        2  Proteobacteria      0  2013        1.0\n6        2  Actinobacteria      5  2013        NaN\n7        2   Bacteroidetes    555  2013        NaN",
      "text/html": "<div>\n<style scoped>\n    .dataframe tbody tr th:only-of-type {\n        vertical-align: middle;\n    }\n\n    .dataframe tbody tr th {\n        vertical-align: top;\n    }\n\n    .dataframe thead th {\n        text-align: right;\n    }\n</style>\n<table border=\"1\" class=\"dataframe\">\n  <thead>\n    <tr style=\"text-align: right;\">\n      <th></th>\n      <th>patient</th>\n      <th>phylum</th>\n      <th>value</th>\n      <th>year</th>\n      <th>treatment</th>\n    </tr>\n  </thead>\n  <tbody>\n    <tr>\n      <th>0</th>\n      <td>1</td>\n      <td>Firmicutes</td>\n      <td>632</td>\n      <td>2013</td>\n      <td>0.0</td>\n    </tr>\n    <tr>\n      <th>1</th>\n      <td>1</td>\n      <td>Proteobacteria</td>\n      <td>1638</td>\n      <td>2013</td>\n      <td>0.0</td>\n    </tr>\n    <tr>\n      <th>2</th>\n      <td>1</td>\n      <td>Actinobacteria</td>\n      <td>569</td>\n      <td>2013</td>\n      <td>0.0</td>\n    </tr>\n    <tr>\n      <th>3</th>\n      <td>1</td>\n      <td>Bacteroidetes</td>\n      <td>14</td>\n      <td>2013</td>\n      <td>0.0</td>\n    </tr>\n    <tr>\n      <th>4</th>\n      <td>2</td>\n      <td>Firmicutes</td>\n      <td>21</td>\n      <td>2013</td>\n      <td>1.0</td>\n    </tr>\n    <tr>\n      <th>5</th>\n      <td>2</td>\n      <td>Proteobacteria</td>\n      <td>0</td>\n      <td>2013</td>\n      <td>1.0</td>\n    </tr>\n    <tr>\n      <th>6</th>\n      <td>2</td>\n      <td>Actinobacteria</td>\n      <td>5</td>\n      <td>2013</td>\n      <td>NaN</td>\n    </tr>\n    <tr>\n      <th>7</th>\n      <td>2</td>\n      <td>Bacteroidetes</td>\n      <td>555</td>\n      <td>2013</td>\n      <td>NaN</td>\n    </tr>\n  </tbody>\n</table>\n</div>"
     },
     "execution_count": 39,
     "metadata": {},
     "output_type": "execute_result"
    }
   ],
   "source": [
    "data['treatment'] = treatment\n",
    "data"
   ]
  },
  {
   "cell_type": "markdown",
   "metadata": {},
   "source": [
    "We can use the `drop` method to remove rows or columns, which by <b>default drops rows</b>. We can be explicit by using the `axis` argument:"
   ]
  },
  {
   "cell_type": "code",
   "execution_count": 150,
   "metadata": {
    "ExecuteTime": {
     "end_time": "2024-01-10T21:47:15.704160200Z",
     "start_time": "2024-01-10T21:47:15.556089600Z"
    }
   },
   "outputs": [
    {
     "data": {
      "text/plain": "   patient          phylum  year  treatment\n0        1      Firmicutes  2013          1\n1        1  Proteobacteria  2013          1\n2        1  Actinobacteria  2013          1\n3        1   Bacteroidetes  2013          1\n4        2      Firmicutes  2013          1\n5        2  Proteobacteria  2013          1\n6        2  Actinobacteria  2013          1\n7        2   Bacteroidetes  2013          1",
      "text/html": "<div>\n<style scoped>\n    .dataframe tbody tr th:only-of-type {\n        vertical-align: middle;\n    }\n\n    .dataframe tbody tr th {\n        vertical-align: top;\n    }\n\n    .dataframe thead th {\n        text-align: right;\n    }\n</style>\n<table border=\"1\" class=\"dataframe\">\n  <thead>\n    <tr style=\"text-align: right;\">\n      <th></th>\n      <th>patient</th>\n      <th>phylum</th>\n      <th>year</th>\n      <th>treatment</th>\n    </tr>\n  </thead>\n  <tbody>\n    <tr>\n      <th>0</th>\n      <td>1</td>\n      <td>Firmicutes</td>\n      <td>2013</td>\n      <td>1</td>\n    </tr>\n    <tr>\n      <th>1</th>\n      <td>1</td>\n      <td>Proteobacteria</td>\n      <td>2013</td>\n      <td>1</td>\n    </tr>\n    <tr>\n      <th>2</th>\n      <td>1</td>\n      <td>Actinobacteria</td>\n      <td>2013</td>\n      <td>1</td>\n    </tr>\n    <tr>\n      <th>3</th>\n      <td>1</td>\n      <td>Bacteroidetes</td>\n      <td>2013</td>\n      <td>1</td>\n    </tr>\n    <tr>\n      <th>4</th>\n      <td>2</td>\n      <td>Firmicutes</td>\n      <td>2013</td>\n      <td>1</td>\n    </tr>\n    <tr>\n      <th>5</th>\n      <td>2</td>\n      <td>Proteobacteria</td>\n      <td>2013</td>\n      <td>1</td>\n    </tr>\n    <tr>\n      <th>6</th>\n      <td>2</td>\n      <td>Actinobacteria</td>\n      <td>2013</td>\n      <td>1</td>\n    </tr>\n    <tr>\n      <th>7</th>\n      <td>2</td>\n      <td>Bacteroidetes</td>\n      <td>2013</td>\n      <td>1</td>\n    </tr>\n  </tbody>\n</table>\n</div>"
     },
     "execution_count": 150,
     "metadata": {},
     "output_type": "execute_result"
    }
   ],
   "source": [
    "data_nomonth = data.drop('treatment', axis=1)\n",
    "data_novalue = data.drop('value',axis=1)\n",
    "data_novalue"
   ]
  },
  {
   "cell_type": "code",
   "execution_count": 41,
   "metadata": {
    "ExecuteTime": {
     "end_time": "2024-01-10T21:07:33.426204700Z",
     "start_time": "2024-01-10T21:07:33.260354300Z"
    }
   },
   "outputs": [
    {
     "data": {
      "text/plain": "   patient          phylum  value  year\n1        1  Proteobacteria   1638  2013\n2        1  Actinobacteria    569  2013\n3        1   Bacteroidetes     14  2013\n4        2      Firmicutes     21  2013\n5        2  Proteobacteria      0  2013\n6        2  Actinobacteria      5  2013\n7        2   Bacteroidetes    555  2013",
      "text/html": "<div>\n<style scoped>\n    .dataframe tbody tr th:only-of-type {\n        vertical-align: middle;\n    }\n\n    .dataframe tbody tr th {\n        vertical-align: top;\n    }\n\n    .dataframe thead th {\n        text-align: right;\n    }\n</style>\n<table border=\"1\" class=\"dataframe\">\n  <thead>\n    <tr style=\"text-align: right;\">\n      <th></th>\n      <th>patient</th>\n      <th>phylum</th>\n      <th>value</th>\n      <th>year</th>\n    </tr>\n  </thead>\n  <tbody>\n    <tr>\n      <th>1</th>\n      <td>1</td>\n      <td>Proteobacteria</td>\n      <td>1638</td>\n      <td>2013</td>\n    </tr>\n    <tr>\n      <th>2</th>\n      <td>1</td>\n      <td>Actinobacteria</td>\n      <td>569</td>\n      <td>2013</td>\n    </tr>\n    <tr>\n      <th>3</th>\n      <td>1</td>\n      <td>Bacteroidetes</td>\n      <td>14</td>\n      <td>2013</td>\n    </tr>\n    <tr>\n      <th>4</th>\n      <td>2</td>\n      <td>Firmicutes</td>\n      <td>21</td>\n      <td>2013</td>\n    </tr>\n    <tr>\n      <th>5</th>\n      <td>2</td>\n      <td>Proteobacteria</td>\n      <td>0</td>\n      <td>2013</td>\n    </tr>\n    <tr>\n      <th>6</th>\n      <td>2</td>\n      <td>Actinobacteria</td>\n      <td>5</td>\n      <td>2013</td>\n    </tr>\n    <tr>\n      <th>7</th>\n      <td>2</td>\n      <td>Bacteroidetes</td>\n      <td>555</td>\n      <td>2013</td>\n    </tr>\n  </tbody>\n</table>\n</div>"
     },
     "execution_count": 41,
     "metadata": {},
     "output_type": "execute_result"
    }
   ],
   "source": [
    "data_nomonth.drop(0)"
   ]
  },
  {
   "cell_type": "markdown",
   "metadata": {},
   "source": [
    "The dtype is automatically chosen to be as general as needed to accommodate all the columns."
   ]
  },
  {
   "cell_type": "code",
   "execution_count": 154,
   "metadata": {
    "ExecuteTime": {
     "end_time": "2024-01-10T21:49:56.828882800Z",
     "start_time": "2024-01-10T21:49:56.771545900Z"
    }
   },
   "outputs": [],
   "source": [
    "\n",
    "df = pd.DataFrame({'foo':[1,2,3],'bar': [0.4,-1.0,4.5]})\n",
    "df['foo'] = df['foo'].astype('float64')"
   ]
  },
  {
   "cell_type": "code",
   "execution_count": 155,
   "metadata": {
    "ExecuteTime": {
     "end_time": "2024-01-10T21:49:59.211093500Z",
     "start_time": "2024-01-10T21:49:59.185569400Z"
    }
   },
   "outputs": [
    {
     "data": {
      "text/plain": "dtype('float64')"
     },
     "execution_count": 155,
     "metadata": {},
     "output_type": "execute_result"
    }
   ],
   "source": [
    "df.values.dtype"
   ]
  },
  {
   "cell_type": "markdown",
   "metadata": {},
   "source": [
    "`Index` objects are **immutable**:"
   ]
  },
  {
   "cell_type": "code",
   "execution_count": 44,
   "metadata": {
    "ExecuteTime": {
     "end_time": "2024-01-10T21:07:33.930612200Z",
     "start_time": "2024-01-10T21:07:33.723071700Z"
    }
   },
   "outputs": [],
   "source": [
    "#data.index[0] = 15 #that doesn't work"
   ]
  },
  {
   "cell_type": "markdown",
   "metadata": {},
   "source": [
    "This is so that `Index` objects can be shared between data structures without fear that they will be changed."
   ]
  },
  {
   "cell_type": "code",
   "execution_count": 45,
   "metadata": {
    "ExecuteTime": {
     "end_time": "2024-01-10T21:07:34.087456300Z",
     "start_time": "2024-01-10T21:07:33.921614900Z"
    }
   },
   "outputs": [],
   "source": [
    "bacteria2.index = bacteria.index"
   ]
  },
  {
   "cell_type": "code",
   "execution_count": 46,
   "metadata": {
    "ExecuteTime": {
     "end_time": "2024-01-10T21:07:34.139458100Z",
     "start_time": "2024-01-10T21:07:34.055948500Z"
    }
   },
   "outputs": [
    {
     "data": {
      "text/plain": "phylum\nFirmicutes           NaN\nProteobacteria     632.0\nActinobacteria    1638.0\nBacteroidetes      569.0\ndtype: float64"
     },
     "execution_count": 46,
     "metadata": {},
     "output_type": "execute_result"
    }
   ],
   "source": [
    "bacteria2"
   ]
  },
  {
   "cell_type": "markdown",
   "metadata": {},
   "source": [
    "## Importing data"
   ]
  },
  {
   "cell_type": "markdown",
   "metadata": {},
   "source": [
    "A key, but often under-appreciated, step in data analysis is importing the data that we wish to analyze. Though it is easy to load basic data structures into Python using built-in tools or those provided by packages like NumPy, it is non-trivial to import structured data well, and to easily convert this input into a robust data structure:\n",
    "\n",
    "    genes = np.loadtxt(\"genes.csv\", delimiter=\",\", dtype=[('gene', '|S10'), ('value', '<f4')])\n",
    "\n",
    "Pandas provides a convenient set of functions for importing tabular data from a number of formats directly into a `DataFrame` object. These functions include a slew of options to perform type inference, indexing, parsing, iterating and cleaning automatically as data are imported."
   ]
  },
  {
   "cell_type": "markdown",
   "metadata": {},
   "source": [
    "Let's start with some more bacteria data, stored in csv format."
   ]
  },
  {
   "cell_type": "code",
   "execution_count": 47,
   "metadata": {
    "ExecuteTime": {
     "end_time": "2024-01-10T21:07:34.314744100Z",
     "start_time": "2024-01-10T21:07:34.123457600Z"
    }
   },
   "outputs": [
    {
     "name": "stdout",
     "output_type": "stream",
     "text": [
      "/bin/bash: warning: setlocale: LC_ALL: cannot change locale (en_US.UTF-8)\r\n",
      "Taxon,Patient,Group,Tissue,Stool\r\n",
      "Firmicutes,1,0,136,4182\r\n",
      "Firmicutes,2,1,1174,703\r\n",
      "Firmicutes,3,0,408,3946\r\n",
      "Firmicutes,4,1,831,8605\r\n",
      "Firmicutes,5,0,693,50\r\n",
      "Firmicutes,6,1,718,717\r\n",
      "Firmicutes,7,0,173,33\r\n",
      "Firmicutes,8,1,228,80\r\n",
      "Firmicutes,9,0,162,3196\r\n"
     ]
    }
   ],
   "source": [
    "!head Data/microbiome.csv"
   ]
  },
  {
   "cell_type": "markdown",
   "metadata": {},
   "source": [
    "This table can be read into a DataFrame using `read_csv`:"
   ]
  },
  {
   "cell_type": "code",
   "execution_count": 163,
   "metadata": {
    "ExecuteTime": {
     "end_time": "2024-01-10T21:53:33.856500800Z",
     "start_time": "2024-01-10T21:53:33.742449600Z"
    }
   },
   "outputs": [
    {
     "data": {
      "text/plain": "        Taxon  Patient  Group  Tissue  Stool\n1  Firmicutes        2      1    1174    703\n2  Firmicutes        3      0     408   3946\n3  Firmicutes        4      1     831   8605\n4  Firmicutes        5      0     693     50",
      "text/html": "<div>\n<style scoped>\n    .dataframe tbody tr th:only-of-type {\n        vertical-align: middle;\n    }\n\n    .dataframe tbody tr th {\n        vertical-align: top;\n    }\n\n    .dataframe thead th {\n        text-align: right;\n    }\n</style>\n<table border=\"1\" class=\"dataframe\">\n  <thead>\n    <tr style=\"text-align: right;\">\n      <th></th>\n      <th>Taxon</th>\n      <th>Patient</th>\n      <th>Group</th>\n      <th>Tissue</th>\n      <th>Stool</th>\n    </tr>\n  </thead>\n  <tbody>\n    <tr>\n      <th>1</th>\n      <td>Firmicutes</td>\n      <td>2</td>\n      <td>1</td>\n      <td>1174</td>\n      <td>703</td>\n    </tr>\n    <tr>\n      <th>2</th>\n      <td>Firmicutes</td>\n      <td>3</td>\n      <td>0</td>\n      <td>408</td>\n      <td>3946</td>\n    </tr>\n    <tr>\n      <th>3</th>\n      <td>Firmicutes</td>\n      <td>4</td>\n      <td>1</td>\n      <td>831</td>\n      <td>8605</td>\n    </tr>\n    <tr>\n      <th>4</th>\n      <td>Firmicutes</td>\n      <td>5</td>\n      <td>0</td>\n      <td>693</td>\n      <td>50</td>\n    </tr>\n  </tbody>\n</table>\n</div>"
     },
     "execution_count": 163,
     "metadata": {},
     "output_type": "execute_result"
    }
   ],
   "source": [
    "mb = pd.read_csv(\"Data/microbiome.csv\", sep=',')\n",
    "#mb = pd.read_csv(\"./Data/microbiome.csv\")\n",
    "#mb.head()\n",
    "mb.loc[1:4]"
   ]
  },
  {
   "cell_type": "markdown",
   "metadata": {},
   "source": [
    "Notice that `read_csv` automatically considered the first row in the file to be a header row.\n",
    "\n",
    "We can override default behavior by customizing some the arguments, like `header`, `names` or `index_col`."
   ]
  },
  {
   "cell_type": "code",
   "execution_count": 49,
   "metadata": {
    "ExecuteTime": {
     "end_time": "2024-01-10T21:07:34.485244600Z",
     "start_time": "2024-01-10T21:07:34.329090200Z"
    }
   },
   "outputs": [
    {
     "data": {
      "text/plain": "            0        1      2       3      4\n0       Taxon  Patient  Group  Tissue  Stool\n1  Firmicutes        1      0     136   4182\n2  Firmicutes        2      1    1174    703\n3  Firmicutes        3      0     408   3946\n4  Firmicutes        4      1     831   8605",
      "text/html": "<div>\n<style scoped>\n    .dataframe tbody tr th:only-of-type {\n        vertical-align: middle;\n    }\n\n    .dataframe tbody tr th {\n        vertical-align: top;\n    }\n\n    .dataframe thead th {\n        text-align: right;\n    }\n</style>\n<table border=\"1\" class=\"dataframe\">\n  <thead>\n    <tr style=\"text-align: right;\">\n      <th></th>\n      <th>0</th>\n      <th>1</th>\n      <th>2</th>\n      <th>3</th>\n      <th>4</th>\n    </tr>\n  </thead>\n  <tbody>\n    <tr>\n      <th>0</th>\n      <td>Taxon</td>\n      <td>Patient</td>\n      <td>Group</td>\n      <td>Tissue</td>\n      <td>Stool</td>\n    </tr>\n    <tr>\n      <th>1</th>\n      <td>Firmicutes</td>\n      <td>1</td>\n      <td>0</td>\n      <td>136</td>\n      <td>4182</td>\n    </tr>\n    <tr>\n      <th>2</th>\n      <td>Firmicutes</td>\n      <td>2</td>\n      <td>1</td>\n      <td>1174</td>\n      <td>703</td>\n    </tr>\n    <tr>\n      <th>3</th>\n      <td>Firmicutes</td>\n      <td>3</td>\n      <td>0</td>\n      <td>408</td>\n      <td>3946</td>\n    </tr>\n    <tr>\n      <th>4</th>\n      <td>Firmicutes</td>\n      <td>4</td>\n      <td>1</td>\n      <td>831</td>\n      <td>8605</td>\n    </tr>\n  </tbody>\n</table>\n</div>"
     },
     "execution_count": 49,
     "metadata": {},
     "output_type": "execute_result"
    }
   ],
   "source": [
    "pd.read_csv(\"Data/microbiome.csv\", header=None).head()"
   ]
  },
  {
   "cell_type": "markdown",
   "metadata": {},
   "source": [
    "`read_csv` is just a convenience function for `read_table`, since csv is such a common format:"
   ]
  },
  {
   "cell_type": "code",
   "execution_count": 50,
   "metadata": {
    "ExecuteTime": {
     "end_time": "2024-01-10T21:07:34.644558100Z",
     "start_time": "2024-01-10T21:07:34.472244500Z"
    }
   },
   "outputs": [],
   "source": [
    "mb = pd.read_csv(\"Data/microbiome.csv\", sep=',')"
   ]
  },
  {
   "cell_type": "markdown",
   "metadata": {},
   "source": [
    "The `sep` argument can be customized as needed to accomodate arbitrary separators. For example, we can use a regular expression to define a variable amount of whitespace, which is unfortunately very common in some data formats: \n",
    "    \n",
    "    sep='\\s+'"
   ]
  },
  {
   "cell_type": "markdown",
   "metadata": {},
   "source": [
    "For a more useful index, we can specify the first two columns, which together provide a unique index to the data."
   ]
  },
  {
   "cell_type": "code",
   "execution_count": 51,
   "metadata": {
    "ExecuteTime": {
     "end_time": "2024-01-10T21:07:34.832018300Z",
     "start_time": "2024-01-10T21:07:34.594550800Z"
    }
   },
   "outputs": [
    {
     "data": {
      "text/plain": "                    Group  Tissue  Stool\nPatient Taxon                           \n1       Firmicutes      0     136   4182\n2       Firmicutes      1    1174    703\n3       Firmicutes      0     408   3946\n4       Firmicutes      1     831   8605\n5       Firmicutes      0     693     50",
      "text/html": "<div>\n<style scoped>\n    .dataframe tbody tr th:only-of-type {\n        vertical-align: middle;\n    }\n\n    .dataframe tbody tr th {\n        vertical-align: top;\n    }\n\n    .dataframe thead th {\n        text-align: right;\n    }\n</style>\n<table border=\"1\" class=\"dataframe\">\n  <thead>\n    <tr style=\"text-align: right;\">\n      <th></th>\n      <th></th>\n      <th>Group</th>\n      <th>Tissue</th>\n      <th>Stool</th>\n    </tr>\n    <tr>\n      <th>Patient</th>\n      <th>Taxon</th>\n      <th></th>\n      <th></th>\n      <th></th>\n    </tr>\n  </thead>\n  <tbody>\n    <tr>\n      <th>1</th>\n      <th>Firmicutes</th>\n      <td>0</td>\n      <td>136</td>\n      <td>4182</td>\n    </tr>\n    <tr>\n      <th>2</th>\n      <th>Firmicutes</th>\n      <td>1</td>\n      <td>1174</td>\n      <td>703</td>\n    </tr>\n    <tr>\n      <th>3</th>\n      <th>Firmicutes</th>\n      <td>0</td>\n      <td>408</td>\n      <td>3946</td>\n    </tr>\n    <tr>\n      <th>4</th>\n      <th>Firmicutes</th>\n      <td>1</td>\n      <td>831</td>\n      <td>8605</td>\n    </tr>\n    <tr>\n      <th>5</th>\n      <th>Firmicutes</th>\n      <td>0</td>\n      <td>693</td>\n      <td>50</td>\n    </tr>\n  </tbody>\n</table>\n</div>"
     },
     "execution_count": 51,
     "metadata": {},
     "output_type": "execute_result"
    }
   ],
   "source": [
    "mb = pd.read_csv(\"Data/microbiome.csv\", index_col=['Patient','Taxon'])\n",
    "mb.head()"
   ]
  },
  {
   "cell_type": "markdown",
   "metadata": {},
   "source": [
    "This is called a *hierarchical* index, which we will revisit later in the section."
   ]
  },
  {
   "cell_type": "markdown",
   "metadata": {},
   "source": [
    "If we have sections of data that we do not wish to import (for example, known bad data), we can populate the `skiprows` argument:"
   ]
  },
  {
   "cell_type": "code",
   "execution_count": 52,
   "metadata": {
    "ExecuteTime": {
     "end_time": "2024-01-10T21:07:34.981391900Z",
     "start_time": "2024-01-10T21:07:34.736500700Z"
    }
   },
   "outputs": [
    {
     "data": {
      "text/plain": "        Taxon  Patient  Group  Tissue  Stool\n0  Firmicutes        1      0     136   4182\n1  Firmicutes        2      1    1174    703\n2  Firmicutes        5      0     693     50\n3  Firmicutes        7      0     173     33\n4  Firmicutes        8      1     228     80",
      "text/html": "<div>\n<style scoped>\n    .dataframe tbody tr th:only-of-type {\n        vertical-align: middle;\n    }\n\n    .dataframe tbody tr th {\n        vertical-align: top;\n    }\n\n    .dataframe thead th {\n        text-align: right;\n    }\n</style>\n<table border=\"1\" class=\"dataframe\">\n  <thead>\n    <tr style=\"text-align: right;\">\n      <th></th>\n      <th>Taxon</th>\n      <th>Patient</th>\n      <th>Group</th>\n      <th>Tissue</th>\n      <th>Stool</th>\n    </tr>\n  </thead>\n  <tbody>\n    <tr>\n      <th>0</th>\n      <td>Firmicutes</td>\n      <td>1</td>\n      <td>0</td>\n      <td>136</td>\n      <td>4182</td>\n    </tr>\n    <tr>\n      <th>1</th>\n      <td>Firmicutes</td>\n      <td>2</td>\n      <td>1</td>\n      <td>1174</td>\n      <td>703</td>\n    </tr>\n    <tr>\n      <th>2</th>\n      <td>Firmicutes</td>\n      <td>5</td>\n      <td>0</td>\n      <td>693</td>\n      <td>50</td>\n    </tr>\n    <tr>\n      <th>3</th>\n      <td>Firmicutes</td>\n      <td>7</td>\n      <td>0</td>\n      <td>173</td>\n      <td>33</td>\n    </tr>\n    <tr>\n      <th>4</th>\n      <td>Firmicutes</td>\n      <td>8</td>\n      <td>1</td>\n      <td>228</td>\n      <td>80</td>\n    </tr>\n  </tbody>\n</table>\n</div>"
     },
     "execution_count": 52,
     "metadata": {},
     "output_type": "execute_result"
    }
   ],
   "source": [
    "pd.read_csv(\"Data/microbiome.csv\", skiprows=[3,4,6]).head()"
   ]
  },
  {
   "cell_type": "markdown",
   "metadata": {},
   "source": [
    "If we only want to import a small number of rows from, say, a very large data file we can use `nrows`:"
   ]
  },
  {
   "cell_type": "code",
   "execution_count": 53,
   "metadata": {
    "ExecuteTime": {
     "end_time": "2024-01-10T21:07:35.156563600Z",
     "start_time": "2024-01-10T21:07:34.952629900Z"
    }
   },
   "outputs": [
    {
     "data": {
      "text/plain": "        Taxon  Patient  Group  Tissue  Stool\n0  Firmicutes        1      0     136   4182\n1  Firmicutes        2      1    1174    703\n2  Firmicutes        3      0     408   3946\n3  Firmicutes        4      1     831   8605",
      "text/html": "<div>\n<style scoped>\n    .dataframe tbody tr th:only-of-type {\n        vertical-align: middle;\n    }\n\n    .dataframe tbody tr th {\n        vertical-align: top;\n    }\n\n    .dataframe thead th {\n        text-align: right;\n    }\n</style>\n<table border=\"1\" class=\"dataframe\">\n  <thead>\n    <tr style=\"text-align: right;\">\n      <th></th>\n      <th>Taxon</th>\n      <th>Patient</th>\n      <th>Group</th>\n      <th>Tissue</th>\n      <th>Stool</th>\n    </tr>\n  </thead>\n  <tbody>\n    <tr>\n      <th>0</th>\n      <td>Firmicutes</td>\n      <td>1</td>\n      <td>0</td>\n      <td>136</td>\n      <td>4182</td>\n    </tr>\n    <tr>\n      <th>1</th>\n      <td>Firmicutes</td>\n      <td>2</td>\n      <td>1</td>\n      <td>1174</td>\n      <td>703</td>\n    </tr>\n    <tr>\n      <th>2</th>\n      <td>Firmicutes</td>\n      <td>3</td>\n      <td>0</td>\n      <td>408</td>\n      <td>3946</td>\n    </tr>\n    <tr>\n      <th>3</th>\n      <td>Firmicutes</td>\n      <td>4</td>\n      <td>1</td>\n      <td>831</td>\n      <td>8605</td>\n    </tr>\n  </tbody>\n</table>\n</div>"
     },
     "execution_count": 53,
     "metadata": {},
     "output_type": "execute_result"
    }
   ],
   "source": [
    "pd.read_csv(\"Data/microbiome.csv\", nrows=4)"
   ]
  },
  {
   "cell_type": "markdown",
   "metadata": {},
   "source": [
    "#### Missing Values\n",
    "\n",
    "Most real-world data is incomplete, with values missing due to incomplete observation, data entry or transcription error, or other reasons. Pandas will automatically recognize and parse common missing data indicators, including `NA` and `NULL`."
   ]
  },
  {
   "cell_type": "code",
   "execution_count": 54,
   "metadata": {
    "ExecuteTime": {
     "end_time": "2024-01-10T21:07:35.380906400Z",
     "start_time": "2024-01-10T21:07:35.112474900Z"
    }
   },
   "outputs": [
    {
     "name": "stdout",
     "output_type": "stream",
     "text": [
      "/bin/bash: warning: setlocale: LC_ALL: cannot change locale (en_US.UTF-8)\r\n",
      "Taxon,Patient,Tissue,Stool\r\n",
      "Firmicutes,1,632,305\r\n",
      "Firmicutes,2,136,4182\r\n",
      "Firmicutes,3,,703\r\n",
      "Firmicutes,4,408,3946\r\n",
      "Firmicutes,5,831,8605\r\n",
      "Firmicutes,6,693,50\r\n",
      "Firmicutes,7,718,717\r\n",
      "Firmicutes,8,173,33\r\n",
      "Firmicutes,9,228,NA\r\n"
     ]
    }
   ],
   "source": [
    "!head -n 10 Data/microbiome_missing.csv"
   ]
  },
  {
   "cell_type": "code",
   "execution_count": 55,
   "metadata": {
    "ExecuteTime": {
     "end_time": "2024-01-10T21:07:35.506614Z",
     "start_time": "2024-01-10T21:07:35.249903300Z"
    }
   },
   "outputs": [
    {
     "data": {
      "text/plain": "        Taxon  Patient Tissue   Stool\n0  Firmicutes        1    632   305.0\n1  Firmicutes        2    136  4182.0\n2  Firmicutes        3    NaN   703.0\n3  Firmicutes        4    408  3946.0\n4  Firmicutes        5    831  8605.0\n5  Firmicutes        6    693    50.0\n6  Firmicutes        7    718   717.0\n7  Firmicutes        8    173    33.0\n8  Firmicutes        9    228     NaN\n9  Firmicutes       10    162  3196.0",
      "text/html": "<div>\n<style scoped>\n    .dataframe tbody tr th:only-of-type {\n        vertical-align: middle;\n    }\n\n    .dataframe tbody tr th {\n        vertical-align: top;\n    }\n\n    .dataframe thead th {\n        text-align: right;\n    }\n</style>\n<table border=\"1\" class=\"dataframe\">\n  <thead>\n    <tr style=\"text-align: right;\">\n      <th></th>\n      <th>Taxon</th>\n      <th>Patient</th>\n      <th>Tissue</th>\n      <th>Stool</th>\n    </tr>\n  </thead>\n  <tbody>\n    <tr>\n      <th>0</th>\n      <td>Firmicutes</td>\n      <td>1</td>\n      <td>632</td>\n      <td>305.0</td>\n    </tr>\n    <tr>\n      <th>1</th>\n      <td>Firmicutes</td>\n      <td>2</td>\n      <td>136</td>\n      <td>4182.0</td>\n    </tr>\n    <tr>\n      <th>2</th>\n      <td>Firmicutes</td>\n      <td>3</td>\n      <td>NaN</td>\n      <td>703.0</td>\n    </tr>\n    <tr>\n      <th>3</th>\n      <td>Firmicutes</td>\n      <td>4</td>\n      <td>408</td>\n      <td>3946.0</td>\n    </tr>\n    <tr>\n      <th>4</th>\n      <td>Firmicutes</td>\n      <td>5</td>\n      <td>831</td>\n      <td>8605.0</td>\n    </tr>\n    <tr>\n      <th>5</th>\n      <td>Firmicutes</td>\n      <td>6</td>\n      <td>693</td>\n      <td>50.0</td>\n    </tr>\n    <tr>\n      <th>6</th>\n      <td>Firmicutes</td>\n      <td>7</td>\n      <td>718</td>\n      <td>717.0</td>\n    </tr>\n    <tr>\n      <th>7</th>\n      <td>Firmicutes</td>\n      <td>8</td>\n      <td>173</td>\n      <td>33.0</td>\n    </tr>\n    <tr>\n      <th>8</th>\n      <td>Firmicutes</td>\n      <td>9</td>\n      <td>228</td>\n      <td>NaN</td>\n    </tr>\n    <tr>\n      <th>9</th>\n      <td>Firmicutes</td>\n      <td>10</td>\n      <td>162</td>\n      <td>3196.0</td>\n    </tr>\n  </tbody>\n</table>\n</div>"
     },
     "execution_count": 55,
     "metadata": {},
     "output_type": "execute_result"
    }
   ],
   "source": [
    "pd.read_csv(\"Data/microbiome_missing.csv\").head(10)"
   ]
  },
  {
   "cell_type": "markdown",
   "metadata": {},
   "source": [
    "Above, Pandas recognized `NA` and an empty field as missing data."
   ]
  },
  {
   "cell_type": "code",
   "execution_count": 56,
   "metadata": {
    "ExecuteTime": {
     "end_time": "2024-01-10T21:07:35.588926100Z",
     "start_time": "2024-01-10T21:07:35.384902Z"
    }
   },
   "outputs": [
    {
     "data": {
      "text/plain": "   Taxon  Patient  Tissue  Stool\n0  False    False   False  False\n1  False    False   False  False\n2  False    False    True  False\n3  False    False   False  False\n4  False    False   False  False\n5  False    False   False  False\n6  False    False   False  False\n7  False    False   False  False\n8  False    False   False   True\n9  False    False   False  False",
      "text/html": "<div>\n<style scoped>\n    .dataframe tbody tr th:only-of-type {\n        vertical-align: middle;\n    }\n\n    .dataframe tbody tr th {\n        vertical-align: top;\n    }\n\n    .dataframe thead th {\n        text-align: right;\n    }\n</style>\n<table border=\"1\" class=\"dataframe\">\n  <thead>\n    <tr style=\"text-align: right;\">\n      <th></th>\n      <th>Taxon</th>\n      <th>Patient</th>\n      <th>Tissue</th>\n      <th>Stool</th>\n    </tr>\n  </thead>\n  <tbody>\n    <tr>\n      <th>0</th>\n      <td>False</td>\n      <td>False</td>\n      <td>False</td>\n      <td>False</td>\n    </tr>\n    <tr>\n      <th>1</th>\n      <td>False</td>\n      <td>False</td>\n      <td>False</td>\n      <td>False</td>\n    </tr>\n    <tr>\n      <th>2</th>\n      <td>False</td>\n      <td>False</td>\n      <td>True</td>\n      <td>False</td>\n    </tr>\n    <tr>\n      <th>3</th>\n      <td>False</td>\n      <td>False</td>\n      <td>False</td>\n      <td>False</td>\n    </tr>\n    <tr>\n      <th>4</th>\n      <td>False</td>\n      <td>False</td>\n      <td>False</td>\n      <td>False</td>\n    </tr>\n    <tr>\n      <th>5</th>\n      <td>False</td>\n      <td>False</td>\n      <td>False</td>\n      <td>False</td>\n    </tr>\n    <tr>\n      <th>6</th>\n      <td>False</td>\n      <td>False</td>\n      <td>False</td>\n      <td>False</td>\n    </tr>\n    <tr>\n      <th>7</th>\n      <td>False</td>\n      <td>False</td>\n      <td>False</td>\n      <td>False</td>\n    </tr>\n    <tr>\n      <th>8</th>\n      <td>False</td>\n      <td>False</td>\n      <td>False</td>\n      <td>True</td>\n    </tr>\n    <tr>\n      <th>9</th>\n      <td>False</td>\n      <td>False</td>\n      <td>False</td>\n      <td>False</td>\n    </tr>\n  </tbody>\n</table>\n</div>"
     },
     "execution_count": 56,
     "metadata": {},
     "output_type": "execute_result"
    }
   ],
   "source": [
    "pd.isnull(pd.read_csv(\"Data/microbiome_missing.csv\")).head(10)"
   ]
  },
  {
   "cell_type": "markdown",
   "metadata": {},
   "source": [
    "Unfortunately, there will sometimes be inconsistencies in the conventions for missing data. In this example, there is a question mark \"?\" and a large negative number where there should have been a positive integer. We can specify additional symbols with the `na_values` argument:\n",
    "   "
   ]
  },
  {
   "cell_type": "code",
   "execution_count": 57,
   "metadata": {
    "ExecuteTime": {
     "end_time": "2024-01-10T21:07:35.805224400Z",
     "start_time": "2024-01-10T21:07:35.570920900Z"
    }
   },
   "outputs": [
    {
     "data": {
      "text/plain": "        Taxon  Patient  Tissue   Stool\n0  Firmicutes        1   632.0   305.0\n1  Firmicutes        2   136.0  4182.0\n2  Firmicutes        3     NaN   703.0\n3  Firmicutes        4   408.0  3946.0\n4  Firmicutes        5   831.0  8605.0\n5  Firmicutes        6   693.0    50.0\n6  Firmicutes        7   718.0   717.0\n7  Firmicutes        8   173.0    33.0\n8  Firmicutes        9   228.0     NaN\n9  Firmicutes       10   162.0  3196.0",
      "text/html": "<div>\n<style scoped>\n    .dataframe tbody tr th:only-of-type {\n        vertical-align: middle;\n    }\n\n    .dataframe tbody tr th {\n        vertical-align: top;\n    }\n\n    .dataframe thead th {\n        text-align: right;\n    }\n</style>\n<table border=\"1\" class=\"dataframe\">\n  <thead>\n    <tr style=\"text-align: right;\">\n      <th></th>\n      <th>Taxon</th>\n      <th>Patient</th>\n      <th>Tissue</th>\n      <th>Stool</th>\n    </tr>\n  </thead>\n  <tbody>\n    <tr>\n      <th>0</th>\n      <td>Firmicutes</td>\n      <td>1</td>\n      <td>632.0</td>\n      <td>305.0</td>\n    </tr>\n    <tr>\n      <th>1</th>\n      <td>Firmicutes</td>\n      <td>2</td>\n      <td>136.0</td>\n      <td>4182.0</td>\n    </tr>\n    <tr>\n      <th>2</th>\n      <td>Firmicutes</td>\n      <td>3</td>\n      <td>NaN</td>\n      <td>703.0</td>\n    </tr>\n    <tr>\n      <th>3</th>\n      <td>Firmicutes</td>\n      <td>4</td>\n      <td>408.0</td>\n      <td>3946.0</td>\n    </tr>\n    <tr>\n      <th>4</th>\n      <td>Firmicutes</td>\n      <td>5</td>\n      <td>831.0</td>\n      <td>8605.0</td>\n    </tr>\n    <tr>\n      <th>5</th>\n      <td>Firmicutes</td>\n      <td>6</td>\n      <td>693.0</td>\n      <td>50.0</td>\n    </tr>\n    <tr>\n      <th>6</th>\n      <td>Firmicutes</td>\n      <td>7</td>\n      <td>718.0</td>\n      <td>717.0</td>\n    </tr>\n    <tr>\n      <th>7</th>\n      <td>Firmicutes</td>\n      <td>8</td>\n      <td>173.0</td>\n      <td>33.0</td>\n    </tr>\n    <tr>\n      <th>8</th>\n      <td>Firmicutes</td>\n      <td>9</td>\n      <td>228.0</td>\n      <td>NaN</td>\n    </tr>\n    <tr>\n      <th>9</th>\n      <td>Firmicutes</td>\n      <td>10</td>\n      <td>162.0</td>\n      <td>3196.0</td>\n    </tr>\n  </tbody>\n</table>\n</div>"
     },
     "execution_count": 57,
     "metadata": {},
     "output_type": "execute_result"
    }
   ],
   "source": [
    "pd.read_csv(\"Data/microbiome_missing.csv\", na_values=['?', -99999]).head(10)"
   ]
  },
  {
   "cell_type": "markdown",
   "metadata": {},
   "source": [
    "These can be specified on a column-wise basis using an appropriate dict as the argument for `na_values`."
   ]
  },
  {
   "cell_type": "markdown",
   "metadata": {},
   "source": [
    "#### Microsoft Excel\n",
    "\n",
    "Since so much financial and scientific data ends up in Excel spreadsheets (regrettably), Pandas' ability to directly import Excel spreadsheets is valuable. This support is contingent on having one or two dependencies (depending on what version of Excel file is being imported) installed: `xlrd` and `openpyxl` (these may be installed with either `pip` or `easy_install`).\n",
    "\n",
    "The `read_excel` convenience function in pandas imports a specific sheet from an Excel file"
   ]
  },
  {
   "cell_type": "code",
   "execution_count": 58,
   "metadata": {
    "ExecuteTime": {
     "end_time": "2024-01-10T21:07:36.209550200Z",
     "start_time": "2024-01-10T21:07:35.804225700Z"
    }
   },
   "outputs": [
    {
     "ename": "ImportError",
     "evalue": "Missing optional dependency 'xlrd'. Install xlrd >= 2.0.1 for xls Excel support Use pip or conda to install xlrd.",
     "output_type": "error",
     "traceback": [
      "\u001B[0;31m---------------------------------------------------------------------------\u001B[0m",
      "\u001B[0;31mModuleNotFoundError\u001B[0m                       Traceback (most recent call last)",
      "File \u001B[0;32m~/.virtualenvs/2023/lib/python3.10/site-packages/pandas/compat/_optional.py:132\u001B[0m, in \u001B[0;36mimport_optional_dependency\u001B[0;34m(name, extra, errors, min_version)\u001B[0m\n\u001B[1;32m    131\u001B[0m \u001B[38;5;28;01mtry\u001B[39;00m:\n\u001B[0;32m--> 132\u001B[0m     module \u001B[38;5;241m=\u001B[39m \u001B[43mimportlib\u001B[49m\u001B[38;5;241;43m.\u001B[39;49m\u001B[43mimport_module\u001B[49m\u001B[43m(\u001B[49m\u001B[43mname\u001B[49m\u001B[43m)\u001B[49m\n\u001B[1;32m    133\u001B[0m \u001B[38;5;28;01mexcept\u001B[39;00m \u001B[38;5;167;01mImportError\u001B[39;00m:\n",
      "File \u001B[0;32m/usr/lib/python3.10/importlib/__init__.py:126\u001B[0m, in \u001B[0;36mimport_module\u001B[0;34m(name, package)\u001B[0m\n\u001B[1;32m    125\u001B[0m         level \u001B[38;5;241m+\u001B[39m\u001B[38;5;241m=\u001B[39m \u001B[38;5;241m1\u001B[39m\n\u001B[0;32m--> 126\u001B[0m \u001B[38;5;28;01mreturn\u001B[39;00m \u001B[43m_bootstrap\u001B[49m\u001B[38;5;241;43m.\u001B[39;49m\u001B[43m_gcd_import\u001B[49m\u001B[43m(\u001B[49m\u001B[43mname\u001B[49m\u001B[43m[\u001B[49m\u001B[43mlevel\u001B[49m\u001B[43m:\u001B[49m\u001B[43m]\u001B[49m\u001B[43m,\u001B[49m\u001B[43m \u001B[49m\u001B[43mpackage\u001B[49m\u001B[43m,\u001B[49m\u001B[43m \u001B[49m\u001B[43mlevel\u001B[49m\u001B[43m)\u001B[49m\n",
      "File \u001B[0;32m<frozen importlib._bootstrap>:1050\u001B[0m, in \u001B[0;36m_gcd_import\u001B[0;34m(name, package, level)\u001B[0m\n",
      "File \u001B[0;32m<frozen importlib._bootstrap>:1027\u001B[0m, in \u001B[0;36m_find_and_load\u001B[0;34m(name, import_)\u001B[0m\n",
      "File \u001B[0;32m<frozen importlib._bootstrap>:1004\u001B[0m, in \u001B[0;36m_find_and_load_unlocked\u001B[0;34m(name, import_)\u001B[0m\n",
      "\u001B[0;31mModuleNotFoundError\u001B[0m: No module named 'xlrd'",
      "\nDuring handling of the above exception, another exception occurred:\n",
      "\u001B[0;31mImportError\u001B[0m                               Traceback (most recent call last)",
      "Cell \u001B[0;32mIn[58], line 1\u001B[0m\n\u001B[0;32m----> 1\u001B[0m mb \u001B[38;5;241m=\u001B[39m \u001B[43mpd\u001B[49m\u001B[38;5;241;43m.\u001B[39;49m\u001B[43mread_excel\u001B[49m\u001B[43m(\u001B[49m\u001B[38;5;124;43m'\u001B[39;49m\u001B[38;5;124;43mData/microbiome_MID2.xls\u001B[39;49m\u001B[38;5;124;43m'\u001B[39;49m\u001B[43m,\u001B[49m\u001B[43m \u001B[49m\u001B[43msheet_name\u001B[49m\u001B[38;5;241;43m=\u001B[39;49m\u001B[38;5;124;43m'\u001B[39;49m\u001B[38;5;124;43mSheet 1\u001B[39;49m\u001B[38;5;124;43m'\u001B[39;49m\u001B[43m,\u001B[49m\u001B[43m \u001B[49m\u001B[43mheader\u001B[49m\u001B[38;5;241;43m=\u001B[39;49m\u001B[38;5;28;43;01mNone\u001B[39;49;00m\u001B[43m)\u001B[49m\n\u001B[1;32m      2\u001B[0m mb\u001B[38;5;241m.\u001B[39mhead()\n",
      "File \u001B[0;32m~/.virtualenvs/2023/lib/python3.10/site-packages/pandas/io/excel/_base.py:504\u001B[0m, in \u001B[0;36mread_excel\u001B[0;34m(io, sheet_name, header, names, index_col, usecols, dtype, engine, converters, true_values, false_values, skiprows, nrows, na_values, keep_default_na, na_filter, verbose, parse_dates, date_parser, date_format, thousands, decimal, comment, skipfooter, storage_options, dtype_backend, engine_kwargs)\u001B[0m\n\u001B[1;32m    502\u001B[0m \u001B[38;5;28;01mif\u001B[39;00m \u001B[38;5;129;01mnot\u001B[39;00m \u001B[38;5;28misinstance\u001B[39m(io, ExcelFile):\n\u001B[1;32m    503\u001B[0m     should_close \u001B[38;5;241m=\u001B[39m \u001B[38;5;28;01mTrue\u001B[39;00m\n\u001B[0;32m--> 504\u001B[0m     io \u001B[38;5;241m=\u001B[39m \u001B[43mExcelFile\u001B[49m\u001B[43m(\u001B[49m\n\u001B[1;32m    505\u001B[0m \u001B[43m        \u001B[49m\u001B[43mio\u001B[49m\u001B[43m,\u001B[49m\n\u001B[1;32m    506\u001B[0m \u001B[43m        \u001B[49m\u001B[43mstorage_options\u001B[49m\u001B[38;5;241;43m=\u001B[39;49m\u001B[43mstorage_options\u001B[49m\u001B[43m,\u001B[49m\n\u001B[1;32m    507\u001B[0m \u001B[43m        \u001B[49m\u001B[43mengine\u001B[49m\u001B[38;5;241;43m=\u001B[39;49m\u001B[43mengine\u001B[49m\u001B[43m,\u001B[49m\n\u001B[1;32m    508\u001B[0m \u001B[43m        \u001B[49m\u001B[43mengine_kwargs\u001B[49m\u001B[38;5;241;43m=\u001B[39;49m\u001B[43mengine_kwargs\u001B[49m\u001B[43m,\u001B[49m\n\u001B[1;32m    509\u001B[0m \u001B[43m    \u001B[49m\u001B[43m)\u001B[49m\n\u001B[1;32m    510\u001B[0m \u001B[38;5;28;01melif\u001B[39;00m engine \u001B[38;5;129;01mand\u001B[39;00m engine \u001B[38;5;241m!=\u001B[39m io\u001B[38;5;241m.\u001B[39mengine:\n\u001B[1;32m    511\u001B[0m     \u001B[38;5;28;01mraise\u001B[39;00m \u001B[38;5;167;01mValueError\u001B[39;00m(\n\u001B[1;32m    512\u001B[0m         \u001B[38;5;124m\"\u001B[39m\u001B[38;5;124mEngine should not be specified when passing \u001B[39m\u001B[38;5;124m\"\u001B[39m\n\u001B[1;32m    513\u001B[0m         \u001B[38;5;124m\"\u001B[39m\u001B[38;5;124man ExcelFile - ExcelFile already has the engine set\u001B[39m\u001B[38;5;124m\"\u001B[39m\n\u001B[1;32m    514\u001B[0m     )\n",
      "File \u001B[0;32m~/.virtualenvs/2023/lib/python3.10/site-packages/pandas/io/excel/_base.py:1580\u001B[0m, in \u001B[0;36mExcelFile.__init__\u001B[0;34m(self, path_or_buffer, engine, storage_options, engine_kwargs)\u001B[0m\n\u001B[1;32m   1577\u001B[0m \u001B[38;5;28mself\u001B[39m\u001B[38;5;241m.\u001B[39mengine \u001B[38;5;241m=\u001B[39m engine\n\u001B[1;32m   1578\u001B[0m \u001B[38;5;28mself\u001B[39m\u001B[38;5;241m.\u001B[39mstorage_options \u001B[38;5;241m=\u001B[39m storage_options\n\u001B[0;32m-> 1580\u001B[0m \u001B[38;5;28mself\u001B[39m\u001B[38;5;241m.\u001B[39m_reader \u001B[38;5;241m=\u001B[39m \u001B[38;5;28;43mself\u001B[39;49m\u001B[38;5;241;43m.\u001B[39;49m\u001B[43m_engines\u001B[49m\u001B[43m[\u001B[49m\u001B[43mengine\u001B[49m\u001B[43m]\u001B[49m\u001B[43m(\u001B[49m\n\u001B[1;32m   1581\u001B[0m \u001B[43m    \u001B[49m\u001B[38;5;28;43mself\u001B[39;49m\u001B[38;5;241;43m.\u001B[39;49m\u001B[43m_io\u001B[49m\u001B[43m,\u001B[49m\n\u001B[1;32m   1582\u001B[0m \u001B[43m    \u001B[49m\u001B[43mstorage_options\u001B[49m\u001B[38;5;241;43m=\u001B[39;49m\u001B[43mstorage_options\u001B[49m\u001B[43m,\u001B[49m\n\u001B[1;32m   1583\u001B[0m \u001B[43m    \u001B[49m\u001B[43mengine_kwargs\u001B[49m\u001B[38;5;241;43m=\u001B[39;49m\u001B[43mengine_kwargs\u001B[49m\u001B[43m,\u001B[49m\n\u001B[1;32m   1584\u001B[0m \u001B[43m\u001B[49m\u001B[43m)\u001B[49m\n",
      "File \u001B[0;32m~/.virtualenvs/2023/lib/python3.10/site-packages/pandas/io/excel/_xlrd.py:44\u001B[0m, in \u001B[0;36mXlrdReader.__init__\u001B[0;34m(self, filepath_or_buffer, storage_options, engine_kwargs)\u001B[0m\n\u001B[1;32m     32\u001B[0m \u001B[38;5;250m\u001B[39m\u001B[38;5;124;03m\"\"\"\u001B[39;00m\n\u001B[1;32m     33\u001B[0m \u001B[38;5;124;03mReader using xlrd engine.\u001B[39;00m\n\u001B[1;32m     34\u001B[0m \n\u001B[0;32m   (...)\u001B[0m\n\u001B[1;32m     41\u001B[0m \u001B[38;5;124;03m    Arbitrary keyword arguments passed to excel engine.\u001B[39;00m\n\u001B[1;32m     42\u001B[0m \u001B[38;5;124;03m\"\"\"\u001B[39;00m\n\u001B[1;32m     43\u001B[0m err_msg \u001B[38;5;241m=\u001B[39m \u001B[38;5;124m\"\u001B[39m\u001B[38;5;124mInstall xlrd >= 2.0.1 for xls Excel support\u001B[39m\u001B[38;5;124m\"\u001B[39m\n\u001B[0;32m---> 44\u001B[0m \u001B[43mimport_optional_dependency\u001B[49m\u001B[43m(\u001B[49m\u001B[38;5;124;43m\"\u001B[39;49m\u001B[38;5;124;43mxlrd\u001B[39;49m\u001B[38;5;124;43m\"\u001B[39;49m\u001B[43m,\u001B[49m\u001B[43m \u001B[49m\u001B[43mextra\u001B[49m\u001B[38;5;241;43m=\u001B[39;49m\u001B[43merr_msg\u001B[49m\u001B[43m)\u001B[49m\n\u001B[1;32m     45\u001B[0m \u001B[38;5;28msuper\u001B[39m()\u001B[38;5;241m.\u001B[39m\u001B[38;5;21m__init__\u001B[39m(\n\u001B[1;32m     46\u001B[0m     filepath_or_buffer,\n\u001B[1;32m     47\u001B[0m     storage_options\u001B[38;5;241m=\u001B[39mstorage_options,\n\u001B[1;32m     48\u001B[0m     engine_kwargs\u001B[38;5;241m=\u001B[39mengine_kwargs,\n\u001B[1;32m     49\u001B[0m )\n",
      "File \u001B[0;32m~/.virtualenvs/2023/lib/python3.10/site-packages/pandas/compat/_optional.py:135\u001B[0m, in \u001B[0;36mimport_optional_dependency\u001B[0;34m(name, extra, errors, min_version)\u001B[0m\n\u001B[1;32m    133\u001B[0m \u001B[38;5;28;01mexcept\u001B[39;00m \u001B[38;5;167;01mImportError\u001B[39;00m:\n\u001B[1;32m    134\u001B[0m     \u001B[38;5;28;01mif\u001B[39;00m errors \u001B[38;5;241m==\u001B[39m \u001B[38;5;124m\"\u001B[39m\u001B[38;5;124mraise\u001B[39m\u001B[38;5;124m\"\u001B[39m:\n\u001B[0;32m--> 135\u001B[0m         \u001B[38;5;28;01mraise\u001B[39;00m \u001B[38;5;167;01mImportError\u001B[39;00m(msg)\n\u001B[1;32m    136\u001B[0m     \u001B[38;5;28;01mreturn\u001B[39;00m \u001B[38;5;28;01mNone\u001B[39;00m\n\u001B[1;32m    138\u001B[0m \u001B[38;5;66;03m# Handle submodules: if we have submodule, grab parent module from sys.modules\u001B[39;00m\n",
      "\u001B[0;31mImportError\u001B[0m: Missing optional dependency 'xlrd'. Install xlrd >= 2.0.1 for xls Excel support Use pip or conda to install xlrd."
     ]
    }
   ],
   "source": [
    "mb = pd.read_excel('Data/microbiome_MID2.xls', sheet_name='Sheet 1', header=None)\n",
    "mb.head()"
   ]
  },
  {
   "cell_type": "markdown",
   "metadata": {},
   "source": [
    "There are several other data formats that can be imported into Python and converted into `DataFrames`, with the help of buitl-in or third-party libraries. These include JSON, XML, HDF5, relational and non-relational databases, and various web APIs. These are beyond the scope of this tutorial, but are covered in [Python for Data Analysis](http://shop.oreilly.com/product/0636920023784.do)."
   ]
  },
  {
   "cell_type": "markdown",
   "metadata": {},
   "source": [
    "## Indexing and Selection"
   ]
  },
  {
   "cell_type": "markdown",
   "metadata": {},
   "source": [
    "This section introduces the new user to the key functionality of Pandas that is required to use the software effectively.\n",
    "\n",
    "For some variety, we will leave our digestive tract bacteria behind and employ some baseball data."
   ]
  },
  {
   "cell_type": "code",
   "execution_count": 164,
   "metadata": {
    "scrolled": true,
    "ExecuteTime": {
     "end_time": "2024-01-10T22:13:48.229204Z",
     "start_time": "2024-01-10T22:13:48.131813200Z"
    }
   },
   "outputs": [
    {
     "data": {
      "text/plain": "          player  year  stint team  lg   g  ab  r   h  X2b  ...  rbi   sb  \\\nid                                                          ...             \n88641  womacto01  2006      2  CHN  NL  19  50  6  14    1  ...  2.0  1.0   \n88643  schilcu01  2006      1  BOS  AL  31   2  0   1    0  ...  0.0  0.0   \n88645  myersmi01  2006      1  NYA  AL  62   0  0   0    0  ...  0.0  0.0   \n88649  helliri01  2006      1  MIL  NL  20   3  0   0    0  ...  0.0  0.0   \n88650  johnsra05  2006      1  NYA  AL  33   6  0   1    0  ...  0.0  0.0   \n\n        cs  bb   so  ibb  hbp   sh   sf  gidp  \nid                                             \n88641  1.0   4  4.0  0.0  0.0  3.0  0.0   0.0  \n88643  0.0   0  1.0  0.0  0.0  0.0  0.0   0.0  \n88645  0.0   0  0.0  0.0  0.0  0.0  0.0   0.0  \n88649  0.0   0  2.0  0.0  0.0  0.0  0.0   0.0  \n88650  0.0   0  4.0  0.0  0.0  0.0  0.0   0.0  \n\n[5 rows x 22 columns]",
      "text/html": "<div>\n<style scoped>\n    .dataframe tbody tr th:only-of-type {\n        vertical-align: middle;\n    }\n\n    .dataframe tbody tr th {\n        vertical-align: top;\n    }\n\n    .dataframe thead th {\n        text-align: right;\n    }\n</style>\n<table border=\"1\" class=\"dataframe\">\n  <thead>\n    <tr style=\"text-align: right;\">\n      <th></th>\n      <th>player</th>\n      <th>year</th>\n      <th>stint</th>\n      <th>team</th>\n      <th>lg</th>\n      <th>g</th>\n      <th>ab</th>\n      <th>r</th>\n      <th>h</th>\n      <th>X2b</th>\n      <th>...</th>\n      <th>rbi</th>\n      <th>sb</th>\n      <th>cs</th>\n      <th>bb</th>\n      <th>so</th>\n      <th>ibb</th>\n      <th>hbp</th>\n      <th>sh</th>\n      <th>sf</th>\n      <th>gidp</th>\n    </tr>\n    <tr>\n      <th>id</th>\n      <th></th>\n      <th></th>\n      <th></th>\n      <th></th>\n      <th></th>\n      <th></th>\n      <th></th>\n      <th></th>\n      <th></th>\n      <th></th>\n      <th></th>\n      <th></th>\n      <th></th>\n      <th></th>\n      <th></th>\n      <th></th>\n      <th></th>\n      <th></th>\n      <th></th>\n      <th></th>\n      <th></th>\n    </tr>\n  </thead>\n  <tbody>\n    <tr>\n      <th>88641</th>\n      <td>womacto01</td>\n      <td>2006</td>\n      <td>2</td>\n      <td>CHN</td>\n      <td>NL</td>\n      <td>19</td>\n      <td>50</td>\n      <td>6</td>\n      <td>14</td>\n      <td>1</td>\n      <td>...</td>\n      <td>2.0</td>\n      <td>1.0</td>\n      <td>1.0</td>\n      <td>4</td>\n      <td>4.0</td>\n      <td>0.0</td>\n      <td>0.0</td>\n      <td>3.0</td>\n      <td>0.0</td>\n      <td>0.0</td>\n    </tr>\n    <tr>\n      <th>88643</th>\n      <td>schilcu01</td>\n      <td>2006</td>\n      <td>1</td>\n      <td>BOS</td>\n      <td>AL</td>\n      <td>31</td>\n      <td>2</td>\n      <td>0</td>\n      <td>1</td>\n      <td>0</td>\n      <td>...</td>\n      <td>0.0</td>\n      <td>0.0</td>\n      <td>0.0</td>\n      <td>0</td>\n      <td>1.0</td>\n      <td>0.0</td>\n      <td>0.0</td>\n      <td>0.0</td>\n      <td>0.0</td>\n      <td>0.0</td>\n    </tr>\n    <tr>\n      <th>88645</th>\n      <td>myersmi01</td>\n      <td>2006</td>\n      <td>1</td>\n      <td>NYA</td>\n      <td>AL</td>\n      <td>62</td>\n      <td>0</td>\n      <td>0</td>\n      <td>0</td>\n      <td>0</td>\n      <td>...</td>\n      <td>0.0</td>\n      <td>0.0</td>\n      <td>0.0</td>\n      <td>0</td>\n      <td>0.0</td>\n      <td>0.0</td>\n      <td>0.0</td>\n      <td>0.0</td>\n      <td>0.0</td>\n      <td>0.0</td>\n    </tr>\n    <tr>\n      <th>88649</th>\n      <td>helliri01</td>\n      <td>2006</td>\n      <td>1</td>\n      <td>MIL</td>\n      <td>NL</td>\n      <td>20</td>\n      <td>3</td>\n      <td>0</td>\n      <td>0</td>\n      <td>0</td>\n      <td>...</td>\n      <td>0.0</td>\n      <td>0.0</td>\n      <td>0.0</td>\n      <td>0</td>\n      <td>2.0</td>\n      <td>0.0</td>\n      <td>0.0</td>\n      <td>0.0</td>\n      <td>0.0</td>\n      <td>0.0</td>\n    </tr>\n    <tr>\n      <th>88650</th>\n      <td>johnsra05</td>\n      <td>2006</td>\n      <td>1</td>\n      <td>NYA</td>\n      <td>AL</td>\n      <td>33</td>\n      <td>6</td>\n      <td>0</td>\n      <td>1</td>\n      <td>0</td>\n      <td>...</td>\n      <td>0.0</td>\n      <td>0.0</td>\n      <td>0.0</td>\n      <td>0</td>\n      <td>4.0</td>\n      <td>0.0</td>\n      <td>0.0</td>\n      <td>0.0</td>\n      <td>0.0</td>\n      <td>0.0</td>\n    </tr>\n  </tbody>\n</table>\n<p>5 rows × 22 columns</p>\n</div>"
     },
     "execution_count": 164,
     "metadata": {},
     "output_type": "execute_result"
    }
   ],
   "source": [
    "baseball = pd.read_csv(\"Data/baseball.csv\", index_col='id')\n",
    "baseball.head()"
   ]
  },
  {
   "cell_type": "markdown",
   "metadata": {},
   "source": [
    "Notice that we specified the `id` column as the index, since it appears to be a unique identifier. We could try to create a unique index ourselves by combining `player` and `year`:"
   ]
  },
  {
   "cell_type": "code",
   "execution_count": 59,
   "metadata": {
    "ExecuteTime": {
     "start_time": "2024-01-10T21:07:36.158997300Z"
    }
   },
   "outputs": [
    {
     "ename": "NameError",
     "evalue": "name 'baseball' is not defined",
     "output_type": "error",
     "traceback": [
      "\u001B[0;31m---------------------------------------------------------------------------\u001B[0m",
      "\u001B[0;31mNameError\u001B[0m                                 Traceback (most recent call last)",
      "Cell \u001B[0;32mIn[59], line 1\u001B[0m\n\u001B[0;32m----> 1\u001B[0m \u001B[43mbaseball\u001B[49m\u001B[38;5;241m.\u001B[39mindex\u001B[38;5;241m.\u001B[39mis_unique\n",
      "\u001B[0;31mNameError\u001B[0m: name 'baseball' is not defined"
     ]
    }
   ],
   "source": [
    "baseball.index.is_unique"
   ]
  },
  {
   "cell_type": "code",
   "execution_count": 60,
   "metadata": {
    "ExecuteTime": {
     "end_time": "2024-01-10T21:07:37.512537600Z",
     "start_time": "2024-01-10T21:07:36.954038700Z"
    }
   },
   "outputs": [
    {
     "ename": "NameError",
     "evalue": "name 'baseball' is not defined",
     "output_type": "error",
     "traceback": [
      "\u001B[0;31m---------------------------------------------------------------------------\u001B[0m",
      "\u001B[0;31mNameError\u001B[0m                                 Traceback (most recent call last)",
      "Cell \u001B[0;32mIn[60], line 1\u001B[0m\n\u001B[0;32m----> 1\u001B[0m player_id \u001B[38;5;241m=\u001B[39m \u001B[43mbaseball\u001B[49m\u001B[38;5;241m.\u001B[39mplayer \u001B[38;5;241m+\u001B[39m baseball\u001B[38;5;241m.\u001B[39myear\u001B[38;5;241m.\u001B[39mastype(\u001B[38;5;28mstr\u001B[39m)\n\u001B[1;32m      2\u001B[0m baseball_newind \u001B[38;5;241m=\u001B[39m baseball\u001B[38;5;241m.\u001B[39mcopy()\n\u001B[1;32m      3\u001B[0m baseball_newind\u001B[38;5;241m.\u001B[39mindex \u001B[38;5;241m=\u001B[39m player_id\n",
      "\u001B[0;31mNameError\u001B[0m: name 'baseball' is not defined"
     ]
    }
   ],
   "source": [
    "player_id = baseball.player + baseball.year.astype(str)\n",
    "baseball_newind = baseball.copy()\n",
    "baseball_newind.index = player_id\n",
    "baseball_newind.head()"
   ]
  },
  {
   "cell_type": "markdown",
   "metadata": {},
   "source": [
    "This looks okay, but let's check:"
   ]
  },
  {
   "cell_type": "code",
   "execution_count": 61,
   "metadata": {
    "ExecuteTime": {
     "end_time": "2024-01-10T21:07:37.685004500Z",
     "start_time": "2024-01-10T21:07:37.517530200Z"
    }
   },
   "outputs": [
    {
     "ename": "NameError",
     "evalue": "name 'baseball_newind' is not defined",
     "output_type": "error",
     "traceback": [
      "\u001B[0;31m---------------------------------------------------------------------------\u001B[0m",
      "\u001B[0;31mNameError\u001B[0m                                 Traceback (most recent call last)",
      "Cell \u001B[0;32mIn[61], line 1\u001B[0m\n\u001B[0;32m----> 1\u001B[0m \u001B[43mbaseball_newind\u001B[49m\u001B[38;5;241m.\u001B[39mindex\u001B[38;5;241m.\u001B[39mis_unique\n",
      "\u001B[0;31mNameError\u001B[0m: name 'baseball_newind' is not defined"
     ]
    }
   ],
   "source": [
    "baseball_newind.index.is_unique"
   ]
  },
  {
   "cell_type": "markdown",
   "metadata": {},
   "source": [
    "So, indices need not be unique. Our choice is not unique because some players change teams within years."
   ]
  },
  {
   "cell_type": "markdown",
   "metadata": {},
   "source": [
    "The most important consequence of a non-unique index is that indexing by label will return multiple values for some labels:"
   ]
  },
  {
   "cell_type": "code",
   "execution_count": 62,
   "metadata": {
    "ExecuteTime": {
     "start_time": "2024-01-10T21:07:37.650479800Z"
    }
   },
   "outputs": [
    {
     "ename": "NameError",
     "evalue": "name 'baseball_newind' is not defined",
     "output_type": "error",
     "traceback": [
      "\u001B[0;31m---------------------------------------------------------------------------\u001B[0m",
      "\u001B[0;31mNameError\u001B[0m                                 Traceback (most recent call last)",
      "Cell \u001B[0;32mIn[62], line 1\u001B[0m\n\u001B[0;32m----> 1\u001B[0m \u001B[43mbaseball_newind\u001B[49m\u001B[38;5;241m.\u001B[39mloc[\u001B[38;5;124m'\u001B[39m\u001B[38;5;124mwickmbo012007\u001B[39m\u001B[38;5;124m'\u001B[39m]\n",
      "\u001B[0;31mNameError\u001B[0m: name 'baseball_newind' is not defined"
     ]
    }
   ],
   "source": [
    "baseball_newind.loc['wickmbo012007']"
   ]
  },
  {
   "cell_type": "markdown",
   "metadata": {},
   "source": [
    "We will learn more about indexing below."
   ]
  },
  {
   "cell_type": "markdown",
   "metadata": {},
   "source": [
    "We can create a truly unique index by combining `player`, `team` and `year`:"
   ]
  },
  {
   "cell_type": "code",
   "execution_count": 63,
   "metadata": {
    "ExecuteTime": {
     "end_time": "2024-01-10T21:07:37.854505500Z",
     "start_time": "2024-01-10T21:07:37.764488100Z"
    }
   },
   "outputs": [
    {
     "ename": "NameError",
     "evalue": "name 'baseball' is not defined",
     "output_type": "error",
     "traceback": [
      "\u001B[0;31m---------------------------------------------------------------------------\u001B[0m",
      "\u001B[0;31mNameError\u001B[0m                                 Traceback (most recent call last)",
      "Cell \u001B[0;32mIn[63], line 1\u001B[0m\n\u001B[0;32m----> 1\u001B[0m player_unique \u001B[38;5;241m=\u001B[39m \u001B[43mbaseball\u001B[49m\u001B[38;5;241m.\u001B[39mplayer \u001B[38;5;241m+\u001B[39m baseball\u001B[38;5;241m.\u001B[39mteam \u001B[38;5;241m+\u001B[39m baseball\u001B[38;5;241m.\u001B[39myear\u001B[38;5;241m.\u001B[39mastype(\u001B[38;5;28mstr\u001B[39m)\n\u001B[1;32m      2\u001B[0m baseball_newind \u001B[38;5;241m=\u001B[39m baseball\u001B[38;5;241m.\u001B[39mcopy()\n\u001B[1;32m      3\u001B[0m baseball_newind\u001B[38;5;241m.\u001B[39mindex \u001B[38;5;241m=\u001B[39m player_unique\n",
      "\u001B[0;31mNameError\u001B[0m: name 'baseball' is not defined"
     ]
    }
   ],
   "source": [
    "player_unique = baseball.player + baseball.team + baseball.year.astype(str)\n",
    "baseball_newind = baseball.copy()\n",
    "baseball_newind.index = player_unique\n",
    "baseball_newind.head()"
   ]
  },
  {
   "cell_type": "code",
   "execution_count": 64,
   "metadata": {
    "ExecuteTime": {
     "end_time": "2024-01-10T21:07:38.011462500Z",
     "start_time": "2024-01-10T21:07:37.870133400Z"
    }
   },
   "outputs": [
    {
     "ename": "NameError",
     "evalue": "name 'baseball_newind' is not defined",
     "output_type": "error",
     "traceback": [
      "\u001B[0;31m---------------------------------------------------------------------------\u001B[0m",
      "\u001B[0;31mNameError\u001B[0m                                 Traceback (most recent call last)",
      "Cell \u001B[0;32mIn[64], line 1\u001B[0m\n\u001B[0;32m----> 1\u001B[0m \u001B[43mbaseball_newind\u001B[49m\u001B[38;5;241m.\u001B[39mindex\u001B[38;5;241m.\u001B[39mis_unique\n",
      "\u001B[0;31mNameError\u001B[0m: name 'baseball_newind' is not defined"
     ]
    }
   ],
   "source": [
    "baseball_newind.index.is_unique"
   ]
  },
  {
   "cell_type": "markdown",
   "metadata": {},
   "source": [
    "We can create meaningful indices more easily using a hierarchical index; for now, we will stick with the numeric `id` field as our index."
   ]
  },
  {
   "cell_type": "markdown",
   "metadata": {},
   "source": [
    "### Exercise 3\n",
    "Build another unique index without using the same columns as `player_unique`."
   ]
  },
  {
   "cell_type": "code",
   "execution_count": 65,
   "metadata": {
    "ExecuteTime": {
     "start_time": "2024-01-10T21:07:37.998462300Z"
    }
   },
   "outputs": [
    {
     "ename": "NameError",
     "evalue": "name 'baseball' is not defined",
     "output_type": "error",
     "traceback": [
      "\u001B[0;31m---------------------------------------------------------------------------\u001B[0m",
      "\u001B[0;31mNameError\u001B[0m                                 Traceback (most recent call last)",
      "Cell \u001B[0;32mIn[65], line 1\u001B[0m\n\u001B[0;32m----> 1\u001B[0m player_unique \u001B[38;5;241m=\u001B[39m \u001B[43mbaseball\u001B[49m\u001B[38;5;241m.\u001B[39mteam \u001B[38;5;241m+\u001B[39m baseball\u001B[38;5;241m.\u001B[39myear\u001B[38;5;241m.\u001B[39mastype(\u001B[38;5;28mstr\u001B[39m) \u001B[38;5;241m+\u001B[39m baseball\u001B[38;5;241m.\u001B[39mplayer\n\u001B[1;32m      2\u001B[0m player_unique\u001B[38;5;241m.\u001B[39mis_unique\n",
      "\u001B[0;31mNameError\u001B[0m: name 'baseball' is not defined"
     ]
    }
   ],
   "source": [
    "player_unique = baseball.team + baseball.year.astype(str) + baseball.player\n",
    "player_unique.is_unique"
   ]
  },
  {
   "cell_type": "markdown",
   "metadata": {},
   "source": [
    "\n",
    "Indexing works analogously to indexing in NumPy arrays, except we can use the labels in the `Index` object to extract values in addition to arrays of integers."
   ]
  },
  {
   "cell_type": "code",
   "execution_count": 66,
   "metadata": {
    "ExecuteTime": {
     "end_time": "2024-01-10T21:07:38.186410900Z",
     "start_time": "2024-01-10T21:07:38.121443200Z"
    }
   },
   "outputs": [
    {
     "ename": "NameError",
     "evalue": "name 'baseball_newind' is not defined",
     "output_type": "error",
     "traceback": [
      "\u001B[0;31m---------------------------------------------------------------------------\u001B[0m",
      "\u001B[0;31mNameError\u001B[0m                                 Traceback (most recent call last)",
      "Cell \u001B[0;32mIn[66], line 2\u001B[0m\n\u001B[1;32m      1\u001B[0m \u001B[38;5;66;03m# Numpy-style indexing\u001B[39;00m\n\u001B[0;32m----> 2\u001B[0m \u001B[43mbaseball_newind\u001B[49m[:\u001B[38;5;241m3\u001B[39m]\n",
      "\u001B[0;31mNameError\u001B[0m: name 'baseball_newind' is not defined"
     ]
    }
   ],
   "source": [
    "# Numpy-style indexing\n",
    "baseball_newind[:3]"
   ]
  },
  {
   "cell_type": "markdown",
   "metadata": {},
   "source": [
    "We can also slice with data labels, since they have an intrinsic order within the Index:"
   ]
  },
  {
   "cell_type": "code",
   "execution_count": 67,
   "metadata": {
    "ExecuteTime": {
     "start_time": "2024-01-10T21:07:38.175640Z"
    }
   },
   "outputs": [
    {
     "ename": "NameError",
     "evalue": "name 'baseball_newind' is not defined",
     "output_type": "error",
     "traceback": [
      "\u001B[0;31m---------------------------------------------------------------------------\u001B[0m",
      "\u001B[0;31mNameError\u001B[0m                                 Traceback (most recent call last)",
      "Cell \u001B[0;32mIn[67], line 1\u001B[0m\n\u001B[0;32m----> 1\u001B[0m \u001B[43mbaseball_newind\u001B[49m[\u001B[38;5;124m'\u001B[39m\u001B[38;5;124mwomacto01CHN2006\u001B[39m\u001B[38;5;124m'\u001B[39m:\u001B[38;5;124m'\u001B[39m\u001B[38;5;124mgonzalu01ARI2006\u001B[39m\u001B[38;5;124m'\u001B[39m]\n",
      "\u001B[0;31mNameError\u001B[0m: name 'baseball_newind' is not defined"
     ]
    }
   ],
   "source": [
    "baseball_newind['womacto01CHN2006':'gonzalu01ARI2006']"
   ]
  },
  {
   "cell_type": "code",
   "execution_count": 68,
   "metadata": {
    "ExecuteTime": {
     "end_time": "2024-01-10T21:07:38.375445500Z",
     "start_time": "2024-01-10T21:07:38.313925600Z"
    }
   },
   "outputs": [
    {
     "ename": "NameError",
     "evalue": "name 'baseball_newind' is not defined",
     "output_type": "error",
     "traceback": [
      "\u001B[0;31m---------------------------------------------------------------------------\u001B[0m",
      "\u001B[0;31mNameError\u001B[0m                                 Traceback (most recent call last)",
      "Cell \u001B[0;32mIn[68], line 1\u001B[0m\n\u001B[0;32m----> 1\u001B[0m \u001B[43mbaseball_newind\u001B[49m[\u001B[38;5;124m'\u001B[39m\u001B[38;5;124mwomacto01CHN2006\u001B[39m\u001B[38;5;124m'\u001B[39m:\u001B[38;5;124m'\u001B[39m\u001B[38;5;124mgonzalu01ARI2006\u001B[39m\u001B[38;5;124m'\u001B[39m] \u001B[38;5;241m=\u001B[39m \u001B[38;5;241m5\u001B[39m\n\u001B[1;32m      2\u001B[0m baseball_newind\u001B[38;5;241m.\u001B[39mhead(\u001B[38;5;241m10\u001B[39m)\n",
      "\u001B[0;31mNameError\u001B[0m: name 'baseball_newind' is not defined"
     ]
    }
   ],
   "source": [
    "baseball_newind['womacto01CHN2006':'gonzalu01ARI2006'] = 5\n",
    "baseball_newind.head(10)"
   ]
  },
  {
   "cell_type": "markdown",
   "metadata": {},
   "source": [
    "For a more concise (and readable) syntax, we can use the new `query` method to perform selection on a `DataFrame`. Instead of having to type the fully-specified column, we can simply pass a string that describes what to select. The query above is then simply:"
   ]
  },
  {
   "cell_type": "code",
   "execution_count": 69,
   "metadata": {
    "ExecuteTime": {
     "end_time": "2024-01-10T21:07:38.528530500Z",
     "start_time": "2024-01-10T21:07:38.381445200Z"
    }
   },
   "outputs": [
    {
     "ename": "NameError",
     "evalue": "name 'baseball_newind' is not defined",
     "output_type": "error",
     "traceback": [
      "\u001B[0;31m---------------------------------------------------------------------------\u001B[0m",
      "\u001B[0;31mNameError\u001B[0m                                 Traceback (most recent call last)",
      "Cell \u001B[0;32mIn[69], line 1\u001B[0m\n\u001B[0;32m----> 1\u001B[0m \u001B[43mbaseball_newind\u001B[49m\u001B[38;5;241m.\u001B[39mquery(\u001B[38;5;124m'\u001B[39m\u001B[38;5;124mab > 500\u001B[39m\u001B[38;5;124m'\u001B[39m)\n",
      "\u001B[0;31mNameError\u001B[0m: name 'baseball_newind' is not defined"
     ]
    }
   ],
   "source": [
    "baseball_newind.query('ab > 500')"
   ]
  },
  {
   "cell_type": "markdown",
   "metadata": {},
   "source": [
    "The `DataFrame.index` and `DataFrame.columns` are placed in the query namespace by default. If you want to refer to a variable in the current namespace, you can prefix the variable with `@`:"
   ]
  },
  {
   "cell_type": "code",
   "execution_count": 70,
   "metadata": {
    "ExecuteTime": {
     "end_time": "2024-01-10T21:07:38.612648300Z",
     "start_time": "2024-01-10T21:07:38.482458200Z"
    }
   },
   "outputs": [],
   "source": [
    "min_ab = 500"
   ]
  },
  {
   "cell_type": "code",
   "execution_count": 71,
   "metadata": {
    "ExecuteTime": {
     "end_time": "2024-01-10T21:07:38.689478600Z",
     "start_time": "2024-01-10T21:07:38.597471600Z"
    }
   },
   "outputs": [
    {
     "ename": "NameError",
     "evalue": "name 'baseball_newind' is not defined",
     "output_type": "error",
     "traceback": [
      "\u001B[0;31m---------------------------------------------------------------------------\u001B[0m",
      "\u001B[0;31mNameError\u001B[0m                                 Traceback (most recent call last)",
      "Cell \u001B[0;32mIn[71], line 1\u001B[0m\n\u001B[0;32m----> 1\u001B[0m \u001B[43mbaseball_newind\u001B[49m\u001B[38;5;241m.\u001B[39mquery(\u001B[38;5;124m'\u001B[39m\u001B[38;5;124mab > @min_ab\u001B[39m\u001B[38;5;124m'\u001B[39m)\n",
      "\u001B[0;31mNameError\u001B[0m: name 'baseball_newind' is not defined"
     ]
    }
   ],
   "source": [
    "baseball_newind.query('ab > @min_ab')"
   ]
  },
  {
   "cell_type": "markdown",
   "metadata": {},
   "source": [
    "The indexing field `loc` allows us to select subsets of rows and columns in an intuitive way:"
   ]
  },
  {
   "cell_type": "code",
   "execution_count": 72,
   "metadata": {
    "ExecuteTime": {
     "end_time": "2024-01-10T21:07:38.819989300Z",
     "start_time": "2024-01-10T21:07:38.696475800Z"
    }
   },
   "outputs": [
    {
     "ename": "NameError",
     "evalue": "name 'baseball_newind' is not defined",
     "output_type": "error",
     "traceback": [
      "\u001B[0;31m---------------------------------------------------------------------------\u001B[0m",
      "\u001B[0;31mNameError\u001B[0m                                 Traceback (most recent call last)",
      "Cell \u001B[0;32mIn[72], line 1\u001B[0m\n\u001B[0;32m----> 1\u001B[0m \u001B[43mbaseball_newind\u001B[49m\u001B[38;5;241m.\u001B[39mloc[\u001B[38;5;124m'\u001B[39m\u001B[38;5;124mgonzalu01ARI2006\u001B[39m\u001B[38;5;124m'\u001B[39m, [\u001B[38;5;124m'\u001B[39m\u001B[38;5;124mh\u001B[39m\u001B[38;5;124m'\u001B[39m,\u001B[38;5;124m'\u001B[39m\u001B[38;5;124mX2b\u001B[39m\u001B[38;5;124m'\u001B[39m, \u001B[38;5;124m'\u001B[39m\u001B[38;5;124mX3b\u001B[39m\u001B[38;5;124m'\u001B[39m, \u001B[38;5;124m'\u001B[39m\u001B[38;5;124mhr\u001B[39m\u001B[38;5;124m'\u001B[39m]]\n",
      "\u001B[0;31mNameError\u001B[0m: name 'baseball_newind' is not defined"
     ]
    }
   ],
   "source": [
    "baseball_newind.loc['gonzalu01ARI2006', ['h','X2b', 'X3b', 'hr']]"
   ]
  },
  {
   "cell_type": "code",
   "execution_count": 73,
   "metadata": {
    "ExecuteTime": {
     "start_time": "2024-01-10T21:07:38.792991Z"
    }
   },
   "outputs": [
    {
     "ename": "NameError",
     "evalue": "name 'baseball_newind' is not defined",
     "output_type": "error",
     "traceback": [
      "\u001B[0;31m---------------------------------------------------------------------------\u001B[0m",
      "\u001B[0;31mNameError\u001B[0m                                 Traceback (most recent call last)",
      "Cell \u001B[0;32mIn[73], line 1\u001B[0m\n\u001B[0;32m----> 1\u001B[0m \u001B[43mbaseball_newind\u001B[49m\u001B[38;5;241m.\u001B[39mloc[:\u001B[38;5;124m'\u001B[39m\u001B[38;5;124mmyersmi01NYA2006\u001B[39m\u001B[38;5;124m'\u001B[39m, \u001B[38;5;124m'\u001B[39m\u001B[38;5;124mhr\u001B[39m\u001B[38;5;124m'\u001B[39m]\n",
      "\u001B[0;31mNameError\u001B[0m: name 'baseball_newind' is not defined"
     ]
    }
   ],
   "source": [
    "baseball_newind.loc[:'myersmi01NYA2006', 'hr']"
   ]
  },
  {
   "cell_type": "markdown",
   "metadata": {},
   "source": [
    "In addition to using `loc` to select rows and columns by **label**, pandas also allows indexing by **position** using the `iloc` attribute.\n",
    "\n",
    "So, we can query rows and columns by absolute position, rather than by name:"
   ]
  },
  {
   "cell_type": "code",
   "execution_count": 74,
   "metadata": {
    "ExecuteTime": {
     "end_time": "2024-01-10T21:07:38.971287800Z",
     "start_time": "2024-01-10T21:07:38.883536200Z"
    }
   },
   "outputs": [
    {
     "ename": "NameError",
     "evalue": "name 'baseball_newind' is not defined",
     "output_type": "error",
     "traceback": [
      "\u001B[0;31m---------------------------------------------------------------------------\u001B[0m",
      "\u001B[0;31mNameError\u001B[0m                                 Traceback (most recent call last)",
      "Cell \u001B[0;32mIn[74], line 1\u001B[0m\n\u001B[0;32m----> 1\u001B[0m \u001B[43mbaseball_newind\u001B[49m\u001B[38;5;241m.\u001B[39miloc[:\u001B[38;5;241m5\u001B[39m, \u001B[38;5;241m5\u001B[39m:\u001B[38;5;241m8\u001B[39m]\n",
      "\u001B[0;31mNameError\u001B[0m: name 'baseball_newind' is not defined"
     ]
    }
   ],
   "source": [
    "baseball_newind.iloc[:5, 5:8]"
   ]
  },
  {
   "cell_type": "markdown",
   "metadata": {},
   "source": [
    "### Exercise 4\n",
    "\n",
    "You can use the `isin` method query a DataFrame based upon a list of values as follows: \n",
    "\n",
    "    data['phylum'].isin(['Firmicutes', 'Bacteroidetes'])\n",
    "\n",
    "Use `isin` on `baseball`to find all players that played for the Los Angeles Dodgers (LAN) or the San Francisco Giants (SFN). How many records contain these values?"
   ]
  },
  {
   "cell_type": "code",
   "execution_count": 167,
   "metadata": {
    "ExecuteTime": {
     "end_time": "2024-01-10T22:15:20.193873300Z",
     "start_time": "2024-01-10T22:15:20.119065100Z"
    }
   },
   "outputs": [
    {
     "data": {
      "text/plain": "          player  year  stint team  lg    g   ab   r    h  X2b  ...   rbi  \\\nid                                                              ...         \n88652  finlest01  2006      1  SFN  NL  139  426  66  105   21  ...  40.0   \n88662   seleaa01  2006      1  LAN  NL   28   26   2    5    1  ...   0.0   \n89339  wellsda01  2007      2  LAN  NL    7   15   2    4    1  ...   1.0   \n89347  vizquom01  2007      1  SFN  NL  145  513  54  126   18  ...  51.0   \n89365  sweenma01  2007      2  LAN  NL   30   33   2    9    1  ...   3.0   \n89366  sweenma01  2007      1  SFN  NL   76   90  18   23    8  ...  10.0   \n89382  seaneru01  2007      1  LAN  NL   68    1   0    0    0  ...   0.0   \n89383  schmija01  2007      1  LAN  NL    6    7   1    1    0  ...   1.0   \n89431  loaizes01  2007      1  LAN  NL    5    7   0    1    0  ...   2.0   \n89438  kleskry01  2007      1  SFN  NL  116  362  51   94   27  ...  44.0   \n89439   kentje01  2007      1  LAN  NL  136  494  78  149   36  ...  79.0   \n89451  hernaro01  2007      2  LAN  NL   22    0   0    0    0  ...   0.0   \n89466  gonzalu01  2007      1  LAN  NL  139  464  70  129   23  ...  68.0   \n89521  bondsba01  2007      1  SFN  NL  126  340  75   94   14  ...  66.0   \n89526  benitar01  2007      1  SFN  NL   19    0   0    0    0  ...   0.0   \n\n         sb   cs   bb    so   ibb  hbp    sh   sf  gidp  \nid                                                       \n88652   7.0  0.0   46  55.0   2.0  2.0   3.0  4.0   6.0  \n88662   0.0  0.0    1   7.0   0.0  0.0   6.0  0.0   1.0  \n89339   0.0  0.0    0   6.0   0.0  0.0   0.0  0.0   0.0  \n89347  14.0  6.0   44  48.0   6.0  1.0  14.0  3.0  14.0  \n89365   0.0  0.0    1  11.0   0.0  0.0   0.0  0.0   0.0  \n89366   2.0  0.0   13  18.0   0.0  3.0   1.0  0.0   0.0  \n89382   0.0  0.0    0   1.0   0.0  0.0   0.0  0.0   0.0  \n89383   0.0  0.0    0   4.0   0.0  0.0   1.0  0.0   0.0  \n89431   0.0  0.0    0   2.0   0.0  0.0   2.0  0.0   1.0  \n89438   5.0  1.0   46  68.0   2.0  1.0   1.0  1.0  14.0  \n89439   1.0  3.0   57  61.0   4.0  5.0   0.0  6.0  17.0  \n89451   0.0  0.0    0   0.0   0.0  0.0   0.0  0.0   0.0  \n89466   6.0  2.0   56  56.0   4.0  4.0   0.0  2.0  11.0  \n89521   5.0  0.0  132  54.0  43.0  3.0   0.0  2.0  13.0  \n89526   0.0  0.0    0   0.0   0.0  0.0   0.0  0.0   0.0  \n\n[15 rows x 22 columns]",
      "text/html": "<div>\n<style scoped>\n    .dataframe tbody tr th:only-of-type {\n        vertical-align: middle;\n    }\n\n    .dataframe tbody tr th {\n        vertical-align: top;\n    }\n\n    .dataframe thead th {\n        text-align: right;\n    }\n</style>\n<table border=\"1\" class=\"dataframe\">\n  <thead>\n    <tr style=\"text-align: right;\">\n      <th></th>\n      <th>player</th>\n      <th>year</th>\n      <th>stint</th>\n      <th>team</th>\n      <th>lg</th>\n      <th>g</th>\n      <th>ab</th>\n      <th>r</th>\n      <th>h</th>\n      <th>X2b</th>\n      <th>...</th>\n      <th>rbi</th>\n      <th>sb</th>\n      <th>cs</th>\n      <th>bb</th>\n      <th>so</th>\n      <th>ibb</th>\n      <th>hbp</th>\n      <th>sh</th>\n      <th>sf</th>\n      <th>gidp</th>\n    </tr>\n    <tr>\n      <th>id</th>\n      <th></th>\n      <th></th>\n      <th></th>\n      <th></th>\n      <th></th>\n      <th></th>\n      <th></th>\n      <th></th>\n      <th></th>\n      <th></th>\n      <th></th>\n      <th></th>\n      <th></th>\n      <th></th>\n      <th></th>\n      <th></th>\n      <th></th>\n      <th></th>\n      <th></th>\n      <th></th>\n      <th></th>\n    </tr>\n  </thead>\n  <tbody>\n    <tr>\n      <th>88652</th>\n      <td>finlest01</td>\n      <td>2006</td>\n      <td>1</td>\n      <td>SFN</td>\n      <td>NL</td>\n      <td>139</td>\n      <td>426</td>\n      <td>66</td>\n      <td>105</td>\n      <td>21</td>\n      <td>...</td>\n      <td>40.0</td>\n      <td>7.0</td>\n      <td>0.0</td>\n      <td>46</td>\n      <td>55.0</td>\n      <td>2.0</td>\n      <td>2.0</td>\n      <td>3.0</td>\n      <td>4.0</td>\n      <td>6.0</td>\n    </tr>\n    <tr>\n      <th>88662</th>\n      <td>seleaa01</td>\n      <td>2006</td>\n      <td>1</td>\n      <td>LAN</td>\n      <td>NL</td>\n      <td>28</td>\n      <td>26</td>\n      <td>2</td>\n      <td>5</td>\n      <td>1</td>\n      <td>...</td>\n      <td>0.0</td>\n      <td>0.0</td>\n      <td>0.0</td>\n      <td>1</td>\n      <td>7.0</td>\n      <td>0.0</td>\n      <td>0.0</td>\n      <td>6.0</td>\n      <td>0.0</td>\n      <td>1.0</td>\n    </tr>\n    <tr>\n      <th>89339</th>\n      <td>wellsda01</td>\n      <td>2007</td>\n      <td>2</td>\n      <td>LAN</td>\n      <td>NL</td>\n      <td>7</td>\n      <td>15</td>\n      <td>2</td>\n      <td>4</td>\n      <td>1</td>\n      <td>...</td>\n      <td>1.0</td>\n      <td>0.0</td>\n      <td>0.0</td>\n      <td>0</td>\n      <td>6.0</td>\n      <td>0.0</td>\n      <td>0.0</td>\n      <td>0.0</td>\n      <td>0.0</td>\n      <td>0.0</td>\n    </tr>\n    <tr>\n      <th>89347</th>\n      <td>vizquom01</td>\n      <td>2007</td>\n      <td>1</td>\n      <td>SFN</td>\n      <td>NL</td>\n      <td>145</td>\n      <td>513</td>\n      <td>54</td>\n      <td>126</td>\n      <td>18</td>\n      <td>...</td>\n      <td>51.0</td>\n      <td>14.0</td>\n      <td>6.0</td>\n      <td>44</td>\n      <td>48.0</td>\n      <td>6.0</td>\n      <td>1.0</td>\n      <td>14.0</td>\n      <td>3.0</td>\n      <td>14.0</td>\n    </tr>\n    <tr>\n      <th>89365</th>\n      <td>sweenma01</td>\n      <td>2007</td>\n      <td>2</td>\n      <td>LAN</td>\n      <td>NL</td>\n      <td>30</td>\n      <td>33</td>\n      <td>2</td>\n      <td>9</td>\n      <td>1</td>\n      <td>...</td>\n      <td>3.0</td>\n      <td>0.0</td>\n      <td>0.0</td>\n      <td>1</td>\n      <td>11.0</td>\n      <td>0.0</td>\n      <td>0.0</td>\n      <td>0.0</td>\n      <td>0.0</td>\n      <td>0.0</td>\n    </tr>\n    <tr>\n      <th>89366</th>\n      <td>sweenma01</td>\n      <td>2007</td>\n      <td>1</td>\n      <td>SFN</td>\n      <td>NL</td>\n      <td>76</td>\n      <td>90</td>\n      <td>18</td>\n      <td>23</td>\n      <td>8</td>\n      <td>...</td>\n      <td>10.0</td>\n      <td>2.0</td>\n      <td>0.0</td>\n      <td>13</td>\n      <td>18.0</td>\n      <td>0.0</td>\n      <td>3.0</td>\n      <td>1.0</td>\n      <td>0.0</td>\n      <td>0.0</td>\n    </tr>\n    <tr>\n      <th>89382</th>\n      <td>seaneru01</td>\n      <td>2007</td>\n      <td>1</td>\n      <td>LAN</td>\n      <td>NL</td>\n      <td>68</td>\n      <td>1</td>\n      <td>0</td>\n      <td>0</td>\n      <td>0</td>\n      <td>...</td>\n      <td>0.0</td>\n      <td>0.0</td>\n      <td>0.0</td>\n      <td>0</td>\n      <td>1.0</td>\n      <td>0.0</td>\n      <td>0.0</td>\n      <td>0.0</td>\n      <td>0.0</td>\n      <td>0.0</td>\n    </tr>\n    <tr>\n      <th>89383</th>\n      <td>schmija01</td>\n      <td>2007</td>\n      <td>1</td>\n      <td>LAN</td>\n      <td>NL</td>\n      <td>6</td>\n      <td>7</td>\n      <td>1</td>\n      <td>1</td>\n      <td>0</td>\n      <td>...</td>\n      <td>1.0</td>\n      <td>0.0</td>\n      <td>0.0</td>\n      <td>0</td>\n      <td>4.0</td>\n      <td>0.0</td>\n      <td>0.0</td>\n      <td>1.0</td>\n      <td>0.0</td>\n      <td>0.0</td>\n    </tr>\n    <tr>\n      <th>89431</th>\n      <td>loaizes01</td>\n      <td>2007</td>\n      <td>1</td>\n      <td>LAN</td>\n      <td>NL</td>\n      <td>5</td>\n      <td>7</td>\n      <td>0</td>\n      <td>1</td>\n      <td>0</td>\n      <td>...</td>\n      <td>2.0</td>\n      <td>0.0</td>\n      <td>0.0</td>\n      <td>0</td>\n      <td>2.0</td>\n      <td>0.0</td>\n      <td>0.0</td>\n      <td>2.0</td>\n      <td>0.0</td>\n      <td>1.0</td>\n    </tr>\n    <tr>\n      <th>89438</th>\n      <td>kleskry01</td>\n      <td>2007</td>\n      <td>1</td>\n      <td>SFN</td>\n      <td>NL</td>\n      <td>116</td>\n      <td>362</td>\n      <td>51</td>\n      <td>94</td>\n      <td>27</td>\n      <td>...</td>\n      <td>44.0</td>\n      <td>5.0</td>\n      <td>1.0</td>\n      <td>46</td>\n      <td>68.0</td>\n      <td>2.0</td>\n      <td>1.0</td>\n      <td>1.0</td>\n      <td>1.0</td>\n      <td>14.0</td>\n    </tr>\n    <tr>\n      <th>89439</th>\n      <td>kentje01</td>\n      <td>2007</td>\n      <td>1</td>\n      <td>LAN</td>\n      <td>NL</td>\n      <td>136</td>\n      <td>494</td>\n      <td>78</td>\n      <td>149</td>\n      <td>36</td>\n      <td>...</td>\n      <td>79.0</td>\n      <td>1.0</td>\n      <td>3.0</td>\n      <td>57</td>\n      <td>61.0</td>\n      <td>4.0</td>\n      <td>5.0</td>\n      <td>0.0</td>\n      <td>6.0</td>\n      <td>17.0</td>\n    </tr>\n    <tr>\n      <th>89451</th>\n      <td>hernaro01</td>\n      <td>2007</td>\n      <td>2</td>\n      <td>LAN</td>\n      <td>NL</td>\n      <td>22</td>\n      <td>0</td>\n      <td>0</td>\n      <td>0</td>\n      <td>0</td>\n      <td>...</td>\n      <td>0.0</td>\n      <td>0.0</td>\n      <td>0.0</td>\n      <td>0</td>\n      <td>0.0</td>\n      <td>0.0</td>\n      <td>0.0</td>\n      <td>0.0</td>\n      <td>0.0</td>\n      <td>0.0</td>\n    </tr>\n    <tr>\n      <th>89466</th>\n      <td>gonzalu01</td>\n      <td>2007</td>\n      <td>1</td>\n      <td>LAN</td>\n      <td>NL</td>\n      <td>139</td>\n      <td>464</td>\n      <td>70</td>\n      <td>129</td>\n      <td>23</td>\n      <td>...</td>\n      <td>68.0</td>\n      <td>6.0</td>\n      <td>2.0</td>\n      <td>56</td>\n      <td>56.0</td>\n      <td>4.0</td>\n      <td>4.0</td>\n      <td>0.0</td>\n      <td>2.0</td>\n      <td>11.0</td>\n    </tr>\n    <tr>\n      <th>89521</th>\n      <td>bondsba01</td>\n      <td>2007</td>\n      <td>1</td>\n      <td>SFN</td>\n      <td>NL</td>\n      <td>126</td>\n      <td>340</td>\n      <td>75</td>\n      <td>94</td>\n      <td>14</td>\n      <td>...</td>\n      <td>66.0</td>\n      <td>5.0</td>\n      <td>0.0</td>\n      <td>132</td>\n      <td>54.0</td>\n      <td>43.0</td>\n      <td>3.0</td>\n      <td>0.0</td>\n      <td>2.0</td>\n      <td>13.0</td>\n    </tr>\n    <tr>\n      <th>89526</th>\n      <td>benitar01</td>\n      <td>2007</td>\n      <td>1</td>\n      <td>SFN</td>\n      <td>NL</td>\n      <td>19</td>\n      <td>0</td>\n      <td>0</td>\n      <td>0</td>\n      <td>0</td>\n      <td>...</td>\n      <td>0.0</td>\n      <td>0.0</td>\n      <td>0.0</td>\n      <td>0</td>\n      <td>0.0</td>\n      <td>0.0</td>\n      <td>0.0</td>\n      <td>0.0</td>\n      <td>0.0</td>\n      <td>0.0</td>\n    </tr>\n  </tbody>\n</table>\n<p>15 rows × 22 columns</p>\n</div>"
     },
     "execution_count": 167,
     "metadata": {},
     "output_type": "execute_result"
    }
   ],
   "source": [
    "#baseball[baseball.team.isin(['LAN', 'SFN'])]\n",
    "baseball[baseball['team'].isin(['LAN','SFN'])]"
   ]
  },
  {
   "cell_type": "markdown",
   "metadata": {},
   "source": [
    "## Hierarchical indexing\n",
    "\n",
    "In the baseball example, it was necessary to combine 3 fields to obtain a unique index that was not simply an integer value. A more elegant way to have done this would be to create a hierarchical index from the three fields."
   ]
  },
  {
   "cell_type": "code",
   "execution_count": 76,
   "metadata": {
    "ExecuteTime": {
     "end_time": "2024-01-10T21:07:39.188129200Z",
     "start_time": "2024-01-10T21:07:39.111705800Z"
    }
   },
   "outputs": [
    {
     "ename": "NameError",
     "evalue": "name 'baseball' is not defined",
     "output_type": "error",
     "traceback": [
      "\u001B[0;31m---------------------------------------------------------------------------\u001B[0m",
      "\u001B[0;31mNameError\u001B[0m                                 Traceback (most recent call last)",
      "Cell \u001B[0;32mIn[76], line 1\u001B[0m\n\u001B[0;32m----> 1\u001B[0m baseball_h \u001B[38;5;241m=\u001B[39m \u001B[43mbaseball\u001B[49m\u001B[38;5;241m.\u001B[39mset_index([\u001B[38;5;124m'\u001B[39m\u001B[38;5;124myear\u001B[39m\u001B[38;5;124m'\u001B[39m, \u001B[38;5;124m'\u001B[39m\u001B[38;5;124mteam\u001B[39m\u001B[38;5;124m'\u001B[39m, \u001B[38;5;124m'\u001B[39m\u001B[38;5;124mplayer\u001B[39m\u001B[38;5;124m'\u001B[39m])\n\u001B[1;32m      2\u001B[0m baseball_h\u001B[38;5;241m.\u001B[39mhead(\u001B[38;5;241m10\u001B[39m)\n",
      "\u001B[0;31mNameError\u001B[0m: name 'baseball' is not defined"
     ]
    }
   ],
   "source": [
    "baseball_h = baseball.set_index(['year', 'team', 'player'])\n",
    "baseball_h.head(10)"
   ]
  },
  {
   "cell_type": "code",
   "execution_count": 77,
   "metadata": {
    "ExecuteTime": {
     "start_time": "2024-01-10T21:07:39.188129200Z"
    }
   },
   "outputs": [
    {
     "ename": "NameError",
     "evalue": "name 'baseball_h' is not defined",
     "output_type": "error",
     "traceback": [
      "\u001B[0;31m---------------------------------------------------------------------------\u001B[0m",
      "\u001B[0;31mNameError\u001B[0m                                 Traceback (most recent call last)",
      "Cell \u001B[0;32mIn[77], line 1\u001B[0m\n\u001B[0;32m----> 1\u001B[0m \u001B[43mbaseball_h\u001B[49m\u001B[38;5;241m.\u001B[39mindex\u001B[38;5;241m.\u001B[39mis_unique\n",
      "\u001B[0;31mNameError\u001B[0m: name 'baseball_h' is not defined"
     ]
    }
   ],
   "source": [
    "baseball_h.index.is_unique"
   ]
  },
  {
   "cell_type": "markdown",
   "metadata": {},
   "source": [
    "Try using this hierarchical index to retrieve Julio Franco (`francju01`), who played for the Atlanta Braves (`ATL`) in 2007:"
   ]
  },
  {
   "cell_type": "code",
   "execution_count": 78,
   "metadata": {
    "ExecuteTime": {
     "end_time": "2024-01-10T21:07:39.347445200Z",
     "start_time": "2024-01-10T21:07:39.306513300Z"
    }
   },
   "outputs": [
    {
     "ename": "NameError",
     "evalue": "name 'baseball_h' is not defined",
     "output_type": "error",
     "traceback": [
      "\u001B[0;31m---------------------------------------------------------------------------\u001B[0m",
      "\u001B[0;31mNameError\u001B[0m                                 Traceback (most recent call last)",
      "Cell \u001B[0;32mIn[78], line 1\u001B[0m\n\u001B[0;32m----> 1\u001B[0m \u001B[43mbaseball_h\u001B[49m\u001B[38;5;241m.\u001B[39mloc[(\u001B[38;5;241m2007\u001B[39m, \u001B[38;5;124m'\u001B[39m\u001B[38;5;124mATL\u001B[39m\u001B[38;5;124m'\u001B[39m, \u001B[38;5;124m'\u001B[39m\u001B[38;5;124mfrancju01\u001B[39m\u001B[38;5;124m'\u001B[39m)]\n",
      "\u001B[0;31mNameError\u001B[0m: name 'baseball_h' is not defined"
     ]
    }
   ],
   "source": [
    "baseball_h.loc[(2007, 'ATL', 'francju01')]"
   ]
  },
  {
   "cell_type": "markdown",
   "metadata": {},
   "source": [
    "Recall earlier we imported some microbiome data using two index columns. This created a 2-level hierarchical index:"
   ]
  },
  {
   "cell_type": "code",
   "execution_count": 79,
   "metadata": {
    "ExecuteTime": {
     "end_time": "2024-01-10T21:07:39.485644Z",
     "start_time": "2024-01-10T21:07:39.358459700Z"
    }
   },
   "outputs": [],
   "source": [
    "mb = pd.read_csv(\"Data/microbiome.csv\", index_col=['Taxon','Patient'])"
   ]
  },
  {
   "cell_type": "code",
   "execution_count": 80,
   "metadata": {
    "ExecuteTime": {
     "end_time": "2024-01-10T21:07:39.529679800Z",
     "start_time": "2024-01-10T21:07:39.469653300Z"
    }
   },
   "outputs": [
    {
     "data": {
      "text/plain": "                    Group  Tissue  Stool\nTaxon      Patient                      \nFirmicutes 1            0     136   4182\n           2            1    1174    703\n           3            0     408   3946\n           4            1     831   8605\n           5            0     693     50\n           6            1     718    717\n           7            0     173     33\n           8            1     228     80\n           9            0     162   3196\n           10           1     372     32",
      "text/html": "<div>\n<style scoped>\n    .dataframe tbody tr th:only-of-type {\n        vertical-align: middle;\n    }\n\n    .dataframe tbody tr th {\n        vertical-align: top;\n    }\n\n    .dataframe thead th {\n        text-align: right;\n    }\n</style>\n<table border=\"1\" class=\"dataframe\">\n  <thead>\n    <tr style=\"text-align: right;\">\n      <th></th>\n      <th></th>\n      <th>Group</th>\n      <th>Tissue</th>\n      <th>Stool</th>\n    </tr>\n    <tr>\n      <th>Taxon</th>\n      <th>Patient</th>\n      <th></th>\n      <th></th>\n      <th></th>\n    </tr>\n  </thead>\n  <tbody>\n    <tr>\n      <th rowspan=\"10\" valign=\"top\">Firmicutes</th>\n      <th>1</th>\n      <td>0</td>\n      <td>136</td>\n      <td>4182</td>\n    </tr>\n    <tr>\n      <th>2</th>\n      <td>1</td>\n      <td>1174</td>\n      <td>703</td>\n    </tr>\n    <tr>\n      <th>3</th>\n      <td>0</td>\n      <td>408</td>\n      <td>3946</td>\n    </tr>\n    <tr>\n      <th>4</th>\n      <td>1</td>\n      <td>831</td>\n      <td>8605</td>\n    </tr>\n    <tr>\n      <th>5</th>\n      <td>0</td>\n      <td>693</td>\n      <td>50</td>\n    </tr>\n    <tr>\n      <th>6</th>\n      <td>1</td>\n      <td>718</td>\n      <td>717</td>\n    </tr>\n    <tr>\n      <th>7</th>\n      <td>0</td>\n      <td>173</td>\n      <td>33</td>\n    </tr>\n    <tr>\n      <th>8</th>\n      <td>1</td>\n      <td>228</td>\n      <td>80</td>\n    </tr>\n    <tr>\n      <th>9</th>\n      <td>0</td>\n      <td>162</td>\n      <td>3196</td>\n    </tr>\n    <tr>\n      <th>10</th>\n      <td>1</td>\n      <td>372</td>\n      <td>32</td>\n    </tr>\n  </tbody>\n</table>\n</div>"
     },
     "execution_count": 80,
     "metadata": {},
     "output_type": "execute_result"
    }
   ],
   "source": [
    "mb.head(10)"
   ]
  },
  {
   "cell_type": "markdown",
   "metadata": {},
   "source": [
    "With a hierachical index, we can select subsets of the data based on a *partial* index:"
   ]
  },
  {
   "cell_type": "code",
   "execution_count": 81,
   "metadata": {
    "ExecuteTime": {
     "end_time": "2024-01-10T21:07:39.617872Z",
     "start_time": "2024-01-10T21:07:39.533650100Z"
    }
   },
   "outputs": [
    {
     "data": {
      "text/plain": "         Group  Tissue  Stool\nPatient                      \n1            0    2469   1821\n2            1     839    661\n3            0    4414     18\n4            1   12044     83\n5            0    2310     12\n6            1    3053    547\n7            0     395   2174\n8            1    2651    767\n9            0    1195     76\n10           1    6857    795\n11           0     483    666\n12           1    2950   3994\n13           0    1541    816\n14           1    1307     53",
      "text/html": "<div>\n<style scoped>\n    .dataframe tbody tr th:only-of-type {\n        vertical-align: middle;\n    }\n\n    .dataframe tbody tr th {\n        vertical-align: top;\n    }\n\n    .dataframe thead th {\n        text-align: right;\n    }\n</style>\n<table border=\"1\" class=\"dataframe\">\n  <thead>\n    <tr style=\"text-align: right;\">\n      <th></th>\n      <th>Group</th>\n      <th>Tissue</th>\n      <th>Stool</th>\n    </tr>\n    <tr>\n      <th>Patient</th>\n      <th></th>\n      <th></th>\n      <th></th>\n    </tr>\n  </thead>\n  <tbody>\n    <tr>\n      <th>1</th>\n      <td>0</td>\n      <td>2469</td>\n      <td>1821</td>\n    </tr>\n    <tr>\n      <th>2</th>\n      <td>1</td>\n      <td>839</td>\n      <td>661</td>\n    </tr>\n    <tr>\n      <th>3</th>\n      <td>0</td>\n      <td>4414</td>\n      <td>18</td>\n    </tr>\n    <tr>\n      <th>4</th>\n      <td>1</td>\n      <td>12044</td>\n      <td>83</td>\n    </tr>\n    <tr>\n      <th>5</th>\n      <td>0</td>\n      <td>2310</td>\n      <td>12</td>\n    </tr>\n    <tr>\n      <th>6</th>\n      <td>1</td>\n      <td>3053</td>\n      <td>547</td>\n    </tr>\n    <tr>\n      <th>7</th>\n      <td>0</td>\n      <td>395</td>\n      <td>2174</td>\n    </tr>\n    <tr>\n      <th>8</th>\n      <td>1</td>\n      <td>2651</td>\n      <td>767</td>\n    </tr>\n    <tr>\n      <th>9</th>\n      <td>0</td>\n      <td>1195</td>\n      <td>76</td>\n    </tr>\n    <tr>\n      <th>10</th>\n      <td>1</td>\n      <td>6857</td>\n      <td>795</td>\n    </tr>\n    <tr>\n      <th>11</th>\n      <td>0</td>\n      <td>483</td>\n      <td>666</td>\n    </tr>\n    <tr>\n      <th>12</th>\n      <td>1</td>\n      <td>2950</td>\n      <td>3994</td>\n    </tr>\n    <tr>\n      <th>13</th>\n      <td>0</td>\n      <td>1541</td>\n      <td>816</td>\n    </tr>\n    <tr>\n      <th>14</th>\n      <td>1</td>\n      <td>1307</td>\n      <td>53</td>\n    </tr>\n  </tbody>\n</table>\n</div>"
     },
     "execution_count": 81,
     "metadata": {},
     "output_type": "execute_result"
    }
   ],
   "source": [
    "mb.loc['Proteobacteria']"
   ]
  },
  {
   "cell_type": "markdown",
   "metadata": {},
   "source": [
    "Hierarchical indices can be created on either or **both axes**. Here is a trivial example:"
   ]
  },
  {
   "cell_type": "code",
   "execution_count": 82,
   "metadata": {
    "ExecuteTime": {
     "end_time": "2024-01-10T21:07:39.700350900Z",
     "start_time": "2024-01-10T21:07:39.568324700Z"
    }
   },
   "outputs": [
    {
     "data": {
      "text/plain": "     Ohio     Colorado\n    Green Red    Green\na 1     0   1        2\n  2     3   4        5\nb 1     6   7        8\n  2     9  10       11",
      "text/html": "<div>\n<style scoped>\n    .dataframe tbody tr th:only-of-type {\n        vertical-align: middle;\n    }\n\n    .dataframe tbody tr th {\n        vertical-align: top;\n    }\n\n    .dataframe thead tr th {\n        text-align: left;\n    }\n</style>\n<table border=\"1\" class=\"dataframe\">\n  <thead>\n    <tr>\n      <th></th>\n      <th></th>\n      <th colspan=\"2\" halign=\"left\">Ohio</th>\n      <th>Colorado</th>\n    </tr>\n    <tr>\n      <th></th>\n      <th></th>\n      <th>Green</th>\n      <th>Red</th>\n      <th>Green</th>\n    </tr>\n  </thead>\n  <tbody>\n    <tr>\n      <th rowspan=\"2\" valign=\"top\">a</th>\n      <th>1</th>\n      <td>0</td>\n      <td>1</td>\n      <td>2</td>\n    </tr>\n    <tr>\n      <th>2</th>\n      <td>3</td>\n      <td>4</td>\n      <td>5</td>\n    </tr>\n    <tr>\n      <th rowspan=\"2\" valign=\"top\">b</th>\n      <th>1</th>\n      <td>6</td>\n      <td>7</td>\n      <td>8</td>\n    </tr>\n    <tr>\n      <th>2</th>\n      <td>9</td>\n      <td>10</td>\n      <td>11</td>\n    </tr>\n  </tbody>\n</table>\n</div>"
     },
     "execution_count": 82,
     "metadata": {},
     "output_type": "execute_result"
    }
   ],
   "source": [
    "frame = pd.DataFrame(np.arange(12).reshape(( 4, 3)), \n",
    "                  index =[['a', 'a', 'b', 'b'], [1, 2, 1, 2]], \n",
    "                  columns =[['Ohio', 'Ohio', 'Colorado'], ['Green', 'Red', 'Green']])\n",
    "\n",
    "frame"
   ]
  },
  {
   "cell_type": "markdown",
   "metadata": {},
   "source": [
    "If you want to get fancy, both the row and column indices themselves can be given names:"
   ]
  },
  {
   "cell_type": "code",
   "execution_count": 83,
   "metadata": {
    "ExecuteTime": {
     "end_time": "2024-01-10T21:07:39.932140100Z",
     "start_time": "2024-01-10T21:07:39.702430Z"
    }
   },
   "outputs": [
    {
     "data": {
      "text/plain": "state      Ohio     Colorado\ncolor     Green Red    Green\nkey1 key2                   \na    1        0   1        2\n     2        3   4        5\nb    1        6   7        8\n     2        9  10       11",
      "text/html": "<div>\n<style scoped>\n    .dataframe tbody tr th:only-of-type {\n        vertical-align: middle;\n    }\n\n    .dataframe tbody tr th {\n        vertical-align: top;\n    }\n\n    .dataframe thead tr th {\n        text-align: left;\n    }\n\n    .dataframe thead tr:last-of-type th {\n        text-align: right;\n    }\n</style>\n<table border=\"1\" class=\"dataframe\">\n  <thead>\n    <tr>\n      <th></th>\n      <th>state</th>\n      <th colspan=\"2\" halign=\"left\">Ohio</th>\n      <th>Colorado</th>\n    </tr>\n    <tr>\n      <th></th>\n      <th>color</th>\n      <th>Green</th>\n      <th>Red</th>\n      <th>Green</th>\n    </tr>\n    <tr>\n      <th>key1</th>\n      <th>key2</th>\n      <th></th>\n      <th></th>\n      <th></th>\n    </tr>\n  </thead>\n  <tbody>\n    <tr>\n      <th rowspan=\"2\" valign=\"top\">a</th>\n      <th>1</th>\n      <td>0</td>\n      <td>1</td>\n      <td>2</td>\n    </tr>\n    <tr>\n      <th>2</th>\n      <td>3</td>\n      <td>4</td>\n      <td>5</td>\n    </tr>\n    <tr>\n      <th rowspan=\"2\" valign=\"top\">b</th>\n      <th>1</th>\n      <td>6</td>\n      <td>7</td>\n      <td>8</td>\n    </tr>\n    <tr>\n      <th>2</th>\n      <td>9</td>\n      <td>10</td>\n      <td>11</td>\n    </tr>\n  </tbody>\n</table>\n</div>"
     },
     "execution_count": 83,
     "metadata": {},
     "output_type": "execute_result"
    }
   ],
   "source": [
    "frame.index.names = ['key1', 'key2']\n",
    "frame.columns.names = ['state', 'color']\n",
    "frame"
   ]
  },
  {
   "cell_type": "markdown",
   "metadata": {},
   "source": [
    "Additionally, the order of the set of indices in a hierarchical `MultiIndex` can be changed by swapping them pairwise:"
   ]
  },
  {
   "cell_type": "code",
   "execution_count": 84,
   "metadata": {
    "ExecuteTime": {
     "end_time": "2024-01-10T21:07:40.177779300Z",
     "start_time": "2024-01-10T21:07:39.845413Z"
    }
   },
   "outputs": [
    {
     "data": {
      "text/plain": "color     Green  Red    Green\nstate      Ohio Ohio Colorado\nkey1 key2                    \na    1        0    1        2\n     2        3    4        5\nb    1        6    7        8\n     2        9   10       11",
      "text/html": "<div>\n<style scoped>\n    .dataframe tbody tr th:only-of-type {\n        vertical-align: middle;\n    }\n\n    .dataframe tbody tr th {\n        vertical-align: top;\n    }\n\n    .dataframe thead tr th {\n        text-align: left;\n    }\n\n    .dataframe thead tr:last-of-type th {\n        text-align: right;\n    }\n</style>\n<table border=\"1\" class=\"dataframe\">\n  <thead>\n    <tr>\n      <th></th>\n      <th>color</th>\n      <th>Green</th>\n      <th>Red</th>\n      <th>Green</th>\n    </tr>\n    <tr>\n      <th></th>\n      <th>state</th>\n      <th>Ohio</th>\n      <th>Ohio</th>\n      <th>Colorado</th>\n    </tr>\n    <tr>\n      <th>key1</th>\n      <th>key2</th>\n      <th></th>\n      <th></th>\n      <th></th>\n    </tr>\n  </thead>\n  <tbody>\n    <tr>\n      <th rowspan=\"2\" valign=\"top\">a</th>\n      <th>1</th>\n      <td>0</td>\n      <td>1</td>\n      <td>2</td>\n    </tr>\n    <tr>\n      <th>2</th>\n      <td>3</td>\n      <td>4</td>\n      <td>5</td>\n    </tr>\n    <tr>\n      <th rowspan=\"2\" valign=\"top\">b</th>\n      <th>1</th>\n      <td>6</td>\n      <td>7</td>\n      <td>8</td>\n    </tr>\n    <tr>\n      <th>2</th>\n      <td>9</td>\n      <td>10</td>\n      <td>11</td>\n    </tr>\n  </tbody>\n</table>\n</div>"
     },
     "execution_count": 84,
     "metadata": {},
     "output_type": "execute_result"
    }
   ],
   "source": [
    "frame.columns = frame.columns.swaplevel('state', 'color')\n",
    "frame"
   ]
  },
  {
   "cell_type": "markdown",
   "metadata": {},
   "source": [
    "## Operations\n",
    "\n",
    "`DataFrame` and `Series` objects allow for several operations to take place either on a single object, or between two or more objects.\n",
    "\n",
    "For example, we can perform arithmetic on the elements of two objects, such as combining baseball statistics across years. First, let's (artificially) construct two Series, consisting of home runs hit in years 2006 and 2007, respectively:"
   ]
  },
  {
   "cell_type": "code",
   "execution_count": 171,
   "metadata": {
    "ExecuteTime": {
     "end_time": "2024-01-11T00:10:45.139974500Z",
     "start_time": "2024-01-11T00:10:45.109464700Z"
    }
   },
   "outputs": [],
   "source": [
    "hr2006 = baseball.loc[baseball.year==2006, 'hr']\n",
    "hr2006.index = baseball.player[baseball.year==2006]\n",
    "\n",
    "hr2007 = baseball.loc[baseball.year==2007, 'hr']\n",
    "hr2007.index = baseball.player[baseball.year==2007]"
   ]
  },
  {
   "cell_type": "code",
   "execution_count": 172,
   "metadata": {
    "ExecuteTime": {
     "end_time": "2024-01-11T00:10:47.615786700Z",
     "start_time": "2024-01-11T00:10:47.518541Z"
    }
   },
   "outputs": [
    {
     "data": {
      "text/plain": "player\nfrancju01     0\nfrancju01     1\nzaungr01     10\nwitasja01     0\nwilliwo02     1\nwickmbo01     0\nwickmbo01     0\nwhitero02     4\nwhiteri01     0\nwellsda01     0\nName: hr, dtype: int64"
     },
     "execution_count": 172,
     "metadata": {},
     "output_type": "execute_result"
    }
   ],
   "source": [
    "hr2007.head(10)"
   ]
  },
  {
   "cell_type": "markdown",
   "metadata": {},
   "source": [
    "Now, let's add them together, in hopes of getting 2-year home run totals:"
   ]
  },
  {
   "cell_type": "code",
   "execution_count": 173,
   "metadata": {
    "ExecuteTime": {
     "end_time": "2024-01-11T00:10:50.308068400Z",
     "start_time": "2024-01-11T00:10:50.244564300Z"
    }
   },
   "outputs": [
    {
     "data": {
      "text/plain": "player\nalomasa02    NaN\naloumo01     NaN\nausmubr01    NaN\nbenitar01    NaN\nbenitar01    NaN\nbiggicr01    NaN\nbondsba01    NaN\ncirilje01    NaN\ncirilje01    NaN\nclaytro01    NaN\nclaytro01    NaN\nclemero02    NaN\nconinje01    NaN\nconinje01    NaN\ncormirh01    NaN\ndelgaca01    NaN\neasleda01    NaN\nedmonji01    NaN\nembreal01    NaN\nfinlest01    7.0\nName: hr, dtype: float64"
     },
     "execution_count": 173,
     "metadata": {},
     "output_type": "execute_result"
    }
   ],
   "source": [
    "hr_total = hr2006 + hr2007\n",
    "# hr_total = hr2006.add(hr2007, fill_value=0)\n",
    "hr_total.head(20)"
   ]
  },
  {
   "cell_type": "markdown",
   "metadata": {},
   "source": [
    "Pandas' data alignment places `NaN` values for labels that do not overlap in the two Series. In fact, there are only 6 players that occur in both years."
   ]
  },
  {
   "cell_type": "code",
   "execution_count": 174,
   "metadata": {
    "ExecuteTime": {
     "end_time": "2024-01-11T00:11:51.578666400Z",
     "start_time": "2024-01-11T00:11:51.554586100Z"
    }
   },
   "outputs": [
    {
     "data": {
      "text/plain": "player\nfinlest01     7.0\ngonzalu01    30.0\njohnsra05     0.0\nmyersmi01     0.0\nschilcu01     0.0\nseleaa01      0.0\nName: hr, dtype: float64"
     },
     "execution_count": 174,
     "metadata": {},
     "output_type": "execute_result"
    }
   ],
   "source": [
    "hr_total[hr_total.notnull()]"
   ]
  },
  {
   "cell_type": "markdown",
   "metadata": {},
   "source": [
    "While we do want the operation to honor the data labels in this way, we probably do not want the missing values to be filled with `NaN`. We can use the `add` method to calculate player home run totals by using the `fill_value` argument to insert a zero for home runs where labels do not overlap:"
   ]
  },
  {
   "cell_type": "code",
   "execution_count": 89,
   "metadata": {
    "ExecuteTime": {
     "end_time": "2024-01-10T21:07:41.009504900Z",
     "start_time": "2024-01-10T21:07:40.857237400Z"
    }
   },
   "outputs": [
    {
     "ename": "NameError",
     "evalue": "name 'hr2007' is not defined",
     "output_type": "error",
     "traceback": [
      "\u001B[0;31m---------------------------------------------------------------------------\u001B[0m",
      "\u001B[0;31mNameError\u001B[0m                                 Traceback (most recent call last)",
      "Cell \u001B[0;32mIn[89], line 1\u001B[0m\n\u001B[0;32m----> 1\u001B[0m \u001B[43mhr2007\u001B[49m\u001B[38;5;241m.\u001B[39madd(hr2006, fill_value\u001B[38;5;241m=\u001B[39m\u001B[38;5;241m0\u001B[39m)\u001B[38;5;241m.\u001B[39mhead(\u001B[38;5;241m20\u001B[39m)\n",
      "\u001B[0;31mNameError\u001B[0m: name 'hr2007' is not defined"
     ]
    }
   ],
   "source": [
    "hr2007.add(hr2006, fill_value=0).head(20)"
   ]
  },
  {
   "cell_type": "markdown",
   "metadata": {},
   "source": [
    "Operations can also be **broadcast** between rows or columns.\n",
    "\n",
    "For example, if we subtract the maximum number of home runs hit from the `hr` column, we get how many fewer than the maximum were hit by each player:"
   ]
  },
  {
   "cell_type": "code",
   "execution_count": 90,
   "metadata": {
    "ExecuteTime": {
     "start_time": "2024-01-10T21:07:40.989432400Z"
    }
   },
   "outputs": [
    {
     "ename": "NameError",
     "evalue": "name 'baseball' is not defined",
     "output_type": "error",
     "traceback": [
      "\u001B[0;31m---------------------------------------------------------------------------\u001B[0m",
      "\u001B[0;31mNameError\u001B[0m                                 Traceback (most recent call last)",
      "Cell \u001B[0;32mIn[90], line 1\u001B[0m\n\u001B[0;32m----> 1\u001B[0m (\u001B[43mbaseball\u001B[49m\u001B[38;5;241m.\u001B[39mhr \u001B[38;5;241m-\u001B[39m baseball\u001B[38;5;241m.\u001B[39mhr\u001B[38;5;241m.\u001B[39mmax())\u001B[38;5;241m.\u001B[39mhead(\u001B[38;5;241m20\u001B[39m)\n",
      "\u001B[0;31mNameError\u001B[0m: name 'baseball' is not defined"
     ]
    }
   ],
   "source": [
    "(baseball.hr - baseball.hr.max()).head(20)"
   ]
  },
  {
   "cell_type": "markdown",
   "metadata": {},
   "source": [
    "## Sorting\n",
    "\n",
    "Pandas objects include methods for re-ordering data."
   ]
  },
  {
   "cell_type": "code",
   "execution_count": 91,
   "metadata": {
    "ExecuteTime": {
     "end_time": "2024-01-10T21:07:41.233824400Z",
     "start_time": "2024-01-10T21:07:41.048489900Z"
    }
   },
   "outputs": [
    {
     "ename": "NameError",
     "evalue": "name 'baseball_newind' is not defined",
     "output_type": "error",
     "traceback": [
      "\u001B[0;31m---------------------------------------------------------------------------\u001B[0m",
      "\u001B[0;31mNameError\u001B[0m                                 Traceback (most recent call last)",
      "Cell \u001B[0;32mIn[91], line 1\u001B[0m\n\u001B[0;32m----> 1\u001B[0m \u001B[43mbaseball_newind\u001B[49m\u001B[38;5;241m.\u001B[39msort_index()\u001B[38;5;241m.\u001B[39mhead()\n",
      "\u001B[0;31mNameError\u001B[0m: name 'baseball_newind' is not defined"
     ]
    }
   ],
   "source": [
    "baseball_newind.sort_index().head()"
   ]
  },
  {
   "cell_type": "code",
   "execution_count": 92,
   "metadata": {
    "ExecuteTime": {
     "start_time": "2024-01-10T21:07:41.216813Z"
    }
   },
   "outputs": [
    {
     "ename": "NameError",
     "evalue": "name 'baseball_newind' is not defined",
     "output_type": "error",
     "traceback": [
      "\u001B[0;31m---------------------------------------------------------------------------\u001B[0m",
      "\u001B[0;31mNameError\u001B[0m                                 Traceback (most recent call last)",
      "Cell \u001B[0;32mIn[92], line 1\u001B[0m\n\u001B[0;32m----> 1\u001B[0m \u001B[43mbaseball_newind\u001B[49m\u001B[38;5;241m.\u001B[39msort_index(ascending\u001B[38;5;241m=\u001B[39m\u001B[38;5;28;01mFalse\u001B[39;00m)\u001B[38;5;241m.\u001B[39mhead()\n",
      "\u001B[0;31mNameError\u001B[0m: name 'baseball_newind' is not defined"
     ]
    }
   ],
   "source": [
    "baseball_newind.sort_index(ascending=False).head()"
   ]
  },
  {
   "cell_type": "markdown",
   "metadata": {},
   "source": [
    "Try sorting the **columns** instead of the rows, in ascending order:"
   ]
  },
  {
   "cell_type": "code",
   "execution_count": 93,
   "metadata": {
    "ExecuteTime": {
     "end_time": "2024-01-10T21:07:41.430956400Z",
     "start_time": "2024-01-10T21:07:41.273510600Z"
    }
   },
   "outputs": [
    {
     "ename": "NameError",
     "evalue": "name 'baseball_newind' is not defined",
     "output_type": "error",
     "traceback": [
      "\u001B[0;31m---------------------------------------------------------------------------\u001B[0m",
      "\u001B[0;31mNameError\u001B[0m                                 Traceback (most recent call last)",
      "Cell \u001B[0;32mIn[93], line 1\u001B[0m\n\u001B[0;32m----> 1\u001B[0m \u001B[43mbaseball_newind\u001B[49m\u001B[38;5;241m.\u001B[39msort_index(axis\u001B[38;5;241m=\u001B[39m\u001B[38;5;241m1\u001B[39m)\u001B[38;5;241m.\u001B[39mhead()\n",
      "\u001B[0;31mNameError\u001B[0m: name 'baseball_newind' is not defined"
     ]
    }
   ],
   "source": [
    "baseball_newind.sort_index(axis=1).head()"
   ]
  },
  {
   "cell_type": "markdown",
   "metadata": {},
   "source": [
    "We can also use `sort_values` to sort a `Series` by value, rather than by label."
   ]
  },
  {
   "cell_type": "code",
   "execution_count": 94,
   "metadata": {
    "ExecuteTime": {
     "start_time": "2024-01-10T21:07:41.419980500Z"
    }
   },
   "outputs": [
    {
     "ename": "NameError",
     "evalue": "name 'baseball' is not defined",
     "output_type": "error",
     "traceback": [
      "\u001B[0;31m---------------------------------------------------------------------------\u001B[0m",
      "\u001B[0;31mNameError\u001B[0m                                 Traceback (most recent call last)",
      "Cell \u001B[0;32mIn[94], line 1\u001B[0m\n\u001B[0;32m----> 1\u001B[0m \u001B[43mbaseball\u001B[49m\u001B[38;5;241m.\u001B[39mhr\u001B[38;5;241m.\u001B[39msort_values(ascending\u001B[38;5;241m=\u001B[39m\u001B[38;5;28;01mFalse\u001B[39;00m)\u001B[38;5;241m.\u001B[39mhead(\u001B[38;5;241m10\u001B[39m)\n",
      "\u001B[0;31mNameError\u001B[0m: name 'baseball' is not defined"
     ]
    }
   ],
   "source": [
    "baseball.hr.sort_values(ascending=False).head(10)"
   ]
  },
  {
   "cell_type": "markdown",
   "metadata": {},
   "source": [
    "For a `DataFrame`, we can sort according to the values of one or more columns using the `by` argument of `sort_values`:"
   ]
  },
  {
   "cell_type": "code",
   "execution_count": 175,
   "metadata": {
    "ExecuteTime": {
     "end_time": "2024-01-11T00:19:05.850770700Z",
     "start_time": "2024-01-11T00:19:05.805840600Z"
    }
   },
   "outputs": [
    {
     "data": {
      "text/plain": "          player    sb   cs\nid                         \n89378  sheffga01  22.0  5.0\n89430  loftoke01  21.0  4.0\n89347  vizquom01  14.0  6.0\n89463  greensh01  11.0  1.0\n88652  finlest01   7.0  0.0\n89462  griffke02   6.0  1.0\n89530  ausmubr01   6.0  1.0\n89466  gonzalu01   6.0  2.0\n89521  bondsba01   5.0  0.0\n89438  kleskry01   5.0  1.0",
      "text/html": "<div>\n<style scoped>\n    .dataframe tbody tr th:only-of-type {\n        vertical-align: middle;\n    }\n\n    .dataframe tbody tr th {\n        vertical-align: top;\n    }\n\n    .dataframe thead th {\n        text-align: right;\n    }\n</style>\n<table border=\"1\" class=\"dataframe\">\n  <thead>\n    <tr style=\"text-align: right;\">\n      <th></th>\n      <th>player</th>\n      <th>sb</th>\n      <th>cs</th>\n    </tr>\n    <tr>\n      <th>id</th>\n      <th></th>\n      <th></th>\n      <th></th>\n    </tr>\n  </thead>\n  <tbody>\n    <tr>\n      <th>89378</th>\n      <td>sheffga01</td>\n      <td>22.0</td>\n      <td>5.0</td>\n    </tr>\n    <tr>\n      <th>89430</th>\n      <td>loftoke01</td>\n      <td>21.0</td>\n      <td>4.0</td>\n    </tr>\n    <tr>\n      <th>89347</th>\n      <td>vizquom01</td>\n      <td>14.0</td>\n      <td>6.0</td>\n    </tr>\n    <tr>\n      <th>89463</th>\n      <td>greensh01</td>\n      <td>11.0</td>\n      <td>1.0</td>\n    </tr>\n    <tr>\n      <th>88652</th>\n      <td>finlest01</td>\n      <td>7.0</td>\n      <td>0.0</td>\n    </tr>\n    <tr>\n      <th>89462</th>\n      <td>griffke02</td>\n      <td>6.0</td>\n      <td>1.0</td>\n    </tr>\n    <tr>\n      <th>89530</th>\n      <td>ausmubr01</td>\n      <td>6.0</td>\n      <td>1.0</td>\n    </tr>\n    <tr>\n      <th>89466</th>\n      <td>gonzalu01</td>\n      <td>6.0</td>\n      <td>2.0</td>\n    </tr>\n    <tr>\n      <th>89521</th>\n      <td>bondsba01</td>\n      <td>5.0</td>\n      <td>0.0</td>\n    </tr>\n    <tr>\n      <th>89438</th>\n      <td>kleskry01</td>\n      <td>5.0</td>\n      <td>1.0</td>\n    </tr>\n  </tbody>\n</table>\n</div>"
     },
     "execution_count": 175,
     "metadata": {},
     "output_type": "execute_result"
    }
   ],
   "source": [
    "#baseball[['player','sb','cs']].sort_values(ascending=[False,True], \n",
    "                                          # by=['sb', 'cs']).head(10)\n",
    "baseball[['player','sb','cs']].sort_values(ascending=[False,True], by=['sb','cs'])"
   ]
  },
  {
   "cell_type": "markdown",
   "metadata": {},
   "source": [
    "### Exercise 5\n",
    "\n",
    "Calculate **on base percentage** for each player, and return the ordered series of estimates.\n",
    "\n",
    "$$obp = \\frac{h + bb + hbp}{ab + bb + hbp + sf}$$"
   ]
  },
  {
   "cell_type": "code",
   "execution_count": 96,
   "metadata": {
    "ExecuteTime": {
     "start_time": "2024-01-10T21:07:41.592855Z"
    }
   },
   "outputs": [
    {
     "ename": "NameError",
     "evalue": "name 'baseball' is not defined",
     "output_type": "error",
     "traceback": [
      "\u001B[0;31m---------------------------------------------------------------------------\u001B[0m",
      "\u001B[0;31mNameError\u001B[0m                                 Traceback (most recent call last)",
      "Cell \u001B[0;32mIn[96], line 1\u001B[0m\n\u001B[0;32m----> 1\u001B[0m baseball[\u001B[38;5;124m'\u001B[39m\u001B[38;5;124mobp\u001B[39m\u001B[38;5;124m'\u001B[39m]\u001B[38;5;241m=\u001B[39m\u001B[43mbaseball\u001B[49m\u001B[38;5;241m.\u001B[39mapply(\u001B[38;5;28;01mlambda\u001B[39;00m p: (p\u001B[38;5;241m.\u001B[39mh\u001B[38;5;241m+\u001B[39mp\u001B[38;5;241m.\u001B[39mbb\u001B[38;5;241m+\u001B[39mp\u001B[38;5;241m.\u001B[39mhbp)\u001B[38;5;241m/\u001B[39m(p\u001B[38;5;241m.\u001B[39mab\u001B[38;5;241m+\u001B[39mp\u001B[38;5;241m.\u001B[39mbb\u001B[38;5;241m+\u001B[39mp\u001B[38;5;241m.\u001B[39mhbp\u001B[38;5;241m+\u001B[39mp\u001B[38;5;241m.\u001B[39msf) \u001B[38;5;28;01mif\u001B[39;00m (p\u001B[38;5;241m.\u001B[39mab\u001B[38;5;241m+\u001B[39mp\u001B[38;5;241m.\u001B[39mbb\u001B[38;5;241m+\u001B[39mp\u001B[38;5;241m.\u001B[39mhbp\u001B[38;5;241m+\u001B[39mp\u001B[38;5;241m.\u001B[39msf) \u001B[38;5;241m!=\u001B[39m \u001B[38;5;241m0.0\u001B[39m \u001B[38;5;28;01melse\u001B[39;00m \u001B[38;5;241m0.0\u001B[39m, axis\u001B[38;5;241m=\u001B[39m\u001B[38;5;241m1\u001B[39m)\n",
      "\u001B[0;31mNameError\u001B[0m: name 'baseball' is not defined"
     ]
    }
   ],
   "source": [
    "baseball['obp']=baseball.apply(lambda p: (p.h+p.bb+p.hbp)/(p.ab+p.bb+p.hbp+p.sf) if (p.ab+p.bb+p.hbp+p.sf) != 0.0 else 0.0, axis=1)"
   ]
  },
  {
   "cell_type": "markdown",
   "metadata": {},
   "source": [
    "## Missing data\n",
    "\n",
    "The occurence of missing data is so prevalent that it pays to use tools like Pandas, which seamlessly integrates missing data handling so that it can be dealt with easily, and in the manner required by the analysis at hand.\n",
    "\n",
    "Missing data are represented in `Series` and `DataFrame` objects by the `NaN` floating point value. However, `None` is also treated as missing, since it is commonly used as such in other contexts (*e.g.* NumPy)."
   ]
  },
  {
   "cell_type": "code",
   "execution_count": 97,
   "metadata": {
    "ExecuteTime": {
     "end_time": "2024-01-10T21:07:41.776657200Z",
     "start_time": "2024-01-10T21:07:41.696536400Z"
    }
   },
   "outputs": [
    {
     "data": {
      "text/plain": "0       NaN\n1        -3\n2      None\n3    foobar\ndtype: object"
     },
     "execution_count": 97,
     "metadata": {},
     "output_type": "execute_result"
    }
   ],
   "source": [
    "foo = pd.Series([np.nan, -3, None, 'foobar'])\n",
    "foo"
   ]
  },
  {
   "cell_type": "code",
   "execution_count": 98,
   "metadata": {
    "ExecuteTime": {
     "end_time": "2024-01-10T21:07:41.914290400Z",
     "start_time": "2024-01-10T21:07:41.776657200Z"
    }
   },
   "outputs": [
    {
     "data": {
      "text/plain": "0     True\n1    False\n2     True\n3    False\ndtype: bool"
     },
     "execution_count": 98,
     "metadata": {},
     "output_type": "execute_result"
    }
   ],
   "source": [
    "foo.isnull()"
   ]
  },
  {
   "cell_type": "markdown",
   "metadata": {},
   "source": [
    "Missing values may be dropped or indexed out:"
   ]
  },
  {
   "cell_type": "code",
   "execution_count": 99,
   "metadata": {
    "ExecuteTime": {
     "end_time": "2024-01-10T21:07:41.942288700Z",
     "start_time": "2024-01-10T21:07:41.868762Z"
    }
   },
   "outputs": [
    {
     "data": {
      "text/plain": "1        -3\n3    foobar\ndtype: object"
     },
     "execution_count": 99,
     "metadata": {},
     "output_type": "execute_result"
    }
   ],
   "source": [
    "foo.dropna()"
   ]
  },
  {
   "cell_type": "code",
   "execution_count": 100,
   "metadata": {
    "ExecuteTime": {
     "end_time": "2024-01-10T21:07:42.066291700Z",
     "start_time": "2024-01-10T21:07:41.943282700Z"
    }
   },
   "outputs": [
    {
     "data": {
      "text/plain": "1        -3\n3    foobar\ndtype: object"
     },
     "execution_count": 100,
     "metadata": {},
     "output_type": "execute_result"
    }
   ],
   "source": [
    "foo[foo.notnull()]"
   ]
  },
  {
   "cell_type": "markdown",
   "metadata": {},
   "source": [
    "By default, `dropna` drops entire rows in which one or more values are missing."
   ]
  },
  {
   "cell_type": "code",
   "execution_count": 101,
   "metadata": {
    "ExecuteTime": {
     "end_time": "2024-01-10T21:07:42.176638300Z",
     "start_time": "2024-01-10T21:07:42.049904300Z"
    }
   },
   "outputs": [
    {
     "data": {
      "text/plain": "   patient          phylum  value  year  treatment\n0        1      Firmicutes    632  2013        0.0\n1        1  Proteobacteria   1638  2013        0.0\n2        1  Actinobacteria    569  2013        0.0\n3        1   Bacteroidetes     14  2013        0.0\n4        2      Firmicutes     21  2013        1.0\n5        2  Proteobacteria      0  2013        1.0",
      "text/html": "<div>\n<style scoped>\n    .dataframe tbody tr th:only-of-type {\n        vertical-align: middle;\n    }\n\n    .dataframe tbody tr th {\n        vertical-align: top;\n    }\n\n    .dataframe thead th {\n        text-align: right;\n    }\n</style>\n<table border=\"1\" class=\"dataframe\">\n  <thead>\n    <tr style=\"text-align: right;\">\n      <th></th>\n      <th>patient</th>\n      <th>phylum</th>\n      <th>value</th>\n      <th>year</th>\n      <th>treatment</th>\n    </tr>\n  </thead>\n  <tbody>\n    <tr>\n      <th>0</th>\n      <td>1</td>\n      <td>Firmicutes</td>\n      <td>632</td>\n      <td>2013</td>\n      <td>0.0</td>\n    </tr>\n    <tr>\n      <th>1</th>\n      <td>1</td>\n      <td>Proteobacteria</td>\n      <td>1638</td>\n      <td>2013</td>\n      <td>0.0</td>\n    </tr>\n    <tr>\n      <th>2</th>\n      <td>1</td>\n      <td>Actinobacteria</td>\n      <td>569</td>\n      <td>2013</td>\n      <td>0.0</td>\n    </tr>\n    <tr>\n      <th>3</th>\n      <td>1</td>\n      <td>Bacteroidetes</td>\n      <td>14</td>\n      <td>2013</td>\n      <td>0.0</td>\n    </tr>\n    <tr>\n      <th>4</th>\n      <td>2</td>\n      <td>Firmicutes</td>\n      <td>21</td>\n      <td>2013</td>\n      <td>1.0</td>\n    </tr>\n    <tr>\n      <th>5</th>\n      <td>2</td>\n      <td>Proteobacteria</td>\n      <td>0</td>\n      <td>2013</td>\n      <td>1.0</td>\n    </tr>\n  </tbody>\n</table>\n</div>"
     },
     "execution_count": 101,
     "metadata": {},
     "output_type": "execute_result"
    }
   ],
   "source": [
    "data.dropna()"
   ]
  },
  {
   "cell_type": "markdown",
   "metadata": {},
   "source": [
    "This can be overridden by passing the `how='all'` argument, which only drops a row when every field is a missing value."
   ]
  },
  {
   "cell_type": "code",
   "execution_count": 102,
   "metadata": {
    "ExecuteTime": {
     "end_time": "2024-01-10T21:07:42.202629600Z",
     "start_time": "2024-01-10T21:07:42.146072900Z"
    }
   },
   "outputs": [
    {
     "data": {
      "text/plain": "   patient          phylum  value  year  treatment\n0        1      Firmicutes    632  2013        0.0\n1        1  Proteobacteria   1638  2013        0.0\n2        1  Actinobacteria    569  2013        0.0\n3        1   Bacteroidetes     14  2013        0.0\n4        2      Firmicutes     21  2013        1.0\n5        2  Proteobacteria      0  2013        1.0\n6        2  Actinobacteria      5  2013        NaN\n7        2   Bacteroidetes    555  2013        NaN",
      "text/html": "<div>\n<style scoped>\n    .dataframe tbody tr th:only-of-type {\n        vertical-align: middle;\n    }\n\n    .dataframe tbody tr th {\n        vertical-align: top;\n    }\n\n    .dataframe thead th {\n        text-align: right;\n    }\n</style>\n<table border=\"1\" class=\"dataframe\">\n  <thead>\n    <tr style=\"text-align: right;\">\n      <th></th>\n      <th>patient</th>\n      <th>phylum</th>\n      <th>value</th>\n      <th>year</th>\n      <th>treatment</th>\n    </tr>\n  </thead>\n  <tbody>\n    <tr>\n      <th>0</th>\n      <td>1</td>\n      <td>Firmicutes</td>\n      <td>632</td>\n      <td>2013</td>\n      <td>0.0</td>\n    </tr>\n    <tr>\n      <th>1</th>\n      <td>1</td>\n      <td>Proteobacteria</td>\n      <td>1638</td>\n      <td>2013</td>\n      <td>0.0</td>\n    </tr>\n    <tr>\n      <th>2</th>\n      <td>1</td>\n      <td>Actinobacteria</td>\n      <td>569</td>\n      <td>2013</td>\n      <td>0.0</td>\n    </tr>\n    <tr>\n      <th>3</th>\n      <td>1</td>\n      <td>Bacteroidetes</td>\n      <td>14</td>\n      <td>2013</td>\n      <td>0.0</td>\n    </tr>\n    <tr>\n      <th>4</th>\n      <td>2</td>\n      <td>Firmicutes</td>\n      <td>21</td>\n      <td>2013</td>\n      <td>1.0</td>\n    </tr>\n    <tr>\n      <th>5</th>\n      <td>2</td>\n      <td>Proteobacteria</td>\n      <td>0</td>\n      <td>2013</td>\n      <td>1.0</td>\n    </tr>\n    <tr>\n      <th>6</th>\n      <td>2</td>\n      <td>Actinobacteria</td>\n      <td>5</td>\n      <td>2013</td>\n      <td>NaN</td>\n    </tr>\n    <tr>\n      <th>7</th>\n      <td>2</td>\n      <td>Bacteroidetes</td>\n      <td>555</td>\n      <td>2013</td>\n      <td>NaN</td>\n    </tr>\n  </tbody>\n</table>\n</div>"
     },
     "execution_count": 102,
     "metadata": {},
     "output_type": "execute_result"
    }
   ],
   "source": [
    "data.dropna(how='all')"
   ]
  },
  {
   "cell_type": "markdown",
   "metadata": {},
   "source": [
    "Rather than omitting missing data from an analysis, in some cases it may be suitable to fill the missing value in, either with a default value (such as zero) or a value that is either imputed or carried forward/backward from similar data points. We can do this programmatically in Pandas with the `fillna` argument."
   ]
  },
  {
   "cell_type": "code",
   "execution_count": 103,
   "metadata": {
    "ExecuteTime": {
     "end_time": "2024-01-10T21:07:42.400606200Z",
     "start_time": "2024-01-10T21:07:42.193633700Z"
    }
   },
   "outputs": [
    {
     "data": {
      "text/plain": "phylum\nFirmicutes           0.0\nProteobacteria     632.0\nActinobacteria    1638.0\nBacteroidetes      569.0\ndtype: float64"
     },
     "execution_count": 103,
     "metadata": {},
     "output_type": "execute_result"
    }
   ],
   "source": [
    "bacteria2.fillna(0)"
   ]
  },
  {
   "cell_type": "code",
   "execution_count": 176,
   "metadata": {
    "ExecuteTime": {
     "end_time": "2024-01-11T00:33:03.832967Z",
     "start_time": "2024-01-11T00:33:03.162823600Z"
    }
   },
   "outputs": [
    {
     "data": {
      "text/plain": "   patient          phylum  value  year  treatment\n0        1      Firmicutes    632  2013          1\n1        1  Proteobacteria   1638  2013          1\n2        1  Actinobacteria    569  2013          1\n3        1   Bacteroidetes     14  2013          1\n4        2      Firmicutes     21  2013          1\n5        2  Proteobacteria      0  2013          1\n6        2  Actinobacteria      5  2013          1\n7        2   Bacteroidetes    555  2013          1",
      "text/html": "<div>\n<style scoped>\n    .dataframe tbody tr th:only-of-type {\n        vertical-align: middle;\n    }\n\n    .dataframe tbody tr th {\n        vertical-align: top;\n    }\n\n    .dataframe thead th {\n        text-align: right;\n    }\n</style>\n<table border=\"1\" class=\"dataframe\">\n  <thead>\n    <tr style=\"text-align: right;\">\n      <th></th>\n      <th>patient</th>\n      <th>phylum</th>\n      <th>value</th>\n      <th>year</th>\n      <th>treatment</th>\n    </tr>\n  </thead>\n  <tbody>\n    <tr>\n      <th>0</th>\n      <td>1</td>\n      <td>Firmicutes</td>\n      <td>632</td>\n      <td>2013</td>\n      <td>1</td>\n    </tr>\n    <tr>\n      <th>1</th>\n      <td>1</td>\n      <td>Proteobacteria</td>\n      <td>1638</td>\n      <td>2013</td>\n      <td>1</td>\n    </tr>\n    <tr>\n      <th>2</th>\n      <td>1</td>\n      <td>Actinobacteria</td>\n      <td>569</td>\n      <td>2013</td>\n      <td>1</td>\n    </tr>\n    <tr>\n      <th>3</th>\n      <td>1</td>\n      <td>Bacteroidetes</td>\n      <td>14</td>\n      <td>2013</td>\n      <td>1</td>\n    </tr>\n    <tr>\n      <th>4</th>\n      <td>2</td>\n      <td>Firmicutes</td>\n      <td>21</td>\n      <td>2013</td>\n      <td>1</td>\n    </tr>\n    <tr>\n      <th>5</th>\n      <td>2</td>\n      <td>Proteobacteria</td>\n      <td>0</td>\n      <td>2013</td>\n      <td>1</td>\n    </tr>\n    <tr>\n      <th>6</th>\n      <td>2</td>\n      <td>Actinobacteria</td>\n      <td>5</td>\n      <td>2013</td>\n      <td>1</td>\n    </tr>\n    <tr>\n      <th>7</th>\n      <td>2</td>\n      <td>Bacteroidetes</td>\n      <td>555</td>\n      <td>2013</td>\n      <td>1</td>\n    </tr>\n  </tbody>\n</table>\n</div>"
     },
     "execution_count": 176,
     "metadata": {},
     "output_type": "execute_result"
    }
   ],
   "source": [
    "#data.fillna({'year': 2013, 'treatment':2}\n",
    "data.fillna({'year': 2013, 'treatment':2})"
   ]
  },
  {
   "cell_type": "markdown",
   "metadata": {},
   "source": [
    "Notice that `fillna` by default returns a new object with the desired filling behavior, rather than changing the `Series` or  `DataFrame` **in place**."
   ]
  },
  {
   "cell_type": "markdown",
   "metadata": {},
   "source": [
    "We can alter values in-place using `inplace=True`."
   ]
  },
  {
   "cell_type": "code",
   "execution_count": 105,
   "metadata": {
    "ExecuteTime": {
     "end_time": "2024-01-10T21:07:42.719342400Z",
     "start_time": "2024-01-10T21:07:42.448273700Z"
    }
   },
   "outputs": [
    {
     "data": {
      "text/plain": "   patient          phylum  value  year  treatment\n0        1      Firmicutes    632  2013        0.0\n1        1  Proteobacteria   1638  2013        0.0\n2        1  Actinobacteria    569  2013        0.0\n3        1   Bacteroidetes     14  2013        0.0\n4        2      Firmicutes     21  2013        1.0\n5        2  Proteobacteria      0  2013        1.0\n6        2  Actinobacteria      5  2013        2.0\n7        2   Bacteroidetes    555  2013        2.0",
      "text/html": "<div>\n<style scoped>\n    .dataframe tbody tr th:only-of-type {\n        vertical-align: middle;\n    }\n\n    .dataframe tbody tr th {\n        vertical-align: top;\n    }\n\n    .dataframe thead th {\n        text-align: right;\n    }\n</style>\n<table border=\"1\" class=\"dataframe\">\n  <thead>\n    <tr style=\"text-align: right;\">\n      <th></th>\n      <th>patient</th>\n      <th>phylum</th>\n      <th>value</th>\n      <th>year</th>\n      <th>treatment</th>\n    </tr>\n  </thead>\n  <tbody>\n    <tr>\n      <th>0</th>\n      <td>1</td>\n      <td>Firmicutes</td>\n      <td>632</td>\n      <td>2013</td>\n      <td>0.0</td>\n    </tr>\n    <tr>\n      <th>1</th>\n      <td>1</td>\n      <td>Proteobacteria</td>\n      <td>1638</td>\n      <td>2013</td>\n      <td>0.0</td>\n    </tr>\n    <tr>\n      <th>2</th>\n      <td>1</td>\n      <td>Actinobacteria</td>\n      <td>569</td>\n      <td>2013</td>\n      <td>0.0</td>\n    </tr>\n    <tr>\n      <th>3</th>\n      <td>1</td>\n      <td>Bacteroidetes</td>\n      <td>14</td>\n      <td>2013</td>\n      <td>0.0</td>\n    </tr>\n    <tr>\n      <th>4</th>\n      <td>2</td>\n      <td>Firmicutes</td>\n      <td>21</td>\n      <td>2013</td>\n      <td>1.0</td>\n    </tr>\n    <tr>\n      <th>5</th>\n      <td>2</td>\n      <td>Proteobacteria</td>\n      <td>0</td>\n      <td>2013</td>\n      <td>1.0</td>\n    </tr>\n    <tr>\n      <th>6</th>\n      <td>2</td>\n      <td>Actinobacteria</td>\n      <td>5</td>\n      <td>2013</td>\n      <td>2.0</td>\n    </tr>\n    <tr>\n      <th>7</th>\n      <td>2</td>\n      <td>Bacteroidetes</td>\n      <td>555</td>\n      <td>2013</td>\n      <td>2.0</td>\n    </tr>\n  </tbody>\n</table>\n</div>"
     },
     "execution_count": 105,
     "metadata": {},
     "output_type": "execute_result"
    }
   ],
   "source": [
    "data['treatment'].fillna(2, inplace=True)\n",
    "data"
   ]
  },
  {
   "cell_type": "markdown",
   "metadata": {},
   "source": [
    "Missing values can also be interpolated, using any one of a variety of methods:"
   ]
  },
  {
   "cell_type": "code",
   "execution_count": 106,
   "metadata": {
    "ExecuteTime": {
     "end_time": "2024-01-10T21:07:42.929935400Z",
     "start_time": "2024-01-10T21:07:42.678349200Z"
    }
   },
   "outputs": [
    {
     "name": "stderr",
     "output_type": "stream",
     "text": [
      "/tmp/ipykernel_1735/1043780510.py:1: FutureWarning: Series.fillna with 'method' is deprecated and will raise in a future version. Use obj.ffill() or obj.bfill() instead.\n",
      "  bacteria2.fillna(method='bfill')\n"
     ]
    },
    {
     "data": {
      "text/plain": "phylum\nFirmicutes         632.0\nProteobacteria     632.0\nActinobacteria    1638.0\nBacteroidetes      569.0\ndtype: float64"
     },
     "execution_count": 106,
     "metadata": {},
     "output_type": "execute_result"
    }
   ],
   "source": [
    "bacteria2.fillna(method='bfill')"
   ]
  },
  {
   "cell_type": "markdown",
   "metadata": {},
   "source": [
    "## Data summarization\n",
    "\n",
    "We often wish to summarize data in `Series` or `DataFrame` objects, so that they can more easily be understood or compared with similar data. The NumPy package contains several functions that are useful here, but several summarization or reduction methods are built into Pandas data structures."
   ]
  },
  {
   "cell_type": "code",
   "execution_count": 179,
   "metadata": {
    "ExecuteTime": {
     "end_time": "2024-01-11T00:40:57.207821300Z",
     "start_time": "2024-01-11T00:40:57.081253900Z"
    }
   },
   "outputs": [
    {
     "data": {
      "text/plain": "player    womacto01schilcu01myersmi01helliri01johnsra05f...\nyear                                                 200692\nstint                                                   113\nteam      CHNBOSNYAMILNYASFNARILANATLNYNTORTBAHOUARIATLM...\nlg        NLALALNLALNLNLNLNLNLALALNLNLNLALNLNLNLNLALALNL...\ng                                                      5238\nab                                                    13654\nr                                                      1869\nh                                                      3582\nX2b                                                     739\nX3b                                                      55\nhr                                                      437\nrbi                                                  1847.0\nsb                                                    138.0\ncs                                                     46.0\nbb                                                     1549\nso                                                   2408.0\nibb                                                   177.0\nhbp                                                   112.0\nsh                                                    138.0\nsf                                                    120.0\ngidp                                                  354.0\ndtype: object"
     },
     "execution_count": 179,
     "metadata": {},
     "output_type": "execute_result"
    }
   ],
   "source": [
    "baseball.sum()\n"
   ]
  },
  {
   "cell_type": "markdown",
   "metadata": {},
   "source": [
    "Clearly, `sum` is more meaningful for some columns than others. For methods like `mean` for which application to string variables is not just meaningless, but impossible, these columns are <b>automatically exculded</b>:"
   ]
  },
  {
   "cell_type": "code",
   "execution_count": 181,
   "metadata": {
    "ExecuteTime": {
     "end_time": "2024-01-11T00:41:19.029067900Z",
     "start_time": "2024-01-11T00:41:17.987838900Z"
    }
   },
   "outputs": [
    {
     "ename": "TypeError",
     "evalue": "Could not convert ['womacto01schilcu01myersmi01helliri01johnsra05finlest01gonzalu01seleaa01francju01francju01zaungr01witasja01williwo02wickmbo01wickmbo01whitero02whiteri01wellsda01wellsda01weathda01walketo04wakefti01vizquom01villoro01valenjo03trachst01trachst01timlimi01thomeji01thomafr04tavarju01sweenma01sweenma01suppaje01stinnke01stantmi02stairma01sprinru01sosasa01smoltjo01sheffga01seleaa01seaneru01schmija01schilcu01sandere02rogerke01rodriiv01ramirma02piazzmi01perezne01parkch01oliveda02myersmi01mussimi01moyerja01mesajo01martipe02maddugr01mabryjo01loftoke01loftoke01loaizes01kleskry01kentje01jonesto02johnsra05hoffmtr01hernaro01hernaro01guarded01griffke02greensh01graffto01gordoto01gonzalu01gomezch02gomezch02glavito02floydcl01finlest01embreal01edmonji01easleda01delgaca01cormirh01coninje01coninje01clemero02claytro01claytro01cirilje01cirilje01bondsba01biggicr01benitar01benitar01ausmubr01aloumo01alomasa02'\n 'CHNBOSNYAMILNYASFNARILANATLNYNTORTBAHOUARIATLMINHOULANSDNCINOAKBOSSFNNYANYNCHNBALBOSCHATORBOSLANSFNMILSLNCINTORSLNTEXATLDETNYNLANLANBOSKCADETDETBOSOAKDETNYNLAANYANYAPHIPHINYNSDNCOLCLETEXLANSFNLANDETARISDNLANCLECINCINNYNMILPHILANCLEBALNYNCHNCOLOAKSLNNYNNYNCINNYNCINNYABOSTORARIMINSFNHOUFLOSFNHOUNYNNYN'\n 'NLALALNLALNLNLNLNLNLALALNLNLNLALNLNLNLNLALALNLALNLNLALALALALALNLNLNLNLNLALNLALNLALNLNLNLALALALALALALALNLALALALNLNLNLNLNLALALNLNLNLALNLNLNLALNLNLNLNLNLNLALALNLNLNLALNLNLNLNLNLNLALALALNLALNLNLNLNLNLNLNL'] to numeric",
     "output_type": "error",
     "traceback": [
      "\u001B[0;31m---------------------------------------------------------------------------\u001B[0m",
      "\u001B[0;31mTypeError\u001B[0m                                 Traceback (most recent call last)",
      "Cell \u001B[0;32mIn[181], line 2\u001B[0m\n\u001B[1;32m      1\u001B[0m \u001B[38;5;66;03m# baseball.mean(numeric_only=True)\u001B[39;00m\n\u001B[0;32m----> 2\u001B[0m \u001B[43mbaseball\u001B[49m\u001B[38;5;241;43m.\u001B[39;49m\u001B[43mmean\u001B[49m\u001B[43m(\u001B[49m\u001B[43m)\u001B[49m\n",
      "File \u001B[0;32m~/.virtualenvs/2023/lib/python3.10/site-packages/pandas/core/frame.py:11335\u001B[0m, in \u001B[0;36mDataFrame.mean\u001B[0;34m(self, axis, skipna, numeric_only, **kwargs)\u001B[0m\n\u001B[1;32m  11327\u001B[0m \u001B[38;5;129m@doc\u001B[39m(make_doc(\u001B[38;5;124m\"\u001B[39m\u001B[38;5;124mmean\u001B[39m\u001B[38;5;124m\"\u001B[39m, ndim\u001B[38;5;241m=\u001B[39m\u001B[38;5;241m2\u001B[39m))\n\u001B[1;32m  11328\u001B[0m \u001B[38;5;28;01mdef\u001B[39;00m \u001B[38;5;21mmean\u001B[39m(\n\u001B[1;32m  11329\u001B[0m     \u001B[38;5;28mself\u001B[39m,\n\u001B[0;32m   (...)\u001B[0m\n\u001B[1;32m  11333\u001B[0m     \u001B[38;5;241m*\u001B[39m\u001B[38;5;241m*\u001B[39mkwargs,\n\u001B[1;32m  11334\u001B[0m ):\n\u001B[0;32m> 11335\u001B[0m     result \u001B[38;5;241m=\u001B[39m \u001B[38;5;28;43msuper\u001B[39;49m\u001B[43m(\u001B[49m\u001B[43m)\u001B[49m\u001B[38;5;241;43m.\u001B[39;49m\u001B[43mmean\u001B[49m\u001B[43m(\u001B[49m\u001B[43maxis\u001B[49m\u001B[43m,\u001B[49m\u001B[43m \u001B[49m\u001B[43mskipna\u001B[49m\u001B[43m,\u001B[49m\u001B[43m \u001B[49m\u001B[43mnumeric_only\u001B[49m\u001B[43m,\u001B[49m\u001B[43m \u001B[49m\u001B[38;5;241;43m*\u001B[39;49m\u001B[38;5;241;43m*\u001B[39;49m\u001B[43mkwargs\u001B[49m\u001B[43m)\u001B[49m\n\u001B[1;32m  11336\u001B[0m     \u001B[38;5;28;01mif\u001B[39;00m \u001B[38;5;28misinstance\u001B[39m(result, Series):\n\u001B[1;32m  11337\u001B[0m         result \u001B[38;5;241m=\u001B[39m result\u001B[38;5;241m.\u001B[39m__finalize__(\u001B[38;5;28mself\u001B[39m, method\u001B[38;5;241m=\u001B[39m\u001B[38;5;124m\"\u001B[39m\u001B[38;5;124mmean\u001B[39m\u001B[38;5;124m\"\u001B[39m)\n",
      "File \u001B[0;32m~/.virtualenvs/2023/lib/python3.10/site-packages/pandas/core/generic.py:11992\u001B[0m, in \u001B[0;36mNDFrame.mean\u001B[0;34m(self, axis, skipna, numeric_only, **kwargs)\u001B[0m\n\u001B[1;32m  11985\u001B[0m \u001B[38;5;28;01mdef\u001B[39;00m \u001B[38;5;21mmean\u001B[39m(\n\u001B[1;32m  11986\u001B[0m     \u001B[38;5;28mself\u001B[39m,\n\u001B[1;32m  11987\u001B[0m     axis: Axis \u001B[38;5;241m|\u001B[39m \u001B[38;5;28;01mNone\u001B[39;00m \u001B[38;5;241m=\u001B[39m \u001B[38;5;241m0\u001B[39m,\n\u001B[0;32m   (...)\u001B[0m\n\u001B[1;32m  11990\u001B[0m     \u001B[38;5;241m*\u001B[39m\u001B[38;5;241m*\u001B[39mkwargs,\n\u001B[1;32m  11991\u001B[0m ) \u001B[38;5;241m-\u001B[39m\u001B[38;5;241m>\u001B[39m Series \u001B[38;5;241m|\u001B[39m \u001B[38;5;28mfloat\u001B[39m:\n\u001B[0;32m> 11992\u001B[0m     \u001B[38;5;28;01mreturn\u001B[39;00m \u001B[38;5;28;43mself\u001B[39;49m\u001B[38;5;241;43m.\u001B[39;49m\u001B[43m_stat_function\u001B[49m\u001B[43m(\u001B[49m\n\u001B[1;32m  11993\u001B[0m \u001B[43m        \u001B[49m\u001B[38;5;124;43m\"\u001B[39;49m\u001B[38;5;124;43mmean\u001B[39;49m\u001B[38;5;124;43m\"\u001B[39;49m\u001B[43m,\u001B[49m\u001B[43m \u001B[49m\u001B[43mnanops\u001B[49m\u001B[38;5;241;43m.\u001B[39;49m\u001B[43mnanmean\u001B[49m\u001B[43m,\u001B[49m\u001B[43m \u001B[49m\u001B[43maxis\u001B[49m\u001B[43m,\u001B[49m\u001B[43m \u001B[49m\u001B[43mskipna\u001B[49m\u001B[43m,\u001B[49m\u001B[43m \u001B[49m\u001B[43mnumeric_only\u001B[49m\u001B[43m,\u001B[49m\u001B[43m \u001B[49m\u001B[38;5;241;43m*\u001B[39;49m\u001B[38;5;241;43m*\u001B[39;49m\u001B[43mkwargs\u001B[49m\n\u001B[1;32m  11994\u001B[0m \u001B[43m    \u001B[49m\u001B[43m)\u001B[49m\n",
      "File \u001B[0;32m~/.virtualenvs/2023/lib/python3.10/site-packages/pandas/core/generic.py:11949\u001B[0m, in \u001B[0;36mNDFrame._stat_function\u001B[0;34m(self, name, func, axis, skipna, numeric_only, **kwargs)\u001B[0m\n\u001B[1;32m  11945\u001B[0m nv\u001B[38;5;241m.\u001B[39mvalidate_func(name, (), kwargs)\n\u001B[1;32m  11947\u001B[0m validate_bool_kwarg(skipna, \u001B[38;5;124m\"\u001B[39m\u001B[38;5;124mskipna\u001B[39m\u001B[38;5;124m\"\u001B[39m, none_allowed\u001B[38;5;241m=\u001B[39m\u001B[38;5;28;01mFalse\u001B[39;00m)\n\u001B[0;32m> 11949\u001B[0m \u001B[38;5;28;01mreturn\u001B[39;00m \u001B[38;5;28;43mself\u001B[39;49m\u001B[38;5;241;43m.\u001B[39;49m\u001B[43m_reduce\u001B[49m\u001B[43m(\u001B[49m\n\u001B[1;32m  11950\u001B[0m \u001B[43m    \u001B[49m\u001B[43mfunc\u001B[49m\u001B[43m,\u001B[49m\u001B[43m \u001B[49m\u001B[43mname\u001B[49m\u001B[38;5;241;43m=\u001B[39;49m\u001B[43mname\u001B[49m\u001B[43m,\u001B[49m\u001B[43m \u001B[49m\u001B[43maxis\u001B[49m\u001B[38;5;241;43m=\u001B[39;49m\u001B[43maxis\u001B[49m\u001B[43m,\u001B[49m\u001B[43m \u001B[49m\u001B[43mskipna\u001B[49m\u001B[38;5;241;43m=\u001B[39;49m\u001B[43mskipna\u001B[49m\u001B[43m,\u001B[49m\u001B[43m \u001B[49m\u001B[43mnumeric_only\u001B[49m\u001B[38;5;241;43m=\u001B[39;49m\u001B[43mnumeric_only\u001B[49m\n\u001B[1;32m  11951\u001B[0m \u001B[43m\u001B[49m\u001B[43m)\u001B[49m\n",
      "File \u001B[0;32m~/.virtualenvs/2023/lib/python3.10/site-packages/pandas/core/frame.py:11204\u001B[0m, in \u001B[0;36mDataFrame._reduce\u001B[0;34m(self, op, name, axis, skipna, numeric_only, filter_type, **kwds)\u001B[0m\n\u001B[1;32m  11200\u001B[0m     df \u001B[38;5;241m=\u001B[39m df\u001B[38;5;241m.\u001B[39mT\n\u001B[1;32m  11202\u001B[0m \u001B[38;5;66;03m# After possibly _get_data and transposing, we are now in the\u001B[39;00m\n\u001B[1;32m  11203\u001B[0m \u001B[38;5;66;03m#  simple case where we can use BlockManager.reduce\u001B[39;00m\n\u001B[0;32m> 11204\u001B[0m res \u001B[38;5;241m=\u001B[39m \u001B[43mdf\u001B[49m\u001B[38;5;241;43m.\u001B[39;49m\u001B[43m_mgr\u001B[49m\u001B[38;5;241;43m.\u001B[39;49m\u001B[43mreduce\u001B[49m\u001B[43m(\u001B[49m\u001B[43mblk_func\u001B[49m\u001B[43m)\u001B[49m\n\u001B[1;32m  11205\u001B[0m out \u001B[38;5;241m=\u001B[39m df\u001B[38;5;241m.\u001B[39m_constructor_from_mgr(res, axes\u001B[38;5;241m=\u001B[39mres\u001B[38;5;241m.\u001B[39maxes)\u001B[38;5;241m.\u001B[39miloc[\u001B[38;5;241m0\u001B[39m]\n\u001B[1;32m  11206\u001B[0m \u001B[38;5;28;01mif\u001B[39;00m out_dtype \u001B[38;5;129;01mis\u001B[39;00m \u001B[38;5;129;01mnot\u001B[39;00m \u001B[38;5;28;01mNone\u001B[39;00m \u001B[38;5;129;01mand\u001B[39;00m out\u001B[38;5;241m.\u001B[39mdtype \u001B[38;5;241m!=\u001B[39m \u001B[38;5;124m\"\u001B[39m\u001B[38;5;124mboolean\u001B[39m\u001B[38;5;124m\"\u001B[39m:\n",
      "File \u001B[0;32m~/.virtualenvs/2023/lib/python3.10/site-packages/pandas/core/internals/managers.py:1459\u001B[0m, in \u001B[0;36mBlockManager.reduce\u001B[0;34m(self, func)\u001B[0m\n\u001B[1;32m   1457\u001B[0m res_blocks: \u001B[38;5;28mlist\u001B[39m[Block] \u001B[38;5;241m=\u001B[39m []\n\u001B[1;32m   1458\u001B[0m \u001B[38;5;28;01mfor\u001B[39;00m blk \u001B[38;5;129;01min\u001B[39;00m \u001B[38;5;28mself\u001B[39m\u001B[38;5;241m.\u001B[39mblocks:\n\u001B[0;32m-> 1459\u001B[0m     nbs \u001B[38;5;241m=\u001B[39m \u001B[43mblk\u001B[49m\u001B[38;5;241;43m.\u001B[39;49m\u001B[43mreduce\u001B[49m\u001B[43m(\u001B[49m\u001B[43mfunc\u001B[49m\u001B[43m)\u001B[49m\n\u001B[1;32m   1460\u001B[0m     res_blocks\u001B[38;5;241m.\u001B[39mextend(nbs)\n\u001B[1;32m   1462\u001B[0m index \u001B[38;5;241m=\u001B[39m Index([\u001B[38;5;28;01mNone\u001B[39;00m])  \u001B[38;5;66;03m# placeholder\u001B[39;00m\n",
      "File \u001B[0;32m~/.virtualenvs/2023/lib/python3.10/site-packages/pandas/core/internals/blocks.py:377\u001B[0m, in \u001B[0;36mBlock.reduce\u001B[0;34m(self, func)\u001B[0m\n\u001B[1;32m    371\u001B[0m \u001B[38;5;129m@final\u001B[39m\n\u001B[1;32m    372\u001B[0m \u001B[38;5;28;01mdef\u001B[39;00m \u001B[38;5;21mreduce\u001B[39m(\u001B[38;5;28mself\u001B[39m, func) \u001B[38;5;241m-\u001B[39m\u001B[38;5;241m>\u001B[39m \u001B[38;5;28mlist\u001B[39m[Block]:\n\u001B[1;32m    373\u001B[0m     \u001B[38;5;66;03m# We will apply the function and reshape the result into a single-row\u001B[39;00m\n\u001B[1;32m    374\u001B[0m     \u001B[38;5;66;03m#  Block with the same mgr_locs; squeezing will be done at a higher level\u001B[39;00m\n\u001B[1;32m    375\u001B[0m     \u001B[38;5;28;01massert\u001B[39;00m \u001B[38;5;28mself\u001B[39m\u001B[38;5;241m.\u001B[39mndim \u001B[38;5;241m==\u001B[39m \u001B[38;5;241m2\u001B[39m\n\u001B[0;32m--> 377\u001B[0m     result \u001B[38;5;241m=\u001B[39m \u001B[43mfunc\u001B[49m\u001B[43m(\u001B[49m\u001B[38;5;28;43mself\u001B[39;49m\u001B[38;5;241;43m.\u001B[39;49m\u001B[43mvalues\u001B[49m\u001B[43m)\u001B[49m\n\u001B[1;32m    379\u001B[0m     \u001B[38;5;28;01mif\u001B[39;00m \u001B[38;5;28mself\u001B[39m\u001B[38;5;241m.\u001B[39mvalues\u001B[38;5;241m.\u001B[39mndim \u001B[38;5;241m==\u001B[39m \u001B[38;5;241m1\u001B[39m:\n\u001B[1;32m    380\u001B[0m         res_values \u001B[38;5;241m=\u001B[39m result\n",
      "File \u001B[0;32m~/.virtualenvs/2023/lib/python3.10/site-packages/pandas/core/frame.py:11136\u001B[0m, in \u001B[0;36mDataFrame._reduce.<locals>.blk_func\u001B[0;34m(values, axis)\u001B[0m\n\u001B[1;32m  11134\u001B[0m         \u001B[38;5;28;01mreturn\u001B[39;00m np\u001B[38;5;241m.\u001B[39marray([result])\n\u001B[1;32m  11135\u001B[0m \u001B[38;5;28;01melse\u001B[39;00m:\n\u001B[0;32m> 11136\u001B[0m     \u001B[38;5;28;01mreturn\u001B[39;00m \u001B[43mop\u001B[49m\u001B[43m(\u001B[49m\u001B[43mvalues\u001B[49m\u001B[43m,\u001B[49m\u001B[43m \u001B[49m\u001B[43maxis\u001B[49m\u001B[38;5;241;43m=\u001B[39;49m\u001B[43maxis\u001B[49m\u001B[43m,\u001B[49m\u001B[43m \u001B[49m\u001B[43mskipna\u001B[49m\u001B[38;5;241;43m=\u001B[39;49m\u001B[43mskipna\u001B[49m\u001B[43m,\u001B[49m\u001B[43m \u001B[49m\u001B[38;5;241;43m*\u001B[39;49m\u001B[38;5;241;43m*\u001B[39;49m\u001B[43mkwds\u001B[49m\u001B[43m)\u001B[49m\n",
      "File \u001B[0;32m~/.virtualenvs/2023/lib/python3.10/site-packages/pandas/core/nanops.py:147\u001B[0m, in \u001B[0;36mbottleneck_switch.__call__.<locals>.f\u001B[0;34m(values, axis, skipna, **kwds)\u001B[0m\n\u001B[1;32m    145\u001B[0m         result \u001B[38;5;241m=\u001B[39m alt(values, axis\u001B[38;5;241m=\u001B[39maxis, skipna\u001B[38;5;241m=\u001B[39mskipna, \u001B[38;5;241m*\u001B[39m\u001B[38;5;241m*\u001B[39mkwds)\n\u001B[1;32m    146\u001B[0m \u001B[38;5;28;01melse\u001B[39;00m:\n\u001B[0;32m--> 147\u001B[0m     result \u001B[38;5;241m=\u001B[39m \u001B[43malt\u001B[49m\u001B[43m(\u001B[49m\u001B[43mvalues\u001B[49m\u001B[43m,\u001B[49m\u001B[43m \u001B[49m\u001B[43maxis\u001B[49m\u001B[38;5;241;43m=\u001B[39;49m\u001B[43maxis\u001B[49m\u001B[43m,\u001B[49m\u001B[43m \u001B[49m\u001B[43mskipna\u001B[49m\u001B[38;5;241;43m=\u001B[39;49m\u001B[43mskipna\u001B[49m\u001B[43m,\u001B[49m\u001B[43m \u001B[49m\u001B[38;5;241;43m*\u001B[39;49m\u001B[38;5;241;43m*\u001B[39;49m\u001B[43mkwds\u001B[49m\u001B[43m)\u001B[49m\n\u001B[1;32m    149\u001B[0m \u001B[38;5;28;01mreturn\u001B[39;00m result\n",
      "File \u001B[0;32m~/.virtualenvs/2023/lib/python3.10/site-packages/pandas/core/nanops.py:404\u001B[0m, in \u001B[0;36m_datetimelike_compat.<locals>.new_func\u001B[0;34m(values, axis, skipna, mask, **kwargs)\u001B[0m\n\u001B[1;32m    401\u001B[0m \u001B[38;5;28;01mif\u001B[39;00m datetimelike \u001B[38;5;129;01mand\u001B[39;00m mask \u001B[38;5;129;01mis\u001B[39;00m \u001B[38;5;28;01mNone\u001B[39;00m:\n\u001B[1;32m    402\u001B[0m     mask \u001B[38;5;241m=\u001B[39m isna(values)\n\u001B[0;32m--> 404\u001B[0m result \u001B[38;5;241m=\u001B[39m \u001B[43mfunc\u001B[49m\u001B[43m(\u001B[49m\u001B[43mvalues\u001B[49m\u001B[43m,\u001B[49m\u001B[43m \u001B[49m\u001B[43maxis\u001B[49m\u001B[38;5;241;43m=\u001B[39;49m\u001B[43maxis\u001B[49m\u001B[43m,\u001B[49m\u001B[43m \u001B[49m\u001B[43mskipna\u001B[49m\u001B[38;5;241;43m=\u001B[39;49m\u001B[43mskipna\u001B[49m\u001B[43m,\u001B[49m\u001B[43m \u001B[49m\u001B[43mmask\u001B[49m\u001B[38;5;241;43m=\u001B[39;49m\u001B[43mmask\u001B[49m\u001B[43m,\u001B[49m\u001B[43m \u001B[49m\u001B[38;5;241;43m*\u001B[39;49m\u001B[38;5;241;43m*\u001B[39;49m\u001B[43mkwargs\u001B[49m\u001B[43m)\u001B[49m\n\u001B[1;32m    406\u001B[0m \u001B[38;5;28;01mif\u001B[39;00m datetimelike:\n\u001B[1;32m    407\u001B[0m     result \u001B[38;5;241m=\u001B[39m _wrap_results(result, orig_values\u001B[38;5;241m.\u001B[39mdtype, fill_value\u001B[38;5;241m=\u001B[39miNaT)\n",
      "File \u001B[0;32m~/.virtualenvs/2023/lib/python3.10/site-packages/pandas/core/nanops.py:720\u001B[0m, in \u001B[0;36mnanmean\u001B[0;34m(values, axis, skipna, mask)\u001B[0m\n\u001B[1;32m    718\u001B[0m count \u001B[38;5;241m=\u001B[39m _get_counts(values\u001B[38;5;241m.\u001B[39mshape, mask, axis, dtype\u001B[38;5;241m=\u001B[39mdtype_count)\n\u001B[1;32m    719\u001B[0m the_sum \u001B[38;5;241m=\u001B[39m values\u001B[38;5;241m.\u001B[39msum(axis, dtype\u001B[38;5;241m=\u001B[39mdtype_sum)\n\u001B[0;32m--> 720\u001B[0m the_sum \u001B[38;5;241m=\u001B[39m \u001B[43m_ensure_numeric\u001B[49m\u001B[43m(\u001B[49m\u001B[43mthe_sum\u001B[49m\u001B[43m)\u001B[49m\n\u001B[1;32m    722\u001B[0m \u001B[38;5;28;01mif\u001B[39;00m axis \u001B[38;5;129;01mis\u001B[39;00m \u001B[38;5;129;01mnot\u001B[39;00m \u001B[38;5;28;01mNone\u001B[39;00m \u001B[38;5;129;01mand\u001B[39;00m \u001B[38;5;28mgetattr\u001B[39m(the_sum, \u001B[38;5;124m\"\u001B[39m\u001B[38;5;124mndim\u001B[39m\u001B[38;5;124m\"\u001B[39m, \u001B[38;5;28;01mFalse\u001B[39;00m):\n\u001B[1;32m    723\u001B[0m     count \u001B[38;5;241m=\u001B[39m cast(np\u001B[38;5;241m.\u001B[39mndarray, count)\n",
      "File \u001B[0;32m~/.virtualenvs/2023/lib/python3.10/site-packages/pandas/core/nanops.py:1678\u001B[0m, in \u001B[0;36m_ensure_numeric\u001B[0;34m(x)\u001B[0m\n\u001B[1;32m   1675\u001B[0m inferred \u001B[38;5;241m=\u001B[39m lib\u001B[38;5;241m.\u001B[39minfer_dtype(x)\n\u001B[1;32m   1676\u001B[0m \u001B[38;5;28;01mif\u001B[39;00m inferred \u001B[38;5;129;01min\u001B[39;00m [\u001B[38;5;124m\"\u001B[39m\u001B[38;5;124mstring\u001B[39m\u001B[38;5;124m\"\u001B[39m, \u001B[38;5;124m\"\u001B[39m\u001B[38;5;124mmixed\u001B[39m\u001B[38;5;124m\"\u001B[39m]:\n\u001B[1;32m   1677\u001B[0m     \u001B[38;5;66;03m# GH#44008, GH#36703 avoid casting e.g. strings to numeric\u001B[39;00m\n\u001B[0;32m-> 1678\u001B[0m     \u001B[38;5;28;01mraise\u001B[39;00m \u001B[38;5;167;01mTypeError\u001B[39;00m(\u001B[38;5;124mf\u001B[39m\u001B[38;5;124m\"\u001B[39m\u001B[38;5;124mCould not convert \u001B[39m\u001B[38;5;132;01m{\u001B[39;00mx\u001B[38;5;132;01m}\u001B[39;00m\u001B[38;5;124m to numeric\u001B[39m\u001B[38;5;124m\"\u001B[39m)\n\u001B[1;32m   1679\u001B[0m \u001B[38;5;28;01mtry\u001B[39;00m:\n\u001B[1;32m   1680\u001B[0m     x \u001B[38;5;241m=\u001B[39m x\u001B[38;5;241m.\u001B[39mastype(np\u001B[38;5;241m.\u001B[39mcomplex128)\n",
      "\u001B[0;31mTypeError\u001B[0m: Could not convert ['womacto01schilcu01myersmi01helliri01johnsra05finlest01gonzalu01seleaa01francju01francju01zaungr01witasja01williwo02wickmbo01wickmbo01whitero02whiteri01wellsda01wellsda01weathda01walketo04wakefti01vizquom01villoro01valenjo03trachst01trachst01timlimi01thomeji01thomafr04tavarju01sweenma01sweenma01suppaje01stinnke01stantmi02stairma01sprinru01sosasa01smoltjo01sheffga01seleaa01seaneru01schmija01schilcu01sandere02rogerke01rodriiv01ramirma02piazzmi01perezne01parkch01oliveda02myersmi01mussimi01moyerja01mesajo01martipe02maddugr01mabryjo01loftoke01loftoke01loaizes01kleskry01kentje01jonesto02johnsra05hoffmtr01hernaro01hernaro01guarded01griffke02greensh01graffto01gordoto01gonzalu01gomezch02gomezch02glavito02floydcl01finlest01embreal01edmonji01easleda01delgaca01cormirh01coninje01coninje01clemero02claytro01claytro01cirilje01cirilje01bondsba01biggicr01benitar01benitar01ausmubr01aloumo01alomasa02'\n 'CHNBOSNYAMILNYASFNARILANATLNYNTORTBAHOUARIATLMINHOULANSDNCINOAKBOSSFNNYANYNCHNBALBOSCHATORBOSLANSFNMILSLNCINTORSLNTEXATLDETNYNLANLANBOSKCADETDETBOSOAKDETNYNLAANYANYAPHIPHINYNSDNCOLCLETEXLANSFNLANDETARISDNLANCLECINCINNYNMILPHILANCLEBALNYNCHNCOLOAKSLNNYNNYNCINNYNCINNYABOSTORARIMINSFNHOUFLOSFNHOUNYNNYN'\n 'NLALALNLALNLNLNLNLNLALALNLNLNLALNLNLNLNLALALNLALNLNLALALALALALNLNLNLNLNLALNLALNLALNLNLNLALALALALALALALNLALALALNLNLNLNLNLALALNLNLNLALNLNLNLALNLNLNLNLNLNLALALNLNLNLALNLNLNLNLNLNLALALALNLALNLNLNLNLNLNLNL'] to numeric"
     ]
    }
   ],
   "source": [
    "baseball.mean(numeric_only=True)"
   ]
  },
  {
   "cell_type": "markdown",
   "metadata": {},
   "source": [
    "The important difference between NumPy's functions and Pandas' methods is that the latter have built-in support for handling missing data."
   ]
  },
  {
   "cell_type": "code",
   "execution_count": 109,
   "metadata": {
    "ExecuteTime": {
     "end_time": "2024-01-10T21:07:43.331702500Z",
     "start_time": "2024-01-10T21:07:43.154574600Z"
    }
   },
   "outputs": [
    {
     "data": {
      "text/plain": "phylum\nFirmicutes           NaN\nProteobacteria     632.0\nActinobacteria    1638.0\nBacteroidetes      569.0\ndtype: float64"
     },
     "execution_count": 109,
     "metadata": {},
     "output_type": "execute_result"
    }
   ],
   "source": [
    "bacteria2"
   ]
  },
  {
   "cell_type": "code",
   "execution_count": 110,
   "metadata": {
    "ExecuteTime": {
     "end_time": "2024-01-10T21:07:43.382188Z",
     "start_time": "2024-01-10T21:07:43.252828400Z"
    }
   },
   "outputs": [
    {
     "data": {
      "text/plain": "946.3333333333334"
     },
     "execution_count": 110,
     "metadata": {},
     "output_type": "execute_result"
    }
   ],
   "source": [
    "bacteria2.mean()"
   ]
  },
  {
   "cell_type": "markdown",
   "metadata": {},
   "source": [
    "Sometimes we may not want to ignore missing values, and allow the `nan` to propagate."
   ]
  },
  {
   "cell_type": "code",
   "execution_count": 111,
   "metadata": {
    "ExecuteTime": {
     "end_time": "2024-01-10T21:07:43.497725400Z",
     "start_time": "2024-01-10T21:07:43.364706700Z"
    }
   },
   "outputs": [
    {
     "data": {
      "text/plain": "nan"
     },
     "execution_count": 111,
     "metadata": {},
     "output_type": "execute_result"
    }
   ],
   "source": [
    "bacteria2.mean(skipna=False)"
   ]
  },
  {
   "cell_type": "markdown",
   "metadata": {},
   "source": [
    "Passing `axis=1` will summarize over rows instead of columns, which only makes sense in certain situations."
   ]
  },
  {
   "cell_type": "code",
   "execution_count": 182,
   "metadata": {
    "ExecuteTime": {
     "end_time": "2024-01-11T00:42:59.073578800Z",
     "start_time": "2024-01-11T00:42:58.974806500Z"
    }
   },
   "outputs": [
    {
     "data": {
      "text/plain": "id\n88653    69\n89439    57\n89361    56\n89462    55\n89396    54\n89360    54\n89489    54\n89371    50\n89378    46\n89374    46\n89389    45\n89523    44\n89521    42\n89463    41\n89466    40\n88652    39\n89438    36\n89330    35\n89533    33\n89481    29\ndtype: int64"
     },
     "execution_count": 182,
     "metadata": {},
     "output_type": "execute_result"
    }
   ],
   "source": [
    "extra_bases = baseball[['X2b','X3b','hr']].sum(axis=1)\n",
    "extra_bases.sort_values(ascending=False).head(20)"
   ]
  },
  {
   "cell_type": "markdown",
   "metadata": {},
   "source": [
    "A useful summarization that gives a quick snapshot of multiple statistics for a `Series` or `DataFrame` is `describe`:"
   ]
  },
  {
   "cell_type": "code",
   "execution_count": 183,
   "metadata": {
    "ExecuteTime": {
     "end_time": "2024-01-11T00:43:10.878099Z",
     "start_time": "2024-01-11T00:43:10.768541Z"
    }
   },
   "outputs": [
    {
     "data": {
      "text/plain": "             year       stint           g          ab          r           h  \\\ncount   100.00000  100.000000  100.000000  100.000000  100.00000  100.000000   \nmean   2006.92000    1.130000   52.380000  136.540000   18.69000   35.820000   \nstd       0.27266    0.337998   48.031299  181.936853   27.77496   50.221807   \nmin    2006.00000    1.000000    1.000000    0.000000    0.00000    0.000000   \n25%    2007.00000    1.000000    9.500000    2.000000    0.00000    0.000000   \n50%    2007.00000    1.000000   33.000000   40.500000    2.00000    8.000000   \n75%    2007.00000    1.000000   83.250000  243.750000   33.25000   62.750000   \nmax    2007.00000    2.000000  155.000000  586.000000  107.00000  159.000000   \n\n              X2b         X3b          hr        rbi          sb          cs  \\\ncount  100.000000  100.000000  100.000000  100.00000  100.000000  100.000000   \nmean     7.390000    0.550000    4.370000   18.47000    1.380000    0.460000   \nstd     11.117277    1.445124    7.975537   28.34793    3.694878    1.067613   \nmin      0.000000    0.000000    0.000000    0.00000    0.000000    0.000000   \n25%      0.000000    0.000000    0.000000    0.00000    0.000000    0.000000   \n50%      1.000000    0.000000    0.000000    2.00000    0.000000    0.000000   \n75%     11.750000    1.000000    6.000000   27.00000    1.000000    0.000000   \nmax     52.000000   12.000000   35.000000   96.00000   22.000000    6.000000   \n\n               bb          so         ibb        hbp          sh          sf  \\\ncount  100.000000  100.000000  100.000000  100.00000  100.000000  100.000000   \nmean    15.490000   24.080000    1.770000    1.12000    1.380000    1.200000   \nstd     25.812649   32.804496    5.042957    2.23055    2.919042    2.035046   \nmin      0.000000    0.000000    0.000000    0.00000    0.000000    0.000000   \n25%      0.000000    1.000000    0.000000    0.00000    0.000000    0.000000   \n50%      1.000000    7.000000    0.000000    0.00000    0.000000    0.000000   \n75%     19.250000   37.250000    1.250000    1.00000    1.000000    2.000000   \nmax    132.000000  134.000000   43.000000   11.00000   14.000000    9.000000   \n\n             gidp  \ncount  100.000000  \nmean     3.540000  \nstd      5.201826  \nmin      0.000000  \n25%      0.000000  \n50%      1.000000  \n75%      6.000000  \nmax     21.000000  ",
      "text/html": "<div>\n<style scoped>\n    .dataframe tbody tr th:only-of-type {\n        vertical-align: middle;\n    }\n\n    .dataframe tbody tr th {\n        vertical-align: top;\n    }\n\n    .dataframe thead th {\n        text-align: right;\n    }\n</style>\n<table border=\"1\" class=\"dataframe\">\n  <thead>\n    <tr style=\"text-align: right;\">\n      <th></th>\n      <th>year</th>\n      <th>stint</th>\n      <th>g</th>\n      <th>ab</th>\n      <th>r</th>\n      <th>h</th>\n      <th>X2b</th>\n      <th>X3b</th>\n      <th>hr</th>\n      <th>rbi</th>\n      <th>sb</th>\n      <th>cs</th>\n      <th>bb</th>\n      <th>so</th>\n      <th>ibb</th>\n      <th>hbp</th>\n      <th>sh</th>\n      <th>sf</th>\n      <th>gidp</th>\n    </tr>\n  </thead>\n  <tbody>\n    <tr>\n      <th>count</th>\n      <td>100.00000</td>\n      <td>100.000000</td>\n      <td>100.000000</td>\n      <td>100.000000</td>\n      <td>100.00000</td>\n      <td>100.000000</td>\n      <td>100.000000</td>\n      <td>100.000000</td>\n      <td>100.000000</td>\n      <td>100.00000</td>\n      <td>100.000000</td>\n      <td>100.000000</td>\n      <td>100.000000</td>\n      <td>100.000000</td>\n      <td>100.000000</td>\n      <td>100.00000</td>\n      <td>100.000000</td>\n      <td>100.000000</td>\n      <td>100.000000</td>\n    </tr>\n    <tr>\n      <th>mean</th>\n      <td>2006.92000</td>\n      <td>1.130000</td>\n      <td>52.380000</td>\n      <td>136.540000</td>\n      <td>18.69000</td>\n      <td>35.820000</td>\n      <td>7.390000</td>\n      <td>0.550000</td>\n      <td>4.370000</td>\n      <td>18.47000</td>\n      <td>1.380000</td>\n      <td>0.460000</td>\n      <td>15.490000</td>\n      <td>24.080000</td>\n      <td>1.770000</td>\n      <td>1.12000</td>\n      <td>1.380000</td>\n      <td>1.200000</td>\n      <td>3.540000</td>\n    </tr>\n    <tr>\n      <th>std</th>\n      <td>0.27266</td>\n      <td>0.337998</td>\n      <td>48.031299</td>\n      <td>181.936853</td>\n      <td>27.77496</td>\n      <td>50.221807</td>\n      <td>11.117277</td>\n      <td>1.445124</td>\n      <td>7.975537</td>\n      <td>28.34793</td>\n      <td>3.694878</td>\n      <td>1.067613</td>\n      <td>25.812649</td>\n      <td>32.804496</td>\n      <td>5.042957</td>\n      <td>2.23055</td>\n      <td>2.919042</td>\n      <td>2.035046</td>\n      <td>5.201826</td>\n    </tr>\n    <tr>\n      <th>min</th>\n      <td>2006.00000</td>\n      <td>1.000000</td>\n      <td>1.000000</td>\n      <td>0.000000</td>\n      <td>0.00000</td>\n      <td>0.000000</td>\n      <td>0.000000</td>\n      <td>0.000000</td>\n      <td>0.000000</td>\n      <td>0.00000</td>\n      <td>0.000000</td>\n      <td>0.000000</td>\n      <td>0.000000</td>\n      <td>0.000000</td>\n      <td>0.000000</td>\n      <td>0.00000</td>\n      <td>0.000000</td>\n      <td>0.000000</td>\n      <td>0.000000</td>\n    </tr>\n    <tr>\n      <th>25%</th>\n      <td>2007.00000</td>\n      <td>1.000000</td>\n      <td>9.500000</td>\n      <td>2.000000</td>\n      <td>0.00000</td>\n      <td>0.000000</td>\n      <td>0.000000</td>\n      <td>0.000000</td>\n      <td>0.000000</td>\n      <td>0.00000</td>\n      <td>0.000000</td>\n      <td>0.000000</td>\n      <td>0.000000</td>\n      <td>1.000000</td>\n      <td>0.000000</td>\n      <td>0.00000</td>\n      <td>0.000000</td>\n      <td>0.000000</td>\n      <td>0.000000</td>\n    </tr>\n    <tr>\n      <th>50%</th>\n      <td>2007.00000</td>\n      <td>1.000000</td>\n      <td>33.000000</td>\n      <td>40.500000</td>\n      <td>2.00000</td>\n      <td>8.000000</td>\n      <td>1.000000</td>\n      <td>0.000000</td>\n      <td>0.000000</td>\n      <td>2.00000</td>\n      <td>0.000000</td>\n      <td>0.000000</td>\n      <td>1.000000</td>\n      <td>7.000000</td>\n      <td>0.000000</td>\n      <td>0.00000</td>\n      <td>0.000000</td>\n      <td>0.000000</td>\n      <td>1.000000</td>\n    </tr>\n    <tr>\n      <th>75%</th>\n      <td>2007.00000</td>\n      <td>1.000000</td>\n      <td>83.250000</td>\n      <td>243.750000</td>\n      <td>33.25000</td>\n      <td>62.750000</td>\n      <td>11.750000</td>\n      <td>1.000000</td>\n      <td>6.000000</td>\n      <td>27.00000</td>\n      <td>1.000000</td>\n      <td>0.000000</td>\n      <td>19.250000</td>\n      <td>37.250000</td>\n      <td>1.250000</td>\n      <td>1.00000</td>\n      <td>1.000000</td>\n      <td>2.000000</td>\n      <td>6.000000</td>\n    </tr>\n    <tr>\n      <th>max</th>\n      <td>2007.00000</td>\n      <td>2.000000</td>\n      <td>155.000000</td>\n      <td>586.000000</td>\n      <td>107.00000</td>\n      <td>159.000000</td>\n      <td>52.000000</td>\n      <td>12.000000</td>\n      <td>35.000000</td>\n      <td>96.00000</td>\n      <td>22.000000</td>\n      <td>6.000000</td>\n      <td>132.000000</td>\n      <td>134.000000</td>\n      <td>43.000000</td>\n      <td>11.00000</td>\n      <td>14.000000</td>\n      <td>9.000000</td>\n      <td>21.000000</td>\n    </tr>\n  </tbody>\n</table>\n</div>"
     },
     "execution_count": 183,
     "metadata": {},
     "output_type": "execute_result"
    }
   ],
   "source": [
    "baseball.describe()"
   ]
  },
  {
   "cell_type": "markdown",
   "metadata": {},
   "source": [
    "`describe` can detect non-numeric data and sometimes yield useful information about it."
   ]
  },
  {
   "cell_type": "code",
   "execution_count": 184,
   "metadata": {
    "ExecuteTime": {
     "end_time": "2024-01-11T00:43:13.923100800Z",
     "start_time": "2024-01-11T00:43:13.887837200Z"
    }
   },
   "outputs": [
    {
     "data": {
      "text/plain": "count           100\nunique           82\ntop       wellsda01\nfreq              2\nName: player, dtype: object"
     },
     "execution_count": 184,
     "metadata": {},
     "output_type": "execute_result"
    }
   ],
   "source": [
    "baseball.player.describe()"
   ]
  },
  {
   "cell_type": "markdown",
   "metadata": {},
   "source": [
    "We can also calculate summary statistics *across* multiple columns, for example, correlation and covariance.\n",
    "\n",
    "$$cov(x,y) = \\sum_i (x_i - \\bar{x})(y_i - \\bar{y})$$"
   ]
  },
  {
   "cell_type": "code",
   "execution_count": 185,
   "metadata": {
    "ExecuteTime": {
     "end_time": "2024-01-11T00:43:22.071901900Z",
     "start_time": "2024-01-11T00:43:22.036791Z"
    }
   },
   "outputs": [
    {
     "data": {
      "text/plain": "69.07646464646454"
     },
     "execution_count": 185,
     "metadata": {},
     "output_type": "execute_result"
    }
   ],
   "source": [
    "baseball.hr.cov(baseball.X2b)"
   ]
  },
  {
   "cell_type": "markdown",
   "metadata": {},
   "source": [
    "$$corr(x,y) = \\frac{cov(x,y)}{(n-1)s_x s_y} = \\frac{\\sum_i (x_i - \\bar{x})(y_i - \\bar{y})}{\\sqrt{\\sum_i (x_i - \\bar{x})^2 \\sum_i (y_i - \\bar{y})^2}}$$"
   ]
  },
  {
   "cell_type": "code",
   "execution_count": 186,
   "metadata": {
    "ExecuteTime": {
     "end_time": "2024-01-11T00:43:42.236988700Z",
     "start_time": "2024-01-11T00:43:42.219817100Z"
    }
   },
   "outputs": [
    {
     "data": {
      "text/plain": "0.7790615182539742"
     },
     "execution_count": 186,
     "metadata": {},
     "output_type": "execute_result"
    }
   ],
   "source": [
    "baseball.hr.corr(baseball.X2b)"
   ]
  },
  {
   "cell_type": "code",
   "execution_count": 187,
   "metadata": {
    "ExecuteTime": {
     "end_time": "2024-01-11T00:43:46.554377Z",
     "start_time": "2024-01-11T00:43:46.466761600Z"
    }
   },
   "outputs": [
    {
     "data": {
      "text/plain": "0.9942174036272377"
     },
     "execution_count": 187,
     "metadata": {},
     "output_type": "execute_result"
    }
   ],
   "source": [
    "baseball.ab.corr(baseball.h)"
   ]
  },
  {
   "cell_type": "markdown",
   "metadata": {},
   "source": [
    "## Plotting\n",
    "Sometimes the correlation between two attributes is obvious when we plot them in the 2-d space. Also other kinds of plots (e.g., histograms) help us understand whether our data follows a particular law (e.g., a power law). Thus, it is crucial, not only to know how to select the appropriate slice of our dataset, but also how to properly visualize it. "
   ]
  },
  {
   "cell_type": "code",
   "execution_count": 188,
   "metadata": {
    "ExecuteTime": {
     "end_time": "2024-01-11T00:43:54.292560800Z",
     "start_time": "2024-01-11T00:43:53.391314800Z"
    }
   },
   "outputs": [
    {
     "data": {
      "text/plain": "<Axes: xlabel='hr', ylabel='X2b'>"
     },
     "execution_count": 188,
     "metadata": {},
     "output_type": "execute_result"
    },
    {
     "data": {
      "text/plain": "<Figure size 640x480 with 1 Axes>",
      "image/png": "[encoded data removed]"
     },
     "metadata": {},
     "output_type": "display_data"
    }
   ],
   "source": [
    "baseball.plot.scatter(x='hr', y='X2b')"
   ]
  },
  {
   "cell_type": "code",
   "execution_count": 189,
   "metadata": {
    "ExecuteTime": {
     "end_time": "2024-01-11T00:43:56.486379600Z",
     "start_time": "2024-01-11T00:43:56.280089900Z"
    }
   },
   "outputs": [
    {
     "data": {
      "text/plain": "<Axes: xlabel='ab', ylabel='h'>"
     },
     "execution_count": 189,
     "metadata": {},
     "output_type": "execute_result"
    },
    {
     "data": {
      "text/plain": "<Figure size 640x480 with 1 Axes>",
      "image/png": "[encoded data removed]"
     },
     "metadata": {},
     "output_type": "display_data"
    }
   ],
   "source": [
    "baseball.plot.scatter(x='ab', y='h')"
   ]
  },
  {
   "cell_type": "markdown",
   "metadata": {},
   "source": [
    "Do you understand which of the above has better correlation?"
   ]
  },
  {
   "cell_type": "code",
   "execution_count": 190,
   "metadata": {
    "ExecuteTime": {
     "end_time": "2024-01-11T00:44:00.134779500Z",
     "start_time": "2024-01-11T00:44:00.041169500Z"
    }
   },
   "outputs": [
    {
     "data": {
      "text/plain": "<Axes: >"
     },
     "execution_count": 190,
     "metadata": {},
     "output_type": "execute_result"
    },
    {
     "data": {
      "text/plain": "<Figure size 640x480 with 1 Axes>",
      "image/png": "[encoded data removed]"
     },
     "metadata": {},
     "output_type": "display_data"
    }
   ],
   "source": [
    "baseball['ab'].hist()"
   ]
  },
  {
   "cell_type": "code",
   "execution_count": 191,
   "metadata": {
    "ExecuteTime": {
     "end_time": "2024-01-11T00:44:04.189339800Z",
     "start_time": "2024-01-11T00:44:03.990231700Z"
    }
   },
   "outputs": [
    {
     "data": {
      "text/plain": "<Axes: >"
     },
     "execution_count": 191,
     "metadata": {},
     "output_type": "execute_result"
    },
    {
     "data": {
      "text/plain": "<Figure size 640x480 with 1 Axes>",
      "image/png": "[encoded data removed]"
     },
     "metadata": {},
     "output_type": "display_data"
    }
   ],
   "source": [
    "baseball['h'].hist()"
   ]
  },
  {
   "cell_type": "markdown",
   "metadata": {},
   "source": [
    "What do you observe in the distributions of the two attributes? Is it safe to say that they correlate based on the last two plots? Why we need also the scatterplots?"
   ]
  },
  {
   "cell_type": "markdown",
   "metadata": {},
   "source": [
    "\n",
    "## Writing Data to Files\n",
    "\n",
    "As well as being able to read several data input formats, Pandas can also export data to a variety of storage formats. We will bring your attention to just a couple of these."
   ]
  },
  {
   "cell_type": "code",
   "execution_count": 122,
   "metadata": {
    "ExecuteTime": {
     "end_time": "2024-01-10T21:07:44.518078100Z",
     "start_time": "2024-01-10T21:07:44.405963200Z"
    }
   },
   "outputs": [],
   "source": [
    "mb.to_csv(\"mb.csv\")"
   ]
  },
  {
   "cell_type": "markdown",
   "metadata": {},
   "source": [
    "The `to_csv` method writes a `DataFrame` to a comma-separated values (csv) file. You can specify custom delimiters (via `sep` argument), how missing values are written (via `na_rep` argument), whether the index is writen (via `index` argument), whether the header is included (via `header` argument), among other options."
   ]
  },
  {
   "cell_type": "markdown",
   "metadata": {},
   "source": [
    "An efficient way of storing data to disk is in **binary format**. Pandas supports this using Python’s built-in pickle serialization."
   ]
  },
  {
   "cell_type": "code",
   "execution_count": 123,
   "metadata": {
    "ExecuteTime": {
     "end_time": "2024-01-10T21:07:44.643519800Z",
     "start_time": "2024-01-10T21:07:44.502069800Z"
    }
   },
   "outputs": [
    {
     "ename": "NameError",
     "evalue": "name 'baseball' is not defined",
     "output_type": "error",
     "traceback": [
      "\u001B[0;31m---------------------------------------------------------------------------\u001B[0m",
      "\u001B[0;31mNameError\u001B[0m                                 Traceback (most recent call last)",
      "Cell \u001B[0;32mIn[123], line 1\u001B[0m\n\u001B[0;32m----> 1\u001B[0m \u001B[43mbaseball\u001B[49m\u001B[38;5;241m.\u001B[39mto_pickle(\u001B[38;5;124m\"\u001B[39m\u001B[38;5;124mbaseball_pickle\u001B[39m\u001B[38;5;124m\"\u001B[39m)\n",
      "\u001B[0;31mNameError\u001B[0m: name 'baseball' is not defined"
     ]
    }
   ],
   "source": [
    "baseball.to_pickle(\"baseball_pickle\")"
   ]
  },
  {
   "cell_type": "markdown",
   "metadata": {},
   "source": [
    "The complement to `to_pickle` is the `read_pickle` function, which restores the pickle to a `DataFrame` or `Series`:"
   ]
  },
  {
   "cell_type": "code",
   "execution_count": 124,
   "metadata": {
    "ExecuteTime": {
     "start_time": "2024-01-10T21:07:44.613209900Z"
    }
   },
   "outputs": [
    {
     "ename": "FileNotFoundError",
     "evalue": "[Errno 2] No such file or directory: 'baseball_pickle'",
     "output_type": "error",
     "traceback": [
      "\u001B[0;31m---------------------------------------------------------------------------\u001B[0m",
      "\u001B[0;31mFileNotFoundError\u001B[0m                         Traceback (most recent call last)",
      "Cell \u001B[0;32mIn[124], line 1\u001B[0m\n\u001B[0;32m----> 1\u001B[0m \u001B[43mpd\u001B[49m\u001B[38;5;241;43m.\u001B[39;49m\u001B[43mread_pickle\u001B[49m\u001B[43m(\u001B[49m\u001B[38;5;124;43m\"\u001B[39;49m\u001B[38;5;124;43mbaseball_pickle\u001B[39;49m\u001B[38;5;124;43m\"\u001B[39;49m\u001B[43m)\u001B[49m\u001B[38;5;241m.\u001B[39mhead()\n",
      "File \u001B[0;32m~/.virtualenvs/2023/lib/python3.10/site-packages/pandas/io/pickle.py:189\u001B[0m, in \u001B[0;36mread_pickle\u001B[0;34m(filepath_or_buffer, compression, storage_options)\u001B[0m\n\u001B[1;32m    125\u001B[0m \u001B[38;5;250m\u001B[39m\u001B[38;5;124;03m\"\"\"\u001B[39;00m\n\u001B[1;32m    126\u001B[0m \u001B[38;5;124;03mLoad pickled pandas object (or any object) from file.\u001B[39;00m\n\u001B[1;32m    127\u001B[0m \n\u001B[0;32m   (...)\u001B[0m\n\u001B[1;32m    186\u001B[0m \u001B[38;5;124;03m4    4    9\u001B[39;00m\n\u001B[1;32m    187\u001B[0m \u001B[38;5;124;03m\"\"\"\u001B[39;00m\n\u001B[1;32m    188\u001B[0m excs_to_catch \u001B[38;5;241m=\u001B[39m (\u001B[38;5;167;01mAttributeError\u001B[39;00m, \u001B[38;5;167;01mImportError\u001B[39;00m, \u001B[38;5;167;01mModuleNotFoundError\u001B[39;00m, \u001B[38;5;167;01mTypeError\u001B[39;00m)\n\u001B[0;32m--> 189\u001B[0m \u001B[38;5;28;01mwith\u001B[39;00m \u001B[43mget_handle\u001B[49m\u001B[43m(\u001B[49m\n\u001B[1;32m    190\u001B[0m \u001B[43m    \u001B[49m\u001B[43mfilepath_or_buffer\u001B[49m\u001B[43m,\u001B[49m\n\u001B[1;32m    191\u001B[0m \u001B[43m    \u001B[49m\u001B[38;5;124;43m\"\u001B[39;49m\u001B[38;5;124;43mrb\u001B[39;49m\u001B[38;5;124;43m\"\u001B[39;49m\u001B[43m,\u001B[49m\n\u001B[1;32m    192\u001B[0m \u001B[43m    \u001B[49m\u001B[43mcompression\u001B[49m\u001B[38;5;241;43m=\u001B[39;49m\u001B[43mcompression\u001B[49m\u001B[43m,\u001B[49m\n\u001B[1;32m    193\u001B[0m \u001B[43m    \u001B[49m\u001B[43mis_text\u001B[49m\u001B[38;5;241;43m=\u001B[39;49m\u001B[38;5;28;43;01mFalse\u001B[39;49;00m\u001B[43m,\u001B[49m\n\u001B[1;32m    194\u001B[0m \u001B[43m    \u001B[49m\u001B[43mstorage_options\u001B[49m\u001B[38;5;241;43m=\u001B[39;49m\u001B[43mstorage_options\u001B[49m\u001B[43m,\u001B[49m\n\u001B[1;32m    195\u001B[0m \u001B[43m\u001B[49m\u001B[43m)\u001B[49m \u001B[38;5;28;01mas\u001B[39;00m handles:\n\u001B[1;32m    196\u001B[0m     \u001B[38;5;66;03m# 1) try standard library Pickle\u001B[39;00m\n\u001B[1;32m    197\u001B[0m     \u001B[38;5;66;03m# 2) try pickle_compat (older pandas version) to handle subclass changes\u001B[39;00m\n\u001B[1;32m    198\u001B[0m     \u001B[38;5;66;03m# 3) try pickle_compat with latin-1 encoding upon a UnicodeDecodeError\u001B[39;00m\n\u001B[1;32m    200\u001B[0m     \u001B[38;5;28;01mtry\u001B[39;00m:\n\u001B[1;32m    201\u001B[0m         \u001B[38;5;66;03m# TypeError for Cython complaints about object.__new__ vs Tick.__new__\u001B[39;00m\n\u001B[1;32m    202\u001B[0m         \u001B[38;5;28;01mtry\u001B[39;00m:\n",
      "File \u001B[0;32m~/.virtualenvs/2023/lib/python3.10/site-packages/pandas/io/common.py:872\u001B[0m, in \u001B[0;36mget_handle\u001B[0;34m(path_or_buf, mode, encoding, compression, memory_map, is_text, errors, storage_options)\u001B[0m\n\u001B[1;32m    863\u001B[0m         handle \u001B[38;5;241m=\u001B[39m \u001B[38;5;28mopen\u001B[39m(\n\u001B[1;32m    864\u001B[0m             handle,\n\u001B[1;32m    865\u001B[0m             ioargs\u001B[38;5;241m.\u001B[39mmode,\n\u001B[0;32m   (...)\u001B[0m\n\u001B[1;32m    868\u001B[0m             newline\u001B[38;5;241m=\u001B[39m\u001B[38;5;124m\"\u001B[39m\u001B[38;5;124m\"\u001B[39m,\n\u001B[1;32m    869\u001B[0m         )\n\u001B[1;32m    870\u001B[0m     \u001B[38;5;28;01melse\u001B[39;00m:\n\u001B[1;32m    871\u001B[0m         \u001B[38;5;66;03m# Binary mode\u001B[39;00m\n\u001B[0;32m--> 872\u001B[0m         handle \u001B[38;5;241m=\u001B[39m \u001B[38;5;28;43mopen\u001B[39;49m\u001B[43m(\u001B[49m\u001B[43mhandle\u001B[49m\u001B[43m,\u001B[49m\u001B[43m \u001B[49m\u001B[43mioargs\u001B[49m\u001B[38;5;241;43m.\u001B[39;49m\u001B[43mmode\u001B[49m\u001B[43m)\u001B[49m\n\u001B[1;32m    873\u001B[0m     handles\u001B[38;5;241m.\u001B[39mappend(handle)\n\u001B[1;32m    875\u001B[0m \u001B[38;5;66;03m# Convert BytesIO or file objects passed with an encoding\u001B[39;00m\n",
      "\u001B[0;31mFileNotFoundError\u001B[0m: [Errno 2] No such file or directory: 'baseball_pickle'"
     ]
    }
   ],
   "source": [
    "pd.read_pickle(\"baseball_pickle\").head()"
   ]
  },
  {
   "cell_type": "markdown",
   "metadata": {},
   "source": [
    "As Wes warns in his book [1], it is recommended that binary storage of data via pickle only be used as a temporary storage format, in situations where speed is relevant. This is because there is no guarantee that the pickle format will not change with future versions of Python."
   ]
  },
  {
   "cell_type": "markdown",
   "metadata": {},
   "source": [
    "## References\n",
    "\n",
    "[1] [Python for Data Analysis](http://shop.oreilly.com/product/0636920023784.do) Wes McKinney"
   ]
  }
 ],
 "metadata": {
  "anaconda-cloud": {},
  "kernelspec": {
   "display_name": "Python 3 (ipykernel)",
   "language": "python",
   "name": "python3"
  },
  "language_info": {
   "codemirror_mode": {
    "name": "ipython",
    "version": 3
   },
   "file_extension": ".py",
   "mimetype": "text/x-python",
   "name": "python",
   "nbconvert_exporter": "python",
   "pygments_lexer": "ipython3",
   "version": "3.9.18"
  },
  "nav_menu": {},
  "toc": {
   "base_numbering": 1,
   "nav_menu": {},
   "number_sections": false,
   "sideBar": false,
   "skip_h1_title": false,
   "title_cell": "Table of Contents",
   "title_sidebar": "Contents",
   "toc_cell": true,
   "toc_position": {
    "height": "100px",
    "left": "10px",
    "top": "150px",
    "width": "165px"
   },
   "toc_section_display": true,
   "toc_window_display": false
  },
  "varInspector": {
   "cols": {
    "lenName": 16,
    "lenType": 16,
    "lenVar": 40
   },
   "kernels_config": {
    "python": {
     "delete_cmd_postfix": "",
     "delete_cmd_prefix": "del ",
     "library": "var_list.py",
     "varRefreshCmd": "print(var_dic_list())"
    },
    "r": {
     "delete_cmd_postfix": ") ",
     "delete_cmd_prefix": "rm(",
     "library": "var_list.r",
     "varRefreshCmd": "cat(var_dic_list()) "
    }
   },
   "types_to_exclude": [
    "module",
    "function",
    "builtin_function_or_method",
    "instance",
    "_Feature"
   ],
   "window_display": false
  }
 },
 "nbformat": 4,
 "nbformat_minor": 4
}
